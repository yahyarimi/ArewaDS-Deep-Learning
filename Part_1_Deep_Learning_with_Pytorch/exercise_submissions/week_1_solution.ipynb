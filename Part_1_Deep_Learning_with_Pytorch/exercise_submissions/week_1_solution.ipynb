{
 "cells": [
  {
   "cell_type": "markdown",
   "metadata": {},
   "source": [
    "<a href=\"https://colab.research.google.com/github/arewadataScience/ArewaDS-Deep-Learning/blob/main/Part_1_Deep_Learning_with_Pytorch/week1/week_1_exercises.ipynb\" target=\"_parent\"><img src=\"https://colab.research.google.com/assets/colab-badge.svg\" alt=\"Open In Colab\"/></a> "
   ]
  },
  {
   "cell_type": "markdown",
   "metadata": {
    "tags": []
   },
   "source": [
    "### **Arewa Data Science Academy**\n",
    "\n",
    "#### **Deep Learning Cohort2.0**\n",
    "\n",
    "##### Name: Yahya Abdurrazaq\n",
    "\n",
    "##### Email: yahyarimi01@.com\n",
    "\n",
    "##### Title: Week 1 Solution"
   ]
  },
  {
   "cell_type": "markdown",
   "metadata": {
    "tags": []
   },
   "source": [
    "### **Exercises Solution**"
   ]
  },
  {
   "cell_type": "markdown",
   "metadata": {
    "vscode": {
     "languageId": "plaintext"
    }
   },
   "source": [
    "2. Create a random tensor with shape(7, 7)."
   ]
  },
  {
   "cell_type": "code",
   "execution_count": 1,
   "metadata": {
    "tags": []
   },
   "outputs": [
    {
     "data": {
      "text/plain": [
       "tensor([[0.4054, 0.8581, 0.3707, 0.8445, 0.2553, 0.8593, 0.1254],\n",
       "        [0.4704, 0.9822, 0.1112, 0.8674, 0.7007, 0.9449, 0.4728],\n",
       "        [0.1283, 0.1810, 0.9365, 0.7353, 0.8902, 0.1509, 0.0924],\n",
       "        [0.8609, 0.9499, 0.6028, 0.9462, 0.4022, 0.9195, 0.0317],\n",
       "        [0.2363, 0.0609, 0.9354, 0.4703, 0.4625, 0.4514, 0.7300],\n",
       "        [0.4615, 0.3377, 0.6496, 0.1629, 0.0490, 0.6178, 0.2586],\n",
       "        [0.5019, 0.9761, 0.7034, 0.9896, 0.4561, 0.8404, 0.2958]])"
      ]
     },
     "execution_count": 1,
     "metadata": {},
     "output_type": "execute_result"
    }
   ],
   "source": [
    "import torch\n",
    "import random\n",
    "\n",
    "random_tensor = torch.rand(7, 7)\n",
    "random_tensor"
   ]
  },
  {
   "cell_type": "markdown",
   "metadata": {},
   "source": [
    "3.  Perform a matrix multiplication on the tensor from 2 with another random tensor with shape (1, 7) (hint: you may have to transpose the second tensor)."
   ]
  },
  {
   "cell_type": "code",
   "execution_count": 2,
   "metadata": {
    "tags": []
   },
   "outputs": [
    {
     "data": {
      "text/plain": [
       "tensor([[2.3162],\n",
       "        [3.1335],\n",
       "        [1.6219],\n",
       "        [2.6792],\n",
       "        [1.9856],\n",
       "        [1.4121],\n",
       "        [2.8612]])"
      ]
     },
     "execution_count": 2,
     "metadata": {},
     "output_type": "execute_result"
    }
   ],
   "source": [
    "random_tensor_2 = torch.rand(1, 7)\n",
    "random_tensor_2_trans = random_tensor_2.T\n",
    "\n",
    "result = torch.matmul(random_tensor, random_tensor_2_trans)\n",
    "result"
   ]
  },
  {
   "cell_type": "markdown",
   "metadata": {},
   "source": [
    "4. Set the random seed to 0 and do 2 & 3 over again."
   ]
  },
  {
   "cell_type": "code",
   "execution_count": 3,
   "metadata": {
    "tags": []
   },
   "outputs": [
    {
     "data": {
      "text/plain": [
       "(tensor([[1.5985],\n",
       "         [1.1173],\n",
       "         [1.2741],\n",
       "         [1.6838],\n",
       "         [0.8279],\n",
       "         [1.0347],\n",
       "         [1.2498]]),\n",
       " torch.Size([7, 1]))"
      ]
     },
     "execution_count": 3,
     "metadata": {},
     "output_type": "execute_result"
    }
   ],
   "source": [
    "RANDOM_SEED=0\n",
    "\n",
    "torch.manual_seed(seed=RANDOM_SEED)\n",
    "random_tensor_A = torch.rand(7, 7)\n",
    "\n",
    "torch.random.manual_seed(seed=RANDOM_SEED)\n",
    "random_tensor_B = torch.rand(1, 7)\n",
    "random_tensor_B = random_tensor_B.T\n",
    "\n",
    "result_2 = random_tensor_A @ random_tensor_B\n",
    "result_2, result_2.shape"
   ]
  },
  {
   "cell_type": "markdown",
   "metadata": {},
   "source": [
    "5. Speaking of random seeds, we saw how to set it with torch.manual_seed() but is there a GPU equivalent? (hint: you'll need to look into the documentation for torch.cuda for this one)"
   ]
  },
  {
   "cell_type": "code",
   "execution_count": 4,
   "metadata": {
    "tags": []
   },
   "outputs": [],
   "source": [
    "torch.cuda.manual_seed(0)"
   ]
  },
  {
   "cell_type": "markdown",
   "metadata": {},
   "source": [
    "6. Create two random tensors of shape (2, 3) and send them both to the GPU (you'll need access to a GPU for this). Set torch.manual_seed(1234) when creating the tensors (this doesn't have to be the GPU random seed). The output should be something like:"
   ]
  },
  {
   "cell_type": "code",
   "execution_count": 5,
   "metadata": {
    "tags": []
   },
   "outputs": [
    {
     "name": "stderr",
     "output_type": "stream",
     "text": [
      "'nvidia-smi' is not recognized as an internal or external command,\n",
      "operable program or batch file.\n"
     ]
    },
    {
     "data": {
      "text/plain": [
       "(tensor([[0.8964, 0.4556, 0.6323],\n",
       "         [0.3489, 0.4017, 0.0223]]),\n",
       " tensor([[0.0290, 0.4019, 0.2598],\n",
       "         [0.3666, 0.0583, 0.7006]]))"
      ]
     },
     "execution_count": 5,
     "metadata": {},
     "output_type": "execute_result"
    }
   ],
   "source": [
    "RANDOM_SEED = 1234\n",
    "\n",
    "!nvidia-smi\n",
    "torch.cuda.is_available()\n",
    "\n",
    "torch.cuda.manual_seed(RANDOM_SEED)\n",
    "random_tensor_C = torch.rand(2, 3, device='cpu')\n",
    "\n",
    "torch.random.manual_seed(RANDOM_SEED)\n",
    "random_tensor_D = torch.rand(2, 3, device='cpu')\n",
    "\n",
    "random_tensor_C, random_tensor_D"
   ]
  },
  {
   "cell_type": "markdown",
   "metadata": {},
   "source": [
    "7. Perform a matrix multiplication on the tensors you created in 6 (again, you may have to adjust the shapes of one of the tensors)."
   ]
  },
  {
   "cell_type": "code",
   "execution_count": 6,
   "metadata": {
    "tags": []
   },
   "outputs": [
    {
     "data": {
      "text/plain": [
       "(tensor([[0.3734, 0.7983],\n",
       "         [0.1774, 0.1670]]),\n",
       " device(type='cpu'),\n",
       " torch.Size([2, 2]))"
      ]
     },
     "execution_count": 6,
     "metadata": {},
     "output_type": "execute_result"
    }
   ],
   "source": [
    "result_3 = torch.matmul(random_tensor_C, random_tensor_D.T)\n",
    "result_3, result_3.device, result_3.shape"
   ]
  },
  {
   "cell_type": "markdown",
   "metadata": {},
   "source": [
    "8. Find the maximum and minimum values of the output of 7"
   ]
  },
  {
   "cell_type": "code",
   "execution_count": 7,
   "metadata": {
    "tags": []
   },
   "outputs": [
    {
     "data": {
      "text/plain": [
       "(tensor(1), tensor(3))"
      ]
     },
     "execution_count": 7,
     "metadata": {},
     "output_type": "execute_result"
    }
   ],
   "source": [
    "maximum = torch.argmax(result_3)\n",
    "minimum = torch.argmin(result_3)\n",
    "\n",
    "maximum, minimum"
   ]
  },
  {
   "cell_type": "markdown",
   "metadata": {},
   "source": [
    "10. Make a random tensor with shape (1, 1, 1, 10) and then create a new tensor with all the 1 dimensions removed to be left with a tensor of shape (10). Set the seed to 7 when you create it and print out the first tensor and it's shape as well as the second tensor and it's shape.\n"
   ]
  },
  {
   "cell_type": "code",
   "execution_count": 8,
   "metadata": {
    "tags": []
   },
   "outputs": [
    {
     "data": {
      "text/plain": [
       "(tensor([[[[0.5349, 0.1988, 0.6592, 0.6569, 0.2328, 0.4251, 0.2071, 0.6297,\n",
       "            0.3653, 0.8513]]]]),\n",
       " torch.Size([1, 1, 1, 10]),\n",
       " tensor([0.5349, 0.1988, 0.6592, 0.6569, 0.2328, 0.4251, 0.2071, 0.6297, 0.3653,\n",
       "         0.8513]),\n",
       " torch.Size([10]))"
      ]
     },
     "execution_count": 8,
     "metadata": {},
     "output_type": "execute_result"
    }
   ],
   "source": [
    "RANDOM_SEED=7\n",
    "\n",
    "torch.manual_seed(RANDOM_SEED)\n",
    "random_tensor_E = torch.rand(1,1,1,10)\n",
    "\n",
    "torch.random.manual_seed(RANDOM_SEED)\n",
    "random_tensor_F = torch.rand(10)\n",
    "\n",
    "random_tensor_E, random_tensor_E.shape, random_tensor_F, random_tensor_F.shape"
   ]
  },
  {
   "cell_type": "code",
   "execution_count": null,
   "metadata": {},
   "outputs": [],
   "source": []
  }
 ],
 "metadata": {
  "kernelspec": {
   "display_name": "Python 3 (ipykernel)",
   "language": "python",
   "name": "python3"
  },
  "language_info": {
   "codemirror_mode": {
    "name": "ipython",
    "version": 3
   },
   "file_extension": ".py",
   "mimetype": "text/x-python",
   "name": "python",
   "nbconvert_exporter": "python",
   "pygments_lexer": "ipython3",
   "version": "3.7.0"
  }
 },
 "nbformat": 4,
 "nbformat_minor": 4
}

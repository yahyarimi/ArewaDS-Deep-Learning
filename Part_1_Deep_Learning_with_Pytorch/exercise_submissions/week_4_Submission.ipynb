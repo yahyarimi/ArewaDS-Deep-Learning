{
  "cells": [
    {
      "cell_type": "markdown",
      "metadata": {
        "id": "fkQhgGWZ43Mc"
      },
      "source": [
        "<a href=\"https://colab.research.google.com/github/arewadataScience/ArewaDS-Deep-Learning/blob/main/Part_1_Deep_Learning_with_Pytorch/week4/week_4_exercises.ipynb\" target=\"_parent\"><img src=\"https://colab.research.google.com/assets/colab-badge.svg\" alt=\"Open In Colab\"/></a>"
      ]
    },
    {
      "cell_type": "markdown",
      "metadata": {
        "id": "q_Hb4tWi43Md"
      },
      "source": [
        "### **Arewa Data Science Academy**\n",
        "\n",
        "#### **Deep Learning Cohort2.0**\n",
        "\n",
        "##### Name: Yahya Abdurrazaq\n",
        "\n",
        "##### Email: yahyarimi01@.com\n",
        "\n",
        "##### Title: Week 4 Solution"
      ]
    },
    {
      "cell_type": "markdown",
      "metadata": {
        "id": "CkxvqAbA43Me"
      },
      "source": [
        "### Exercises:\n",
        "Please, see week 4 exercises from [**Learn PyTorch for Deep Learning**: 03. Pytorch Computer Vision](https://www.learnpytorch.io/03_pytorch_computer_vision/#exercises)"
      ]
    },
    {
      "cell_type": "code",
      "execution_count": 1,
      "metadata": {
        "vscode": {
          "languageId": "plaintext"
        },
        "id": "SRr4bN8i43Me",
        "outputId": "3de878ff-4cdf-4b2b-c5b6-7f4e5d51ffa9",
        "colab": {
          "base_uri": "https://localhost:8080/"
        }
      },
      "outputs": [
        {
          "output_type": "stream",
          "name": "stdout",
          "text": [
            "Sat Feb 22 18:38:33 2025       \n",
            "+-----------------------------------------------------------------------------------------+\n",
            "| NVIDIA-SMI 550.54.15              Driver Version: 550.54.15      CUDA Version: 12.4     |\n",
            "|-----------------------------------------+------------------------+----------------------+\n",
            "| GPU  Name                 Persistence-M | Bus-Id          Disp.A | Volatile Uncorr. ECC |\n",
            "| Fan  Temp   Perf          Pwr:Usage/Cap |           Memory-Usage | GPU-Util  Compute M. |\n",
            "|                                         |                        |               MIG M. |\n",
            "|=========================================+========================+======================|\n",
            "|   0  Tesla T4                       Off |   00000000:00:04.0 Off |                    0 |\n",
            "| N/A   41C    P8              9W /   70W |       0MiB /  15360MiB |      0%      Default |\n",
            "|                                         |                        |                  N/A |\n",
            "+-----------------------------------------+------------------------+----------------------+\n",
            "                                                                                         \n",
            "+-----------------------------------------------------------------------------------------+\n",
            "| Processes:                                                                              |\n",
            "|  GPU   GI   CI        PID   Type   Process name                              GPU Memory |\n",
            "|        ID   ID                                                               Usage      |\n",
            "|=========================================================================================|\n",
            "|  No running processes found                                                             |\n",
            "+-----------------------------------------------------------------------------------------+\n"
          ]
        }
      ],
      "source": [
        "# Check for GPU\n",
        "!nvidia-smi"
      ]
    },
    {
      "cell_type": "code",
      "source": [
        "# Import torch\n",
        "import torch\n",
        "\n",
        "# Exercises require PyTorch > 1.10.0\n",
        "print(torch.__version__)\n",
        "\n",
        "# Setup device agnostic code\n",
        "device = \"cuda\" if torch.cuda.is_available() else \"cpu\"\n",
        "device"
      ],
      "metadata": {
        "id": "S4lcPyeH5PE7",
        "outputId": "64045ef7-d43e-41a8-906f-967f21d7820a",
        "colab": {
          "base_uri": "https://localhost:8080/",
          "height": 53
        }
      },
      "execution_count": 2,
      "outputs": [
        {
          "output_type": "stream",
          "name": "stdout",
          "text": [
            "2.5.1+cu124\n"
          ]
        },
        {
          "output_type": "execute_result",
          "data": {
            "text/plain": [
              "'cuda'"
            ],
            "application/vnd.google.colaboratory.intrinsic+json": {
              "type": "string"
            }
          },
          "metadata": {},
          "execution_count": 2
        }
      ]
    },
    {
      "cell_type": "markdown",
      "source": [
        "### **1. What are 3 areas in industry where computer vision is currently being used?**"
      ],
      "metadata": {
        "id": "XJMssCiP5l4U"
      }
    },
    {
      "cell_type": "markdown",
      "source": [
        "1. Healthcare:\n",
        "\n",
        "Medical Imaging: Computer vision is used to analyze medical images such as X-rays, MRIs, and CT scans to detect diseases like cancer, fractures, and other abnormalities.\n",
        "\n",
        "Surgical Assistance: It aids in robotic surgeries by providing real-time visual guidance and precision.\n",
        "\n",
        "Patient Monitoring: Computer vision systems can monitor patients' movements and vital signs, helping detect falls or emergencies in hospitals or care facilities.\n",
        "\n",
        "2. Retail and E-commerce:\n",
        "\n",
        "Automated Checkout: Systems like Amazon Go use computer vision to enable cashier-less shopping experiences.\n",
        "\n",
        "Inventory Management: It helps track and manage stock levels by recognizing products on shelves.\n",
        "\n",
        "Virtual Try-On: Augmented reality (AR) powered by computer vision allows customers to virtually try on clothes, accessories, or makeup.\n",
        "\n",
        "3. Automotive and Transportation:\n",
        "\n",
        "Autonomous Vehicles: Computer vision is critical for self-driving cars to detect and interpret road conditions, pedestrians, and other vehicles.\n",
        "\n",
        "Traffic Monitoring: It is used to analyze traffic patterns, detect accidents, and manage congestion.\n",
        "\n",
        "Driver Assistance: Features like lane departure warnings, collision detection, and parking assistance rely on computer vision."
      ],
      "metadata": {
        "id": "4TqVHEkz5nsn"
      }
    },
    {
      "cell_type": "markdown",
      "source": [
        "### **2. Search \"what is overfitting in machine learning\" and write down a sentence about what you find.**"
      ],
      "metadata": {
        "id": "QN5_42AC5sa_"
      }
    },
    {
      "cell_type": "markdown",
      "source": [
        "Overfitting in machine learning occurs when a model learns the training data too well, capturing noise and details to the extent that it performs poorly on new, unseen data, essentially failing to generalize."
      ],
      "metadata": {
        "id": "YDG5Idpk5voH"
      }
    },
    {
      "cell_type": "markdown",
      "source": [
        "### **3. Search \"ways to prevent overfitting in machine learning\", write down 3 of the things you find and a sentence about each.**"
      ],
      "metadata": {
        "id": "lUXrRtJs5zAq"
      }
    },
    {
      "cell_type": "markdown",
      "source": [
        "1. Cross-Validation:\n",
        "\n",
        "Cross-validation involves splitting the data into multiple subsets and training the model on different combinations of these subsets. This helps ensure the model generalizes well to unseen data by evaluating its performance across various training and validation sets.\n",
        "\n",
        "2. Regularization:\n",
        "\n",
        "Regularization techniques, such as L1 (Lasso) or L2 (Ridge), add a penalty to the model's loss function to discourage overly complex models. This helps reduce overfitting by limiting the model's ability to fit noise in the training data.\n",
        "\n",
        "3. Early Stopping:\n",
        "\n",
        "Early stopping involves monitoring the model's performance on a validation set during training and stopping the training process when performance starts to degrade. This prevents the model from learning noise and overfitting the training data."
      ],
      "metadata": {
        "id": "olZWcoWl52BJ"
      }
    },
    {
      "cell_type": "markdown",
      "source": [
        "### **5. Load the torchvision.datasets.MNIST() train and test datasets.**"
      ],
      "metadata": {
        "id": "W2bMPtgB544C"
      }
    },
    {
      "cell_type": "code",
      "source": [
        "import torchvision\n",
        "from torchvision import datasets\n",
        "\n",
        "from torchvision import transforms"
      ],
      "metadata": {
        "id": "4GjiPed95hqb"
      },
      "execution_count": 3,
      "outputs": []
    },
    {
      "cell_type": "code",
      "source": [
        "# Get the MNIST train dataset\n",
        "train_data = datasets.MNIST(root=\".\",\n",
        "                            train=True,\n",
        "                            download=True,\n",
        "                            transform=transforms.ToTensor()) # do we want to transform the data as we download it?\n",
        "\n",
        "# Get the MNIST test dataset\n",
        "test_data = datasets.MNIST(root=\".\",\n",
        "                           train=False,\n",
        "                           download=True,\n",
        "                           transform=transforms.ToTensor())"
      ],
      "metadata": {
        "id": "A1rzmal45hX_",
        "outputId": "5e9f62a8-155c-45cc-e885-1ec891dc19e8",
        "colab": {
          "base_uri": "https://localhost:8080/"
        }
      },
      "execution_count": 4,
      "outputs": [
        {
          "output_type": "stream",
          "name": "stdout",
          "text": [
            "Downloading http://yann.lecun.com/exdb/mnist/train-images-idx3-ubyte.gz\n",
            "Failed to download (trying next):\n",
            "HTTP Error 404: Not Found\n",
            "\n",
            "Downloading https://ossci-datasets.s3.amazonaws.com/mnist/train-images-idx3-ubyte.gz\n",
            "Downloading https://ossci-datasets.s3.amazonaws.com/mnist/train-images-idx3-ubyte.gz to ./MNIST/raw/train-images-idx3-ubyte.gz\n"
          ]
        },
        {
          "output_type": "stream",
          "name": "stderr",
          "text": [
            "100%|██████████| 9.91M/9.91M [00:01<00:00, 5.01MB/s]\n"
          ]
        },
        {
          "output_type": "stream",
          "name": "stdout",
          "text": [
            "Extracting ./MNIST/raw/train-images-idx3-ubyte.gz to ./MNIST/raw\n",
            "\n",
            "Downloading http://yann.lecun.com/exdb/mnist/train-labels-idx1-ubyte.gz\n",
            "Failed to download (trying next):\n",
            "HTTP Error 404: Not Found\n",
            "\n",
            "Downloading https://ossci-datasets.s3.amazonaws.com/mnist/train-labels-idx1-ubyte.gz\n",
            "Downloading https://ossci-datasets.s3.amazonaws.com/mnist/train-labels-idx1-ubyte.gz to ./MNIST/raw/train-labels-idx1-ubyte.gz\n"
          ]
        },
        {
          "output_type": "stream",
          "name": "stderr",
          "text": [
            "100%|██████████| 28.9k/28.9k [00:00<00:00, 133kB/s]\n"
          ]
        },
        {
          "output_type": "stream",
          "name": "stdout",
          "text": [
            "Extracting ./MNIST/raw/train-labels-idx1-ubyte.gz to ./MNIST/raw\n",
            "\n",
            "Downloading http://yann.lecun.com/exdb/mnist/t10k-images-idx3-ubyte.gz\n",
            "Failed to download (trying next):\n",
            "HTTP Error 404: Not Found\n",
            "\n",
            "Downloading https://ossci-datasets.s3.amazonaws.com/mnist/t10k-images-idx3-ubyte.gz\n",
            "Downloading https://ossci-datasets.s3.amazonaws.com/mnist/t10k-images-idx3-ubyte.gz to ./MNIST/raw/t10k-images-idx3-ubyte.gz\n"
          ]
        },
        {
          "output_type": "stream",
          "name": "stderr",
          "text": [
            "100%|██████████| 1.65M/1.65M [00:01<00:00, 1.25MB/s]\n"
          ]
        },
        {
          "output_type": "stream",
          "name": "stdout",
          "text": [
            "Extracting ./MNIST/raw/t10k-images-idx3-ubyte.gz to ./MNIST/raw\n",
            "\n",
            "Downloading http://yann.lecun.com/exdb/mnist/t10k-labels-idx1-ubyte.gz\n",
            "Failed to download (trying next):\n",
            "HTTP Error 404: Not Found\n",
            "\n",
            "Downloading https://ossci-datasets.s3.amazonaws.com/mnist/t10k-labels-idx1-ubyte.gz\n",
            "Downloading https://ossci-datasets.s3.amazonaws.com/mnist/t10k-labels-idx1-ubyte.gz to ./MNIST/raw/t10k-labels-idx1-ubyte.gz\n"
          ]
        },
        {
          "output_type": "stream",
          "name": "stderr",
          "text": [
            "100%|██████████| 4.54k/4.54k [00:00<00:00, 5.43MB/s]"
          ]
        },
        {
          "output_type": "stream",
          "name": "stdout",
          "text": [
            "Extracting ./MNIST/raw/t10k-labels-idx1-ubyte.gz to ./MNIST/raw\n",
            "\n"
          ]
        },
        {
          "output_type": "stream",
          "name": "stderr",
          "text": [
            "\n"
          ]
        }
      ]
    },
    {
      "cell_type": "code",
      "source": [
        "train_data, test_data"
      ],
      "metadata": {
        "id": "l6SOWoC05hMt",
        "outputId": "60e5f439-9b84-40c9-854d-96d232c25d4b",
        "colab": {
          "base_uri": "https://localhost:8080/"
        }
      },
      "execution_count": 5,
      "outputs": [
        {
          "output_type": "execute_result",
          "data": {
            "text/plain": [
              "(Dataset MNIST\n",
              "     Number of datapoints: 60000\n",
              "     Root location: .\n",
              "     Split: Train\n",
              "     StandardTransform\n",
              " Transform: ToTensor(),\n",
              " Dataset MNIST\n",
              "     Number of datapoints: 10000\n",
              "     Root location: .\n",
              "     Split: Test\n",
              "     StandardTransform\n",
              " Transform: ToTensor())"
            ]
          },
          "metadata": {},
          "execution_count": 5
        }
      ]
    },
    {
      "cell_type": "code",
      "source": [
        "len(train_data), len(test_data)"
      ],
      "metadata": {
        "id": "lG0j2ffp5hBN",
        "outputId": "cf7d75e1-efb9-483f-9a5b-652b18b1c4e8",
        "colab": {
          "base_uri": "https://localhost:8080/"
        }
      },
      "execution_count": 6,
      "outputs": [
        {
          "output_type": "execute_result",
          "data": {
            "text/plain": [
              "(60000, 10000)"
            ]
          },
          "metadata": {},
          "execution_count": 6
        }
      ]
    },
    {
      "cell_type": "code",
      "source": [
        "# Data is in tuple form (image, label)\n",
        "img = train_data[0][0]\n",
        "label = train_data[0][1]\n",
        "print(f\"Image:\\n {img}\")\n",
        "print(f\"Label:\\n {label}\")"
      ],
      "metadata": {
        "id": "lz09nYfc5g0b",
        "outputId": "d33e75f8-36d3-482b-9b8b-aea1ebda4c48",
        "colab": {
          "base_uri": "https://localhost:8080/"
        }
      },
      "execution_count": 7,
      "outputs": [
        {
          "output_type": "stream",
          "name": "stdout",
          "text": [
            "Image:\n",
            " tensor([[[0.0000, 0.0000, 0.0000, 0.0000, 0.0000, 0.0000, 0.0000, 0.0000,\n",
            "          0.0000, 0.0000, 0.0000, 0.0000, 0.0000, 0.0000, 0.0000, 0.0000,\n",
            "          0.0000, 0.0000, 0.0000, 0.0000, 0.0000, 0.0000, 0.0000, 0.0000,\n",
            "          0.0000, 0.0000, 0.0000, 0.0000],\n",
            "         [0.0000, 0.0000, 0.0000, 0.0000, 0.0000, 0.0000, 0.0000, 0.0000,\n",
            "          0.0000, 0.0000, 0.0000, 0.0000, 0.0000, 0.0000, 0.0000, 0.0000,\n",
            "          0.0000, 0.0000, 0.0000, 0.0000, 0.0000, 0.0000, 0.0000, 0.0000,\n",
            "          0.0000, 0.0000, 0.0000, 0.0000],\n",
            "         [0.0000, 0.0000, 0.0000, 0.0000, 0.0000, 0.0000, 0.0000, 0.0000,\n",
            "          0.0000, 0.0000, 0.0000, 0.0000, 0.0000, 0.0000, 0.0000, 0.0000,\n",
            "          0.0000, 0.0000, 0.0000, 0.0000, 0.0000, 0.0000, 0.0000, 0.0000,\n",
            "          0.0000, 0.0000, 0.0000, 0.0000],\n",
            "         [0.0000, 0.0000, 0.0000, 0.0000, 0.0000, 0.0000, 0.0000, 0.0000,\n",
            "          0.0000, 0.0000, 0.0000, 0.0000, 0.0000, 0.0000, 0.0000, 0.0000,\n",
            "          0.0000, 0.0000, 0.0000, 0.0000, 0.0000, 0.0000, 0.0000, 0.0000,\n",
            "          0.0000, 0.0000, 0.0000, 0.0000],\n",
            "         [0.0000, 0.0000, 0.0000, 0.0000, 0.0000, 0.0000, 0.0000, 0.0000,\n",
            "          0.0000, 0.0000, 0.0000, 0.0000, 0.0000, 0.0000, 0.0000, 0.0000,\n",
            "          0.0000, 0.0000, 0.0000, 0.0000, 0.0000, 0.0000, 0.0000, 0.0000,\n",
            "          0.0000, 0.0000, 0.0000, 0.0000],\n",
            "         [0.0000, 0.0000, 0.0000, 0.0000, 0.0000, 0.0000, 0.0000, 0.0000,\n",
            "          0.0000, 0.0000, 0.0000, 0.0000, 0.0118, 0.0706, 0.0706, 0.0706,\n",
            "          0.4941, 0.5333, 0.6863, 0.1020, 0.6510, 1.0000, 0.9686, 0.4980,\n",
            "          0.0000, 0.0000, 0.0000, 0.0000],\n",
            "         [0.0000, 0.0000, 0.0000, 0.0000, 0.0000, 0.0000, 0.0000, 0.0000,\n",
            "          0.1176, 0.1412, 0.3686, 0.6039, 0.6667, 0.9922, 0.9922, 0.9922,\n",
            "          0.9922, 0.9922, 0.8824, 0.6745, 0.9922, 0.9490, 0.7647, 0.2510,\n",
            "          0.0000, 0.0000, 0.0000, 0.0000],\n",
            "         [0.0000, 0.0000, 0.0000, 0.0000, 0.0000, 0.0000, 0.0000, 0.1922,\n",
            "          0.9333, 0.9922, 0.9922, 0.9922, 0.9922, 0.9922, 0.9922, 0.9922,\n",
            "          0.9922, 0.9843, 0.3647, 0.3216, 0.3216, 0.2196, 0.1529, 0.0000,\n",
            "          0.0000, 0.0000, 0.0000, 0.0000],\n",
            "         [0.0000, 0.0000, 0.0000, 0.0000, 0.0000, 0.0000, 0.0000, 0.0706,\n",
            "          0.8588, 0.9922, 0.9922, 0.9922, 0.9922, 0.9922, 0.7765, 0.7137,\n",
            "          0.9686, 0.9451, 0.0000, 0.0000, 0.0000, 0.0000, 0.0000, 0.0000,\n",
            "          0.0000, 0.0000, 0.0000, 0.0000],\n",
            "         [0.0000, 0.0000, 0.0000, 0.0000, 0.0000, 0.0000, 0.0000, 0.0000,\n",
            "          0.3137, 0.6118, 0.4196, 0.9922, 0.9922, 0.8039, 0.0431, 0.0000,\n",
            "          0.1686, 0.6039, 0.0000, 0.0000, 0.0000, 0.0000, 0.0000, 0.0000,\n",
            "          0.0000, 0.0000, 0.0000, 0.0000],\n",
            "         [0.0000, 0.0000, 0.0000, 0.0000, 0.0000, 0.0000, 0.0000, 0.0000,\n",
            "          0.0000, 0.0549, 0.0039, 0.6039, 0.9922, 0.3529, 0.0000, 0.0000,\n",
            "          0.0000, 0.0000, 0.0000, 0.0000, 0.0000, 0.0000, 0.0000, 0.0000,\n",
            "          0.0000, 0.0000, 0.0000, 0.0000],\n",
            "         [0.0000, 0.0000, 0.0000, 0.0000, 0.0000, 0.0000, 0.0000, 0.0000,\n",
            "          0.0000, 0.0000, 0.0000, 0.5451, 0.9922, 0.7451, 0.0078, 0.0000,\n",
            "          0.0000, 0.0000, 0.0000, 0.0000, 0.0000, 0.0000, 0.0000, 0.0000,\n",
            "          0.0000, 0.0000, 0.0000, 0.0000],\n",
            "         [0.0000, 0.0000, 0.0000, 0.0000, 0.0000, 0.0000, 0.0000, 0.0000,\n",
            "          0.0000, 0.0000, 0.0000, 0.0431, 0.7451, 0.9922, 0.2745, 0.0000,\n",
            "          0.0000, 0.0000, 0.0000, 0.0000, 0.0000, 0.0000, 0.0000, 0.0000,\n",
            "          0.0000, 0.0000, 0.0000, 0.0000],\n",
            "         [0.0000, 0.0000, 0.0000, 0.0000, 0.0000, 0.0000, 0.0000, 0.0000,\n",
            "          0.0000, 0.0000, 0.0000, 0.0000, 0.1373, 0.9451, 0.8824, 0.6275,\n",
            "          0.4235, 0.0039, 0.0000, 0.0000, 0.0000, 0.0000, 0.0000, 0.0000,\n",
            "          0.0000, 0.0000, 0.0000, 0.0000],\n",
            "         [0.0000, 0.0000, 0.0000, 0.0000, 0.0000, 0.0000, 0.0000, 0.0000,\n",
            "          0.0000, 0.0000, 0.0000, 0.0000, 0.0000, 0.3176, 0.9412, 0.9922,\n",
            "          0.9922, 0.4667, 0.0980, 0.0000, 0.0000, 0.0000, 0.0000, 0.0000,\n",
            "          0.0000, 0.0000, 0.0000, 0.0000],\n",
            "         [0.0000, 0.0000, 0.0000, 0.0000, 0.0000, 0.0000, 0.0000, 0.0000,\n",
            "          0.0000, 0.0000, 0.0000, 0.0000, 0.0000, 0.0000, 0.1765, 0.7294,\n",
            "          0.9922, 0.9922, 0.5882, 0.1059, 0.0000, 0.0000, 0.0000, 0.0000,\n",
            "          0.0000, 0.0000, 0.0000, 0.0000],\n",
            "         [0.0000, 0.0000, 0.0000, 0.0000, 0.0000, 0.0000, 0.0000, 0.0000,\n",
            "          0.0000, 0.0000, 0.0000, 0.0000, 0.0000, 0.0000, 0.0000, 0.0627,\n",
            "          0.3647, 0.9882, 0.9922, 0.7333, 0.0000, 0.0000, 0.0000, 0.0000,\n",
            "          0.0000, 0.0000, 0.0000, 0.0000],\n",
            "         [0.0000, 0.0000, 0.0000, 0.0000, 0.0000, 0.0000, 0.0000, 0.0000,\n",
            "          0.0000, 0.0000, 0.0000, 0.0000, 0.0000, 0.0000, 0.0000, 0.0000,\n",
            "          0.0000, 0.9765, 0.9922, 0.9765, 0.2510, 0.0000, 0.0000, 0.0000,\n",
            "          0.0000, 0.0000, 0.0000, 0.0000],\n",
            "         [0.0000, 0.0000, 0.0000, 0.0000, 0.0000, 0.0000, 0.0000, 0.0000,\n",
            "          0.0000, 0.0000, 0.0000, 0.0000, 0.0000, 0.0000, 0.1804, 0.5098,\n",
            "          0.7176, 0.9922, 0.9922, 0.8118, 0.0078, 0.0000, 0.0000, 0.0000,\n",
            "          0.0000, 0.0000, 0.0000, 0.0000],\n",
            "         [0.0000, 0.0000, 0.0000, 0.0000, 0.0000, 0.0000, 0.0000, 0.0000,\n",
            "          0.0000, 0.0000, 0.0000, 0.0000, 0.1529, 0.5804, 0.8980, 0.9922,\n",
            "          0.9922, 0.9922, 0.9804, 0.7137, 0.0000, 0.0000, 0.0000, 0.0000,\n",
            "          0.0000, 0.0000, 0.0000, 0.0000],\n",
            "         [0.0000, 0.0000, 0.0000, 0.0000, 0.0000, 0.0000, 0.0000, 0.0000,\n",
            "          0.0000, 0.0000, 0.0941, 0.4471, 0.8667, 0.9922, 0.9922, 0.9922,\n",
            "          0.9922, 0.7882, 0.3059, 0.0000, 0.0000, 0.0000, 0.0000, 0.0000,\n",
            "          0.0000, 0.0000, 0.0000, 0.0000],\n",
            "         [0.0000, 0.0000, 0.0000, 0.0000, 0.0000, 0.0000, 0.0000, 0.0000,\n",
            "          0.0902, 0.2588, 0.8353, 0.9922, 0.9922, 0.9922, 0.9922, 0.7765,\n",
            "          0.3176, 0.0078, 0.0000, 0.0000, 0.0000, 0.0000, 0.0000, 0.0000,\n",
            "          0.0000, 0.0000, 0.0000, 0.0000],\n",
            "         [0.0000, 0.0000, 0.0000, 0.0000, 0.0000, 0.0000, 0.0706, 0.6706,\n",
            "          0.8588, 0.9922, 0.9922, 0.9922, 0.9922, 0.7647, 0.3137, 0.0353,\n",
            "          0.0000, 0.0000, 0.0000, 0.0000, 0.0000, 0.0000, 0.0000, 0.0000,\n",
            "          0.0000, 0.0000, 0.0000, 0.0000],\n",
            "         [0.0000, 0.0000, 0.0000, 0.0000, 0.2157, 0.6745, 0.8863, 0.9922,\n",
            "          0.9922, 0.9922, 0.9922, 0.9569, 0.5216, 0.0431, 0.0000, 0.0000,\n",
            "          0.0000, 0.0000, 0.0000, 0.0000, 0.0000, 0.0000, 0.0000, 0.0000,\n",
            "          0.0000, 0.0000, 0.0000, 0.0000],\n",
            "         [0.0000, 0.0000, 0.0000, 0.0000, 0.5333, 0.9922, 0.9922, 0.9922,\n",
            "          0.8314, 0.5294, 0.5176, 0.0627, 0.0000, 0.0000, 0.0000, 0.0000,\n",
            "          0.0000, 0.0000, 0.0000, 0.0000, 0.0000, 0.0000, 0.0000, 0.0000,\n",
            "          0.0000, 0.0000, 0.0000, 0.0000],\n",
            "         [0.0000, 0.0000, 0.0000, 0.0000, 0.0000, 0.0000, 0.0000, 0.0000,\n",
            "          0.0000, 0.0000, 0.0000, 0.0000, 0.0000, 0.0000, 0.0000, 0.0000,\n",
            "          0.0000, 0.0000, 0.0000, 0.0000, 0.0000, 0.0000, 0.0000, 0.0000,\n",
            "          0.0000, 0.0000, 0.0000, 0.0000],\n",
            "         [0.0000, 0.0000, 0.0000, 0.0000, 0.0000, 0.0000, 0.0000, 0.0000,\n",
            "          0.0000, 0.0000, 0.0000, 0.0000, 0.0000, 0.0000, 0.0000, 0.0000,\n",
            "          0.0000, 0.0000, 0.0000, 0.0000, 0.0000, 0.0000, 0.0000, 0.0000,\n",
            "          0.0000, 0.0000, 0.0000, 0.0000],\n",
            "         [0.0000, 0.0000, 0.0000, 0.0000, 0.0000, 0.0000, 0.0000, 0.0000,\n",
            "          0.0000, 0.0000, 0.0000, 0.0000, 0.0000, 0.0000, 0.0000, 0.0000,\n",
            "          0.0000, 0.0000, 0.0000, 0.0000, 0.0000, 0.0000, 0.0000, 0.0000,\n",
            "          0.0000, 0.0000, 0.0000, 0.0000]]])\n",
            "Label:\n",
            " 5\n"
          ]
        }
      ]
    },
    {
      "cell_type": "code",
      "source": [
        "# Check out the shapes of our data\n",
        "print(f\"Image shape: {img.shape} -> [color_channels, height, width] (CHW)\")\n",
        "print(f\"Label: {label} -> no shape, due to being integer\")"
      ],
      "metadata": {
        "id": "N8PsozID5ew0",
        "outputId": "a9db6f8e-94fb-40df-ef19-bb1e1d90e817",
        "colab": {
          "base_uri": "https://localhost:8080/"
        }
      },
      "execution_count": 8,
      "outputs": [
        {
          "output_type": "stream",
          "name": "stdout",
          "text": [
            "Image shape: torch.Size([1, 28, 28]) -> [color_channels, height, width] (CHW)\n",
            "Label: 5 -> no shape, due to being integer\n"
          ]
        }
      ]
    },
    {
      "cell_type": "code",
      "source": [
        "# Get the class names from the dataset\n",
        "class_names = train_data.classes\n",
        "class_names"
      ],
      "metadata": {
        "id": "uc0DUTQt6ZkE",
        "outputId": "43d4927c-ebfd-433c-e752-3258662a2c5a",
        "colab": {
          "base_uri": "https://localhost:8080/"
        }
      },
      "execution_count": 9,
      "outputs": [
        {
          "output_type": "execute_result",
          "data": {
            "text/plain": [
              "['0 - zero',\n",
              " '1 - one',\n",
              " '2 - two',\n",
              " '3 - three',\n",
              " '4 - four',\n",
              " '5 - five',\n",
              " '6 - six',\n",
              " '7 - seven',\n",
              " '8 - eight',\n",
              " '9 - nine']"
            ]
          },
          "metadata": {},
          "execution_count": 9
        }
      ]
    },
    {
      "cell_type": "markdown",
      "source": [
        "### **6. Visualize at least 5 different samples of the MNIST training dataset.**"
      ],
      "metadata": {
        "id": "6ECkTKrn6gat"
      }
    },
    {
      "cell_type": "code",
      "source": [
        "import matplotlib.pyplot as plt\n",
        "for i in range(5):\n",
        "  img = train_data[i][0]\n",
        "  print(img.shape)\n",
        "  img_squeeze = img.squeeze()\n",
        "  print(img_squeeze.shape)\n",
        "  label = train_data[i][1]\n",
        "  plt.figure(figsize=(3, 3))\n",
        "  plt.imshow(img_squeeze, cmap=\"gray\")\n",
        "  plt.title(label)\n",
        "  plt.axis(False);"
      ],
      "metadata": {
        "id": "2NgJePaY6jsj",
        "outputId": "101382ff-6046-4595-e957-5badbb15d5a9",
        "colab": {
          "base_uri": "https://localhost:8080/",
          "height": 1000
        }
      },
      "execution_count": 10,
      "outputs": [
        {
          "output_type": "stream",
          "name": "stdout",
          "text": [
            "torch.Size([1, 28, 28])\n",
            "torch.Size([28, 28])\n",
            "torch.Size([1, 28, 28])\n",
            "torch.Size([28, 28])\n",
            "torch.Size([1, 28, 28])\n",
            "torch.Size([28, 28])\n",
            "torch.Size([1, 28, 28])\n",
            "torch.Size([28, 28])\n",
            "torch.Size([1, 28, 28])\n",
            "torch.Size([28, 28])\n"
          ]
        },
        {
          "output_type": "display_data",
          "data": {
            "text/plain": [
              "<Figure size 300x300 with 1 Axes>"
            ],
            "image/png": "[encoded data removed]"
          },
          "metadata": {}
        },
        {
          "output_type": "display_data",
          "data": {
            "text/plain": [
              "<Figure size 300x300 with 1 Axes>"
            ],
            "image/png": "[encoded data removed]"
          },
          "metadata": {}
        },
        {
          "output_type": "display_data",
          "data": {
            "text/plain": [
              "<Figure size 300x300 with 1 Axes>"
            ],
            "image/png": "[encoded data removed]"
          },
          "metadata": {}
        },
        {
          "output_type": "display_data",
          "data": {
            "text/plain": [
              "<Figure size 300x300 with 1 Axes>"
            ],
            "image/png": "[encoded data removed]"
          },
          "metadata": {}
        },
        {
          "output_type": "display_data",
          "data": {
            "text/plain": [
              "<Figure size 300x300 with 1 Axes>"
            ],
            "image/png": "[encoded data removed]"
          },
          "metadata": {}
        }
      ]
    },
    {
      "cell_type": "markdown",
      "source": [
        "### **7. Turn the MNIST train and test datasets into dataloaders using torch.utils.data.DataLoader, set the batch_size=32.**"
      ],
      "metadata": {
        "id": "W7Fo05KR6rmp"
      }
    },
    {
      "cell_type": "code",
      "source": [
        "# Create train dataloader\n",
        "from torch.utils.data import DataLoader\n",
        "\n",
        "train_dataloader = DataLoader(dataset=train_data,\n",
        "                              batch_size=32,\n",
        "                              shuffle=True)\n",
        "\n",
        "test_dataloader = DataLoader(dataset=test_data,\n",
        "                             batch_size=32,\n",
        "                             shuffle=False)"
      ],
      "metadata": {
        "id": "pUlJxsov6pWO"
      },
      "execution_count": 11,
      "outputs": []
    },
    {
      "cell_type": "code",
      "source": [
        "train_dataloader, test_dataloader"
      ],
      "metadata": {
        "id": "hRQko-A36xmf",
        "outputId": "348f7965-d7d8-4e35-fd8d-8692d564181b",
        "colab": {
          "base_uri": "https://localhost:8080/"
        }
      },
      "execution_count": 12,
      "outputs": [
        {
          "output_type": "execute_result",
          "data": {
            "text/plain": [
              "(<torch.utils.data.dataloader.DataLoader at 0x78123414fc90>,\n",
              " <torch.utils.data.dataloader.DataLoader at 0x781132a9bc10>)"
            ]
          },
          "metadata": {},
          "execution_count": 12
        }
      ]
    },
    {
      "cell_type": "code",
      "source": [
        "for sample in next(iter(train_dataloader)):\n",
        "  print(sample.shape)"
      ],
      "metadata": {
        "id": "_vlKezDP61gu",
        "outputId": "69e42268-e4f9-4d3b-e288-c26d151d9c06",
        "colab": {
          "base_uri": "https://localhost:8080/"
        }
      },
      "execution_count": 13,
      "outputs": [
        {
          "output_type": "stream",
          "name": "stdout",
          "text": [
            "torch.Size([32, 1, 28, 28])\n",
            "torch.Size([32])\n"
          ]
        }
      ]
    },
    {
      "cell_type": "code",
      "source": [
        "len(train_dataloader), len(test_dataloader)"
      ],
      "metadata": {
        "id": "FzRAw2zK62xK",
        "outputId": "77114e95-1999-4833-ba01-5b9a37d992aa",
        "colab": {
          "base_uri": "https://localhost:8080/"
        }
      },
      "execution_count": 14,
      "outputs": [
        {
          "output_type": "execute_result",
          "data": {
            "text/plain": [
              "(1875, 313)"
            ]
          },
          "metadata": {},
          "execution_count": 14
        }
      ]
    },
    {
      "cell_type": "markdown",
      "source": [
        "### **8. Recreate model_2 used in notebook 03 (the same model from the CNN Explainer website, also known as TinyVGG) capable of fitting on the MNIST dataset.**"
      ],
      "metadata": {
        "id": "zZTGF8mB654m"
      }
    },
    {
      "cell_type": "code",
      "source": [
        "from torch import nn\n",
        "class MNIST_model(torch.nn.Module):\n",
        "  \"\"\"Model capable of predicting on MNIST dataset.\n",
        "  \"\"\"\n",
        "  def __init__(self, input_shape: int, hidden_units: int, output_shape: int):\n",
        "    super().__init__()\n",
        "    self.conv_block_1 = nn.Sequential(\n",
        "      nn.Conv2d(in_channels=input_shape,\n",
        "                out_channels=hidden_units,\n",
        "                kernel_size=3,\n",
        "                stride=1,\n",
        "                padding=1),\n",
        "      nn.ReLU(),\n",
        "      nn.Conv2d(in_channels=hidden_units,\n",
        "                out_channels=hidden_units,\n",
        "                kernel_size=3,\n",
        "                stride=1,\n",
        "                padding=1),\n",
        "      nn.ReLU(),\n",
        "      nn.MaxPool2d(kernel_size=2)\n",
        "    )\n",
        "    self.conv_block_2 = nn.Sequential(\n",
        "      nn.Conv2d(in_channels=hidden_units,\n",
        "                out_channels=hidden_units,\n",
        "                kernel_size=3,\n",
        "                stride=1,\n",
        "                padding=1),\n",
        "      nn.ReLU(),\n",
        "      nn.Conv2d(in_channels=hidden_units,\n",
        "                out_channels=hidden_units,\n",
        "                kernel_size=3,\n",
        "                stride=1,\n",
        "                padding=1),\n",
        "      nn.ReLU(),\n",
        "      nn.MaxPool2d(kernel_size=2)\n",
        "    )\n",
        "    self.classifier = nn.Sequential(\n",
        "      nn.Flatten(),\n",
        "      nn.Linear(in_features=hidden_units*7*7,\n",
        "                out_features=output_shape)\n",
        "    )\n",
        "\n",
        "  def forward(self, x):\n",
        "    x = self.conv_block_1(x)\n",
        "    # print(f\"Output shape of conv block 1: {x.shape}\")\n",
        "    x = self.conv_block_2(x)\n",
        "    # print(f\"Output shape of conv block 2: {x.shape}\")\n",
        "    x = self.classifier(x)\n",
        "    # print(f\"Output shape of classifier: {x.shape}\")\n",
        "    return x"
      ],
      "metadata": {
        "id": "xIIdL8bh65Vz"
      },
      "execution_count": 15,
      "outputs": []
    },
    {
      "cell_type": "code",
      "source": [
        "device"
      ],
      "metadata": {
        "id": "rPEiU-y-7BPv",
        "outputId": "56568289-9c3f-4290-b1d8-53c689492dda",
        "colab": {
          "base_uri": "https://localhost:8080/",
          "height": 35
        }
      },
      "execution_count": 16,
      "outputs": [
        {
          "output_type": "execute_result",
          "data": {
            "text/plain": [
              "'cuda'"
            ],
            "application/vnd.google.colaboratory.intrinsic+json": {
              "type": "string"
            }
          },
          "metadata": {},
          "execution_count": 16
        }
      ]
    },
    {
      "cell_type": "code",
      "source": [
        "model = MNIST_model(input_shape=1,\n",
        "                    hidden_units=10,\n",
        "                    output_shape=10).to(device)\n",
        "model"
      ],
      "metadata": {
        "id": "OBwt8QVt7E8_",
        "outputId": "5ea9f50a-5daa-4971-fea9-c8e7f0f0f820",
        "colab": {
          "base_uri": "https://localhost:8080/"
        }
      },
      "execution_count": 17,
      "outputs": [
        {
          "output_type": "execute_result",
          "data": {
            "text/plain": [
              "MNIST_model(\n",
              "  (conv_block_1): Sequential(\n",
              "    (0): Conv2d(1, 10, kernel_size=(3, 3), stride=(1, 1), padding=(1, 1))\n",
              "    (1): ReLU()\n",
              "    (2): Conv2d(10, 10, kernel_size=(3, 3), stride=(1, 1), padding=(1, 1))\n",
              "    (3): ReLU()\n",
              "    (4): MaxPool2d(kernel_size=2, stride=2, padding=0, dilation=1, ceil_mode=False)\n",
              "  )\n",
              "  (conv_block_2): Sequential(\n",
              "    (0): Conv2d(10, 10, kernel_size=(3, 3), stride=(1, 1), padding=(1, 1))\n",
              "    (1): ReLU()\n",
              "    (2): Conv2d(10, 10, kernel_size=(3, 3), stride=(1, 1), padding=(1, 1))\n",
              "    (3): ReLU()\n",
              "    (4): MaxPool2d(kernel_size=2, stride=2, padding=0, dilation=1, ceil_mode=False)\n",
              "  )\n",
              "  (classifier): Sequential(\n",
              "    (0): Flatten(start_dim=1, end_dim=-1)\n",
              "    (1): Linear(in_features=490, out_features=10, bias=True)\n",
              "  )\n",
              ")"
            ]
          },
          "metadata": {},
          "execution_count": 17
        }
      ]
    },
    {
      "cell_type": "code",
      "source": [
        "# Check out the model state dict to find out what patterns our model wants to learn\n",
        "model.state_dict()"
      ],
      "metadata": {
        "id": "OyR_xkXv7J22",
        "outputId": "c32923ab-b802-4906-bba9-6816f72241ce",
        "colab": {
          "base_uri": "https://localhost:8080/"
        }
      },
      "execution_count": 18,
      "outputs": [
        {
          "output_type": "execute_result",
          "data": {
            "text/plain": [
              "OrderedDict([('conv_block_1.0.weight',\n",
              "              tensor([[[[-0.0028,  0.2768, -0.2689],\n",
              "                        [-0.0716,  0.3139, -0.2103],\n",
              "                        [ 0.0187, -0.1713,  0.1633]]],\n",
              "              \n",
              "              \n",
              "                      [[[-0.1482, -0.2034,  0.1399],\n",
              "                        [-0.3224,  0.0756, -0.3182],\n",
              "                        [ 0.2475, -0.2440, -0.0235]]],\n",
              "              \n",
              "              \n",
              "                      [[[ 0.1369,  0.0616,  0.1228],\n",
              "                        [ 0.1955, -0.2424, -0.1479],\n",
              "                        [ 0.3102,  0.3110, -0.2128]]],\n",
              "              \n",
              "              \n",
              "                      [[[ 0.2598, -0.2892,  0.0616],\n",
              "                        [-0.1736, -0.2499, -0.2547],\n",
              "                        [-0.0054, -0.3022,  0.1101]]],\n",
              "              \n",
              "              \n",
              "                      [[[-0.3244, -0.2250, -0.3330],\n",
              "                        [-0.2035, -0.0448,  0.1855],\n",
              "                        [-0.2499, -0.2335,  0.2120]]],\n",
              "              \n",
              "              \n",
              "                      [[[ 0.0124,  0.1806, -0.1112],\n",
              "                        [ 0.2591,  0.1590,  0.2263],\n",
              "                        [-0.0703,  0.2313, -0.0217]]],\n",
              "              \n",
              "              \n",
              "                      [[[-0.0596, -0.0641, -0.3215],\n",
              "                        [ 0.1805, -0.0330,  0.1809],\n",
              "                        [-0.2562,  0.0286,  0.2760]]],\n",
              "              \n",
              "              \n",
              "                      [[[ 0.2460,  0.1596, -0.1228],\n",
              "                        [ 0.0522,  0.1680,  0.1867],\n",
              "                        [ 0.2342,  0.1877, -0.0452]]],\n",
              "              \n",
              "              \n",
              "                      [[[-0.0982,  0.2775,  0.0069],\n",
              "                        [-0.0752,  0.1950,  0.0831],\n",
              "                        [-0.1060,  0.1109, -0.0650]]],\n",
              "              \n",
              "              \n",
              "                      [[[ 0.0058,  0.2435, -0.2753],\n",
              "                        [-0.0635,  0.1769,  0.0106],\n",
              "                        [-0.1321, -0.0381,  0.1022]]]], device='cuda:0')),\n",
              "             ('conv_block_1.0.bias',\n",
              "              tensor([ 0.1806, -0.0509, -0.1047, -0.2279, -0.1235,  0.1219, -0.1488,  0.1649,\n",
              "                      -0.0097, -0.2370], device='cuda:0')),\n",
              "             ('conv_block_1.2.weight',\n",
              "              tensor([[[[-0.0054,  0.0923, -0.0083],\n",
              "                        [-0.0772, -0.1008,  0.0712],\n",
              "                        [ 0.0067, -0.0871, -0.0481]],\n",
              "              \n",
              "                       [[ 0.0197, -0.0816,  0.1012],\n",
              "                        [-0.0170, -0.0216, -0.0264],\n",
              "                        [-0.0581,  0.0272,  0.1042]],\n",
              "              \n",
              "                       [[-0.0228,  0.0158, -0.0328],\n",
              "                        [-0.0133,  0.0417, -0.0066],\n",
              "                        [-0.1028,  0.0786, -0.0913]],\n",
              "              \n",
              "                       [[ 0.0255, -0.0697, -0.0850],\n",
              "                        [-0.0166,  0.0257,  0.0285],\n",
              "                        [ 0.0639,  0.0245,  0.0854]],\n",
              "              \n",
              "                       [[ 0.0349,  0.0068,  0.0489],\n",
              "                        [ 0.0161, -0.0857,  0.0949],\n",
              "                        [-0.0958, -0.0312,  0.0381]],\n",
              "              \n",
              "                       [[ 0.0126, -0.0713, -0.0707],\n",
              "                        [ 0.0233, -0.0553, -0.0973],\n",
              "                        [ 0.0627,  0.0917,  0.0004]],\n",
              "              \n",
              "                       [[-0.1042,  0.0202, -0.0557],\n",
              "                        [ 0.0275,  0.1025,  0.0508],\n",
              "                        [ 0.0437,  0.0482, -0.0549]],\n",
              "              \n",
              "                       [[-0.1045, -0.0035,  0.0294],\n",
              "                        [-0.0936, -0.0376, -0.0661],\n",
              "                        [-0.0319,  0.1035,  0.0977]],\n",
              "              \n",
              "                       [[-0.0906,  0.0423,  0.0108],\n",
              "                        [-0.0889, -0.0275, -0.0336],\n",
              "                        [ 0.1040, -0.0024,  0.0406]],\n",
              "              \n",
              "                       [[-0.0346, -0.0529,  0.0281],\n",
              "                        [ 0.0964,  0.0567, -0.0882],\n",
              "                        [ 0.0253, -0.0552, -0.0149]]],\n",
              "              \n",
              "              \n",
              "                      [[[-0.0652,  0.0761,  0.0360],\n",
              "                        [-0.0023, -0.1037,  0.0966],\n",
              "                        [-0.0247,  0.0214, -0.0015]],\n",
              "              \n",
              "                       [[ 0.0418,  0.0617,  0.0201],\n",
              "                        [-0.0547, -0.0195,  0.0634],\n",
              "                        [-0.0484,  0.0167, -0.0142]],\n",
              "              \n",
              "                       [[ 0.0208, -0.0548, -0.0273],\n",
              "                        [-0.0519, -0.0403,  0.0601],\n",
              "                        [ 0.0589, -0.0939,  0.0588]],\n",
              "              \n",
              "                       [[ 0.0218,  0.0003,  0.0887],\n",
              "                        [-0.0283, -0.0186, -0.0399],\n",
              "                        [-0.0778,  0.0294,  0.0316]],\n",
              "              \n",
              "                       [[ 0.0910, -0.0277, -0.0132],\n",
              "                        [ 0.0730, -0.0526,  0.0084],\n",
              "                        [ 0.0370,  0.0532,  0.0919]],\n",
              "              \n",
              "                       [[ 0.0297, -0.0967, -0.1009],\n",
              "                        [-0.0013, -0.0892, -0.0738],\n",
              "                        [-0.0935, -0.0694,  0.0924]],\n",
              "              \n",
              "                       [[ 0.0923,  0.0634, -0.1028],\n",
              "                        [-0.0271, -0.0737,  0.0475],\n",
              "                        [-0.0670,  0.0564, -0.0723]],\n",
              "              \n",
              "                       [[ 0.0848,  0.0696, -0.0610],\n",
              "                        [ 0.0004,  0.0442, -0.0865],\n",
              "                        [-0.0510,  0.0851, -0.0965]],\n",
              "              \n",
              "                       [[ 0.0991,  0.0722, -0.1039],\n",
              "                        [-0.0298,  0.0893, -0.0387],\n",
              "                        [ 0.0278,  0.0229,  0.0949]],\n",
              "              \n",
              "                       [[ 0.0532,  0.0445, -0.0417],\n",
              "                        [-0.0080,  0.0273, -0.0483],\n",
              "                        [ 0.0104, -0.0377,  0.0887]]],\n",
              "              \n",
              "              \n",
              "                      [[[ 0.0237,  0.0544,  0.0515],\n",
              "                        [-0.0996,  0.0323, -0.0647],\n",
              "                        [-0.0556,  0.0652, -0.0914]],\n",
              "              \n",
              "                       [[ 0.0180, -0.0620,  0.1034],\n",
              "                        [ 0.1034, -0.0001, -0.0023],\n",
              "                        [-0.0050,  0.0527,  0.0260]],\n",
              "              \n",
              "                       [[ 0.0293,  0.0129,  0.0894],\n",
              "                        [ 0.0538, -0.0406,  0.0046],\n",
              "                        [ 0.0605,  0.0098, -0.0374]],\n",
              "              \n",
              "                       [[-0.0598, -0.0884, -0.0582],\n",
              "                        [-0.0862,  0.0462,  0.0504],\n",
              "                        [-0.0546, -0.0585,  0.0519]],\n",
              "              \n",
              "                       [[-0.0618, -0.0098, -0.0808],\n",
              "                        [ 0.1006,  0.0896,  0.0361],\n",
              "                        [-0.0122,  0.0904, -0.0521]],\n",
              "              \n",
              "                       [[-0.0496,  0.0416, -0.0498],\n",
              "                        [-0.0039,  0.0555,  0.0732],\n",
              "                        [ 0.1031,  0.0216,  0.0752]],\n",
              "              \n",
              "                       [[ 0.0104,  0.0601,  0.0681],\n",
              "                        [ 0.0442, -0.0356,  0.0599],\n",
              "                        [ 0.0205,  0.0244, -0.0109]],\n",
              "              \n",
              "                       [[ 0.1008, -0.0497,  0.0748],\n",
              "                        [-0.0296,  0.0452,  0.1004],\n",
              "                        [ 0.0590,  0.0611, -0.0692]],\n",
              "              \n",
              "                       [[-0.0864,  0.0182,  0.0667],\n",
              "                        [ 0.0762,  0.0659,  0.0596],\n",
              "                        [ 0.0004,  0.0803, -0.0045]],\n",
              "              \n",
              "                       [[-0.0122,  0.1049, -0.0124],\n",
              "                        [ 0.0753, -0.0649, -0.0604],\n",
              "                        [ 0.0742, -0.0836,  0.0402]]],\n",
              "              \n",
              "              \n",
              "                      [[[-0.0665, -0.0040,  0.0288],\n",
              "                        [ 0.0917,  0.0352, -0.1005],\n",
              "                        [ 0.0763,  0.0674,  0.0309]],\n",
              "              \n",
              "                       [[ 0.0958, -0.0613, -0.0295],\n",
              "                        [-0.0155,  0.0811, -0.0990],\n",
              "                        [ 0.0120,  0.1040,  0.0574]],\n",
              "              \n",
              "                       [[ 0.0979,  0.0799, -0.0915],\n",
              "                        [ 0.0619,  0.0031,  0.0276],\n",
              "                        [ 0.0131,  0.0750, -0.0502]],\n",
              "              \n",
              "                       [[-0.0330,  0.0662,  0.0592],\n",
              "                        [-0.0803, -0.0234,  0.0528],\n",
              "                        [-0.0293,  0.0392,  0.0807]],\n",
              "              \n",
              "                       [[ 0.0222, -0.0233,  0.0987],\n",
              "                        [ 0.0088, -0.0235, -0.0331],\n",
              "                        [-0.0041, -0.0891,  0.0171]],\n",
              "              \n",
              "                       [[ 0.0207,  0.0712,  0.0600],\n",
              "                        [-0.0137, -0.0115, -0.0898],\n",
              "                        [ 0.0822,  0.0711, -0.0693]],\n",
              "              \n",
              "                       [[-0.0125,  0.0212, -0.0729],\n",
              "                        [-0.0834, -0.0757,  0.0590],\n",
              "                        [ 0.0637,  0.0447, -0.0072]],\n",
              "              \n",
              "                       [[ 0.0395,  0.0951,  0.0027],\n",
              "                        [-0.0109,  0.0424, -0.0088],\n",
              "                        [ 0.0697, -0.0911,  0.0033]],\n",
              "              \n",
              "                       [[-0.0249,  0.0478, -0.0197],\n",
              "                        [ 0.0381,  0.0777, -0.0514],\n",
              "                        [-0.0556,  0.0493,  0.0809]],\n",
              "              \n",
              "                       [[-0.0165,  0.0163, -0.0677],\n",
              "                        [ 0.0752, -0.0795,  0.0804],\n",
              "                        [ 0.0813,  0.0473,  0.0823]]],\n",
              "              \n",
              "              \n",
              "                      [[[ 0.1027, -0.0960,  0.0839],\n",
              "                        [-0.0698, -0.0194,  0.0830],\n",
              "                        [-0.0312,  0.0614, -0.0268]],\n",
              "              \n",
              "                       [[ 0.0022, -0.0036,  0.0585],\n",
              "                        [-0.0978,  0.0151, -0.0480],\n",
              "                        [-0.0074, -0.0575,  0.0329]],\n",
              "              \n",
              "                       [[ 0.0216,  0.0329, -0.0797],\n",
              "                        [-0.0890,  0.0574,  0.1001],\n",
              "                        [-0.0643,  0.0167,  0.0249]],\n",
              "              \n",
              "                       [[-0.0358,  0.0958, -0.0975],\n",
              "                        [-0.0464,  0.0170,  0.0325],\n",
              "                        [ 0.0360,  0.0361,  0.0934]],\n",
              "              \n",
              "                       [[ 0.0175,  0.0941,  0.0556],\n",
              "                        [-0.0084, -0.0793,  0.0536],\n",
              "                        [-0.0978,  0.0482,  0.0853]],\n",
              "              \n",
              "                       [[ 0.0893, -0.0543,  0.0081],\n",
              "                        [ 0.0021, -0.1040, -0.0538],\n",
              "                        [ 0.0597, -0.0051, -0.0645]],\n",
              "              \n",
              "                       [[ 0.0866,  0.0172,  0.0986],\n",
              "                        [ 0.0998,  0.0784, -0.0165],\n",
              "                        [ 0.0189,  0.0163,  0.0706]],\n",
              "              \n",
              "                       [[-0.0012, -0.0320,  0.0414],\n",
              "                        [ 0.0316,  0.0151,  0.0373],\n",
              "                        [-0.0570, -0.0196,  0.0439]],\n",
              "              \n",
              "                       [[ 0.0355,  0.0239,  0.0531],\n",
              "                        [ 0.0316, -0.0675, -0.0605],\n",
              "                        [-0.0171,  0.0505,  0.0340]],\n",
              "              \n",
              "                       [[ 0.0402,  0.0886, -0.0693],\n",
              "                        [-0.0858, -0.0510, -0.0680],\n",
              "                        [ 0.0829, -0.0105, -0.0172]]],\n",
              "              \n",
              "              \n",
              "                      [[[-0.0494, -0.0867, -0.0139],\n",
              "                        [ 0.0867,  0.0219, -0.0884],\n",
              "                        [ 0.0153, -0.0612,  0.0272]],\n",
              "              \n",
              "                       [[-0.0681,  0.0393,  0.0091],\n",
              "                        [ 0.0866, -0.0553, -0.0092],\n",
              "                        [-0.0699, -0.0406,  0.0758]],\n",
              "              \n",
              "                       [[ 0.0211, -0.0296,  0.0486],\n",
              "                        [-0.0971,  0.0357, -0.0577],\n",
              "                        [ 0.1048, -0.0252,  0.1029]],\n",
              "              \n",
              "                       [[-0.1002, -0.0835, -0.0674],\n",
              "                        [-0.0616, -0.0029, -0.0896],\n",
              "                        [ 0.0106, -0.0079, -0.0666]],\n",
              "              \n",
              "                       [[ 0.1012,  0.0953, -0.0959],\n",
              "                        [-0.0750, -0.0054, -0.0008],\n",
              "                        [-0.0531, -0.0465, -0.0830]],\n",
              "              \n",
              "                       [[-0.0008,  0.0797, -0.0824],\n",
              "                        [ 0.1040,  0.0131, -0.0948],\n",
              "                        [ 0.0082,  0.0032, -0.0613]],\n",
              "              \n",
              "                       [[-0.0601,  0.0531, -0.1016],\n",
              "                        [ 0.0504,  0.0311,  0.0971],\n",
              "                        [-0.0982, -0.0235,  0.1005]],\n",
              "              \n",
              "                       [[-0.0963,  0.0757,  0.0063],\n",
              "                        [ 0.0690,  0.0469,  0.0526],\n",
              "                        [ 0.0634, -0.0821, -0.0059]],\n",
              "              \n",
              "                       [[ 0.0154, -0.0859, -0.0312],\n",
              "                        [-0.0220,  0.0511,  0.0264],\n",
              "                        [-0.0583,  0.0069,  0.0587]],\n",
              "              \n",
              "                       [[ 0.0170, -0.0277,  0.0298],\n",
              "                        [ 0.0736,  0.0776,  0.0308],\n",
              "                        [-0.1046,  0.0549,  0.0373]]],\n",
              "              \n",
              "              \n",
              "                      [[[ 0.0555,  0.0605,  0.0261],\n",
              "                        [-0.0853, -0.0948,  0.0071],\n",
              "                        [-0.0858, -0.0103,  0.0313]],\n",
              "              \n",
              "                       [[-0.0138, -0.0381,  0.1024],\n",
              "                        [ 0.0102, -0.0484, -0.0875],\n",
              "                        [ 0.0620, -0.0160, -0.0728]],\n",
              "              \n",
              "                       [[-0.1018,  0.0886, -0.0958],\n",
              "                        [-0.0688, -0.0904,  0.0757],\n",
              "                        [-0.0288, -0.0345,  0.0749]],\n",
              "              \n",
              "                       [[-0.0535, -0.0136, -0.0823],\n",
              "                        [-0.1046,  0.0846,  0.0706],\n",
              "                        [-0.0308, -0.0655,  0.0700]],\n",
              "              \n",
              "                       [[ 0.0506, -0.0907,  0.0798],\n",
              "                        [-0.0491, -0.0740, -0.0692],\n",
              "                        [-0.0354,  0.0378,  0.0016]],\n",
              "              \n",
              "                       [[ 0.0573, -0.0307, -0.0769],\n",
              "                        [ 0.0577,  0.0659,  0.0630],\n",
              "                        [ 0.0882,  0.0035, -0.0226]],\n",
              "              \n",
              "                       [[-0.0054,  0.0136,  0.0097],\n",
              "                        [-0.0132, -0.0841,  0.0948],\n",
              "                        [ 0.0760, -0.0170,  0.0633]],\n",
              "              \n",
              "                       [[ 0.0436, -0.0525,  0.0754],\n",
              "                        [ 0.0003, -0.0535, -0.0810],\n",
              "                        [-0.0566, -0.0947, -0.0766]],\n",
              "              \n",
              "                       [[ 0.0994,  0.0171,  0.0074],\n",
              "                        [-0.0236, -0.0621, -0.0474],\n",
              "                        [-0.0145, -0.0294, -0.1044]],\n",
              "              \n",
              "                       [[ 0.0258, -0.0933,  0.0985],\n",
              "                        [ 0.0285,  0.0129, -0.0037],\n",
              "                        [ 0.0080, -0.0095, -0.1051]]],\n",
              "              \n",
              "              \n",
              "                      [[[-0.0911,  0.0819,  0.0841],\n",
              "                        [ 0.0070,  0.0866, -0.0780],\n",
              "                        [-0.0118, -0.0255,  0.0663]],\n",
              "              \n",
              "                       [[ 0.1017,  0.0423, -0.0918],\n",
              "                        [-0.0678,  0.0800, -0.0621],\n",
              "                        [ 0.0997,  0.0579, -0.0618]],\n",
              "              \n",
              "                       [[-0.0245,  0.0989,  0.0242],\n",
              "                        [-0.0460,  0.0148, -0.0684],\n",
              "                        [ 0.0667, -0.0538, -0.0722]],\n",
              "              \n",
              "                       [[ 0.0187, -0.0010, -0.0203],\n",
              "                        [-0.0336, -0.0410, -0.0688],\n",
              "                        [ 0.0943,  0.0697,  0.0288]],\n",
              "              \n",
              "                       [[ 0.0783,  0.0487, -0.0891],\n",
              "                        [-0.0034,  0.0690, -0.0331],\n",
              "                        [-0.0279, -0.0450,  0.0655]],\n",
              "              \n",
              "                       [[ 0.0988, -0.1041,  0.0434],\n",
              "                        [-0.0107, -0.0789,  0.0367],\n",
              "                        [ 0.0990, -0.0009, -0.0493]],\n",
              "              \n",
              "                       [[ 0.0991,  0.0104, -0.0901],\n",
              "                        [-0.0803, -0.0455, -0.0304],\n",
              "                        [ 0.1007, -0.0974,  0.0649]],\n",
              "              \n",
              "                       [[ 0.0159, -0.0736, -0.0864],\n",
              "                        [-0.0575,  0.0979,  0.0583],\n",
              "                        [-0.0920, -0.0678, -0.0627]],\n",
              "              \n",
              "                       [[-0.0198,  0.0482,  0.0728],\n",
              "                        [-0.0060,  0.0479, -0.0044],\n",
              "                        [ 0.0742, -0.0254,  0.0379]],\n",
              "              \n",
              "                       [[-0.1028, -0.0990,  0.0619],\n",
              "                        [ 0.0361,  0.0549,  0.0051],\n",
              "                        [ 0.0263,  0.0242, -0.0982]]],\n",
              "              \n",
              "              \n",
              "                      [[[-0.0302,  0.0189,  0.0777],\n",
              "                        [ 0.0644, -0.0502,  0.0173],\n",
              "                        [ 0.0838, -0.0495, -0.0521]],\n",
              "              \n",
              "                       [[-0.0547, -0.1035, -0.0246],\n",
              "                        [-0.0869,  0.0802, -0.0340],\n",
              "                        [-0.1000,  0.0205,  0.0984]],\n",
              "              \n",
              "                       [[-0.0873, -0.0992, -0.0193],\n",
              "                        [-0.0850,  0.0297, -0.0831],\n",
              "                        [ 0.0972, -0.0746, -0.0015]],\n",
              "              \n",
              "                       [[-0.0521, -0.0536,  0.0366],\n",
              "                        [ 0.0029, -0.0514, -0.0331],\n",
              "                        [-0.0835,  0.0498, -0.0156]],\n",
              "              \n",
              "                       [[ 0.0176, -0.0032,  0.0185],\n",
              "                        [ 0.0623, -0.0194, -0.0384],\n",
              "                        [-0.0552,  0.0106, -0.0335]],\n",
              "              \n",
              "                       [[ 0.0403,  0.0679, -0.0950],\n",
              "                        [-0.0605, -0.0071,  0.0068],\n",
              "                        [ 0.0287, -0.0442,  0.0255]],\n",
              "              \n",
              "                       [[-0.0004,  0.0846, -0.0223],\n",
              "                        [-0.0996, -0.0627, -0.1047],\n",
              "                        [-0.0043,  0.0421, -0.0228]],\n",
              "              \n",
              "                       [[ 0.0510,  0.0418,  0.0311],\n",
              "                        [-0.0593, -0.0979,  0.0987],\n",
              "                        [ 0.0332, -0.1016, -0.0673]],\n",
              "              \n",
              "                       [[ 0.0247,  0.0119, -0.0172],\n",
              "                        [-0.0377,  0.0849, -0.0086],\n",
              "                        [ 0.0675,  0.0630,  0.0900]],\n",
              "              \n",
              "                       [[ 0.0151, -0.0889,  0.0182],\n",
              "                        [ 0.0914,  0.0156,  0.0372],\n",
              "                        [ 0.0102,  0.0703,  0.0064]]],\n",
              "              \n",
              "              \n",
              "                      [[[ 0.0697,  0.0359,  0.0549],\n",
              "                        [-0.1040, -0.0322, -0.1047],\n",
              "                        [ 0.0242,  0.0945,  0.0050]],\n",
              "              \n",
              "                       [[-0.0928,  0.0078, -0.0203],\n",
              "                        [ 0.0708, -0.0717, -0.0301],\n",
              "                        [-0.0999,  0.0527,  0.0173]],\n",
              "              \n",
              "                       [[ 0.0471,  0.0571, -0.0645],\n",
              "                        [-0.0128,  0.0374, -0.0122],\n",
              "                        [ 0.0795,  0.0493, -0.0205]],\n",
              "              \n",
              "                       [[-0.0368, -0.0855,  0.0906],\n",
              "                        [-0.1039, -0.0514,  0.0885],\n",
              "                        [ 0.0138, -0.0405,  0.0501]],\n",
              "              \n",
              "                       [[-0.0348,  0.0595,  0.0334],\n",
              "                        [ 0.0704, -0.0375, -0.0229],\n",
              "                        [-0.0799, -0.0930, -0.0391]],\n",
              "              \n",
              "                       [[ 0.0312,  0.0589, -0.0598],\n",
              "                        [ 0.0007, -0.0234, -0.0928],\n",
              "                        [ 0.0845, -0.0740, -0.0623]],\n",
              "              \n",
              "                       [[ 0.0807,  0.0174,  0.0263],\n",
              "                        [-0.1011,  0.0423,  0.0882],\n",
              "                        [-0.0994,  0.0832, -0.0760]],\n",
              "              \n",
              "                       [[ 0.0351,  0.0975,  0.0652],\n",
              "                        [-0.0074, -0.0774, -0.0048],\n",
              "                        [ 0.0978, -0.0383,  0.0172]],\n",
              "              \n",
              "                       [[ 0.0905,  0.0460, -0.0809],\n",
              "                        [ 0.0629, -0.0688, -0.0130],\n",
              "                        [ 0.0532,  0.0893, -0.0069]],\n",
              "              \n",
              "                       [[-0.0663,  0.0677, -0.0531],\n",
              "                        [ 0.0008,  0.0390, -0.0638],\n",
              "                        [ 0.0159, -0.0959,  0.0520]]]], device='cuda:0')),\n",
              "             ('conv_block_1.2.bias',\n",
              "              tensor([-0.0191,  0.0970, -0.0732,  0.0889,  0.0649, -0.0698,  0.1048, -0.0461,\n",
              "                       0.0488, -0.0489], device='cuda:0')),\n",
              "             ('conv_block_2.0.weight',\n",
              "              tensor([[[[-3.0788e-02, -2.9750e-02,  2.8797e-02],\n",
              "                        [ 3.5116e-02, -8.1193e-02,  6.5113e-02],\n",
              "                        [-6.0594e-02, -2.4785e-02,  7.1410e-02]],\n",
              "              \n",
              "                       [[-9.7685e-02,  1.0161e-01,  8.3451e-02],\n",
              "                        [ 6.8614e-02, -1.5646e-02, -6.2076e-02],\n",
              "                        [ 4.4017e-02, -2.2055e-02,  4.4761e-03]],\n",
              "              \n",
              "                       [[-6.4765e-02, -1.0361e-01,  4.4721e-03],\n",
              "                        [-7.8432e-03, -1.3500e-02, -1.6790e-02],\n",
              "                        [-9.9578e-02, -9.7061e-02,  1.8023e-02]],\n",
              "              \n",
              "                       [[-3.5178e-02, -9.3361e-02, -9.0479e-03],\n",
              "                        [-9.4134e-02,  2.6852e-02,  1.7123e-02],\n",
              "                        [-7.8222e-02, -5.3861e-03,  8.4438e-02]],\n",
              "              \n",
              "                       [[-8.9665e-02, -1.0014e-01, -3.1136e-02],\n",
              "                        [ 1.6503e-02,  1.0535e-01,  7.4413e-02],\n",
              "                        [ 8.8654e-02,  3.5673e-02,  2.8326e-03]],\n",
              "              \n",
              "                       [[ 5.1505e-02,  6.4737e-02, -3.1797e-02],\n",
              "                        [-3.3970e-02, -6.6884e-02,  4.0702e-02],\n",
              "                        [-6.4153e-02,  6.1958e-03, -9.8637e-02]],\n",
              "              \n",
              "                       [[ 7.9876e-02, -3.4502e-02,  9.8581e-02],\n",
              "                        [ 7.4548e-02, -7.8078e-02, -3.0938e-03],\n",
              "                        [ 1.8945e-02,  3.5896e-02,  6.8244e-02]],\n",
              "              \n",
              "                       [[-9.9998e-02, -4.7919e-02, -2.5903e-02],\n",
              "                        [ 7.8086e-02,  5.5554e-02, -7.2207e-02],\n",
              "                        [-9.5589e-02, -1.4580e-02, -8.7444e-02]],\n",
              "              \n",
              "                       [[ 3.7210e-02, -4.0006e-02, -4.1230e-02],\n",
              "                        [-6.3898e-03,  2.4116e-02, -7.0546e-02],\n",
              "                        [-4.5955e-02,  5.2833e-02, -7.8051e-02]],\n",
              "              \n",
              "                       [[ 5.3065e-02,  2.3638e-02, -5.5127e-02],\n",
              "                        [ 1.1083e-02, -1.0169e-01, -3.9519e-02],\n",
              "                        [-4.0155e-02,  9.2001e-02, -6.4273e-02]]],\n",
              "              \n",
              "              \n",
              "                      [[[-5.4976e-02,  2.3389e-02, -1.0115e-01],\n",
              "                        [-6.3936e-03,  9.0767e-02,  8.2471e-02],\n",
              "                        [-6.6155e-02, -6.3070e-02,  9.9402e-02]],\n",
              "              \n",
              "                       [[-2.0500e-02, -4.7217e-02,  5.1197e-03],\n",
              "                        [-4.2688e-02, -9.0187e-02, -2.1128e-02],\n",
              "                        [-3.4933e-02, -6.3275e-02, -3.0214e-02]],\n",
              "              \n",
              "                       [[ 6.5369e-02,  1.3791e-02, -7.8949e-02],\n",
              "                        [ 7.8328e-02,  1.1198e-02,  8.3073e-03],\n",
              "                        [ 2.1608e-02, -8.9443e-02,  4.2685e-02]],\n",
              "              \n",
              "                       [[ 9.1984e-02,  8.3452e-02,  1.0103e-01],\n",
              "                        [-7.6777e-02, -4.8906e-02, -4.5468e-02],\n",
              "                        [ 7.9172e-02,  1.8091e-03,  2.6329e-02]],\n",
              "              \n",
              "                       [[ 8.5524e-02,  6.0683e-03,  3.2108e-02],\n",
              "                        [ 1.0061e-01,  6.3735e-03,  3.5462e-02],\n",
              "                        [-3.7672e-02,  6.7940e-02,  2.5825e-02]],\n",
              "              \n",
              "                       [[ 2.5661e-02, -6.9392e-02,  9.0909e-02],\n",
              "                        [ 9.1786e-02,  8.3935e-03,  2.7229e-02],\n",
              "                        [ 5.8465e-02, -3.2186e-02,  9.2987e-02]],\n",
              "              \n",
              "                       [[ 9.8306e-02, -6.6456e-02,  4.0916e-02],\n",
              "                        [ 2.4778e-04, -3.3510e-02, -6.3034e-02],\n",
              "                        [-8.2155e-02, -8.2637e-02, -6.4835e-02]],\n",
              "              \n",
              "                       [[ 4.0789e-02, -6.9303e-02, -8.2782e-02],\n",
              "                        [ 7.8376e-02, -4.6159e-02,  4.1442e-02],\n",
              "                        [-2.7200e-02,  5.7748e-02, -4.8910e-02]],\n",
              "              \n",
              "                       [[ 1.1393e-02, -4.2960e-03,  6.1482e-03],\n",
              "                        [ 9.9936e-02,  1.7558e-02, -8.4137e-02],\n",
              "                        [ 1.7519e-02,  5.7772e-02,  3.1914e-02]],\n",
              "              \n",
              "                       [[ 6.4473e-02, -1.1018e-02, -6.8861e-02],\n",
              "                        [ 9.5791e-02, -8.1083e-02,  1.9768e-02],\n",
              "                        [ 2.2867e-02,  3.8688e-02, -5.8295e-02]]],\n",
              "              \n",
              "              \n",
              "                      [[[-7.7603e-02,  4.6546e-02, -6.2486e-02],\n",
              "                        [ 8.7076e-02,  6.7268e-03, -4.0309e-02],\n",
              "                        [ 3.6475e-02, -3.3354e-02, -2.5982e-02]],\n",
              "              \n",
              "                       [[-6.5431e-02, -3.8245e-02,  6.3687e-02],\n",
              "                        [-7.3911e-02,  1.5519e-02, -1.5889e-02],\n",
              "                        [-9.3909e-02, -4.1034e-02,  7.4938e-02]],\n",
              "              \n",
              "                       [[-1.8161e-02,  6.7415e-02, -9.6236e-02],\n",
              "                        [-7.6038e-03,  6.6716e-02,  1.0055e-01],\n",
              "                        [ 7.6831e-02,  5.9398e-02,  6.0739e-02]],\n",
              "              \n",
              "                       [[ 8.7749e-02, -9.1962e-03,  9.5519e-02],\n",
              "                        [-5.5092e-02,  4.9402e-02, -5.2540e-02],\n",
              "                        [ 1.1008e-03,  5.2194e-02, -5.9713e-03]],\n",
              "              \n",
              "                       [[ 3.9820e-02, -2.3962e-02, -6.9016e-02],\n",
              "                        [ 4.5571e-02, -1.5148e-02, -7.1961e-02],\n",
              "                        [-3.1227e-02,  1.0254e-01,  1.0856e-02]],\n",
              "              \n",
              "                       [[ 6.6334e-02,  2.6418e-02, -8.0885e-02],\n",
              "                        [-8.8369e-03, -7.7754e-02, -5.3333e-02],\n",
              "                        [-5.0143e-02,  8.1521e-02, -9.2656e-02]],\n",
              "              \n",
              "                       [[ 6.0517e-02, -2.1546e-02, -1.1597e-02],\n",
              "                        [-3.3967e-02, -9.3663e-02,  3.5015e-02],\n",
              "                        [ 6.0775e-02,  3.8080e-02,  8.5558e-02]],\n",
              "              \n",
              "                       [[ 6.7373e-02,  4.2595e-02, -8.0990e-03],\n",
              "                        [ 6.9309e-02, -2.0382e-02, -1.5104e-03],\n",
              "                        [ 8.3185e-06,  7.2484e-02,  5.8151e-02]],\n",
              "              \n",
              "                       [[-3.0196e-03, -9.3909e-02,  3.7446e-02],\n",
              "                        [-1.7665e-02, -2.7973e-02,  2.5997e-03],\n",
              "                        [ 5.1635e-02, -2.9598e-02, -1.7166e-02]],\n",
              "              \n",
              "                       [[-5.5807e-02,  5.3313e-02, -7.5203e-02],\n",
              "                        [-2.1334e-02,  2.3713e-02, -8.5271e-03],\n",
              "                        [-1.0462e-01,  3.1194e-02, -2.7524e-02]]],\n",
              "              \n",
              "              \n",
              "                      [[[ 7.7768e-02,  1.0125e-01, -1.0643e-02],\n",
              "                        [-1.0257e-01,  2.2253e-02, -5.8057e-02],\n",
              "                        [ 7.1281e-02, -1.0296e-01, -6.1920e-02]],\n",
              "              \n",
              "                       [[-1.3445e-02, -5.6898e-03,  3.8990e-02],\n",
              "                        [-6.4872e-03,  8.5440e-02, -4.1219e-02],\n",
              "                        [-3.6291e-02,  6.7858e-02, -4.2830e-02]],\n",
              "              \n",
              "                       [[ 1.4200e-02, -6.4644e-03,  8.4612e-02],\n",
              "                        [-1.5538e-02,  6.6422e-02, -2.5103e-02],\n",
              "                        [-5.7901e-02, -1.0360e-01, -7.6679e-02]],\n",
              "              \n",
              "                       [[ 3.1234e-02,  2.7955e-02,  4.9136e-02],\n",
              "                        [-6.6080e-02, -1.2118e-02,  4.4987e-02],\n",
              "                        [-2.8362e-02, -1.5359e-02, -1.5009e-02]],\n",
              "              \n",
              "                       [[ 7.7983e-02,  1.0890e-02, -1.8837e-02],\n",
              "                        [ 4.5146e-03,  4.4417e-04, -9.3340e-02],\n",
              "                        [-1.0439e-01,  7.0413e-02,  5.3127e-02]],\n",
              "              \n",
              "                       [[ 8.5315e-03, -3.0768e-02, -9.7722e-02],\n",
              "                        [-8.9345e-02, -6.2190e-02,  9.7181e-02],\n",
              "                        [ 7.1205e-03,  9.8616e-03, -5.3092e-03]],\n",
              "              \n",
              "                       [[ 7.2020e-02,  5.3606e-02, -4.6747e-02],\n",
              "                        [ 9.3220e-02,  3.4690e-02, -3.8240e-02],\n",
              "                        [ 3.2379e-02,  1.0100e-01, -1.8380e-02]],\n",
              "              \n",
              "                       [[-8.3777e-02,  7.4591e-02,  7.3556e-02],\n",
              "                        [-5.5361e-02,  5.7674e-02, -2.7040e-02],\n",
              "                        [-5.6453e-02,  8.2340e-02, -7.1259e-02]],\n",
              "              \n",
              "                       [[ 2.7699e-02,  1.0109e-01,  7.1940e-02],\n",
              "                        [-9.0090e-02, -3.9895e-02,  4.6151e-02],\n",
              "                        [-9.6283e-02, -1.6303e-02, -1.0377e-01]],\n",
              "              \n",
              "                       [[-5.2206e-03, -3.6248e-02,  6.6791e-02],\n",
              "                        [ 5.8427e-03, -1.0152e-01, -8.1119e-02],\n",
              "                        [ 7.1176e-02,  1.4706e-02, -1.8132e-02]]],\n",
              "              \n",
              "              \n",
              "                      [[[-2.5309e-02, -7.9079e-02, -1.2423e-02],\n",
              "                        [-1.3922e-02,  7.9461e-02, -4.1333e-02],\n",
              "                        [ 6.7433e-02,  1.0378e-01,  8.4606e-02]],\n",
              "              \n",
              "                       [[-5.4604e-02,  3.2321e-02, -5.0069e-03],\n",
              "                        [-6.0699e-02,  3.1549e-02, -4.3797e-03],\n",
              "                        [ 1.1827e-02,  5.4064e-02, -6.2721e-02]],\n",
              "              \n",
              "                       [[ 3.6886e-02, -2.7670e-02, -5.4575e-02],\n",
              "                        [ 5.8981e-02, -8.2991e-02, -1.8352e-02],\n",
              "                        [ 3.1860e-02, -1.5407e-02, -5.4401e-02]],\n",
              "              \n",
              "                       [[ 2.1867e-02,  8.8099e-02,  1.0353e-01],\n",
              "                        [-9.2683e-02, -2.3044e-02,  8.0098e-02],\n",
              "                        [-5.2933e-02,  2.2923e-02, -5.9694e-02]],\n",
              "              \n",
              "                       [[ 7.4910e-02,  4.4981e-02, -9.1567e-02],\n",
              "                        [-1.5665e-02, -4.4472e-02,  5.9132e-02],\n",
              "                        [ 1.3637e-02,  2.8632e-02,  1.0164e-01]],\n",
              "              \n",
              "                       [[ 8.9589e-02,  5.2330e-02,  1.0219e-01],\n",
              "                        [ 5.2031e-02, -9.4628e-02, -4.9916e-02],\n",
              "                        [-9.7762e-02,  6.3766e-02,  8.8401e-02]],\n",
              "              \n",
              "                       [[ 9.8559e-02, -4.7688e-02,  7.2476e-02],\n",
              "                        [-6.3104e-02,  1.0396e-01, -1.6216e-02],\n",
              "                        [-5.3743e-02,  6.8593e-02,  7.8484e-02]],\n",
              "              \n",
              "                       [[ 7.2195e-02, -1.0189e-01,  2.2142e-02],\n",
              "                        [-2.5520e-02,  9.9690e-03,  2.6468e-02],\n",
              "                        [-8.0317e-02,  9.9038e-02,  7.0658e-02]],\n",
              "              \n",
              "                       [[ 9.7879e-02, -2.5447e-02,  6.7767e-02],\n",
              "                        [-2.7404e-02,  9.5678e-02,  6.6162e-02],\n",
              "                        [-7.0659e-02, -5.4783e-02,  8.2845e-02]],\n",
              "              \n",
              "                       [[-2.1944e-02, -3.6644e-02, -9.3136e-03],\n",
              "                        [ 5.8327e-02, -4.1815e-02,  5.1173e-02],\n",
              "                        [ 4.9998e-03,  9.5084e-02,  3.2273e-02]]],\n",
              "              \n",
              "              \n",
              "                      [[[ 4.2822e-02,  8.1759e-02, -7.9762e-03],\n",
              "                        [-1.0525e-01,  6.8490e-02, -1.1988e-02],\n",
              "                        [ 5.3712e-02, -6.5826e-02, -7.9158e-02]],\n",
              "              \n",
              "                       [[-9.1343e-02, -4.9322e-02,  2.3346e-02],\n",
              "                        [ 8.9071e-02,  1.6975e-03, -2.2518e-02],\n",
              "                        [ 3.1603e-02, -4.5753e-02, -7.9053e-02]],\n",
              "              \n",
              "                       [[-9.7445e-02, -1.2335e-02,  8.7162e-02],\n",
              "                        [ 5.8002e-02, -5.6464e-02, -5.4299e-02],\n",
              "                        [ 1.1593e-03, -7.4172e-03, -5.3364e-02]],\n",
              "              \n",
              "                       [[-8.7740e-02,  5.0060e-02,  8.7639e-02],\n",
              "                        [ 6.1369e-02, -5.5241e-02,  1.9729e-02],\n",
              "                        [-9.1106e-02,  2.6220e-02, -1.7099e-02]],\n",
              "              \n",
              "                       [[ 8.8526e-02,  3.9545e-02, -8.8795e-02],\n",
              "                        [ 3.1205e-02,  5.9746e-02,  7.6123e-05],\n",
              "                        [-5.3815e-03, -4.7553e-02,  2.6271e-02]],\n",
              "              \n",
              "                       [[ 3.7642e-03, -3.3978e-02,  8.3510e-02],\n",
              "                        [ 6.3444e-02, -1.9843e-02, -4.9350e-02],\n",
              "                        [ 2.3189e-02, -5.7628e-02, -1.9548e-02]],\n",
              "              \n",
              "                       [[-6.2587e-02,  6.1982e-02,  5.4792e-02],\n",
              "                        [ 8.8418e-03, -9.6397e-02, -5.5921e-02],\n",
              "                        [ 9.8352e-02, -2.8964e-02,  1.0048e-01]],\n",
              "              \n",
              "                       [[ 1.1796e-02, -8.3278e-02,  4.0232e-02],\n",
              "                        [ 4.2031e-02,  6.7116e-02,  1.4265e-02],\n",
              "                        [ 8.0433e-02,  3.4467e-02,  4.2168e-02]],\n",
              "              \n",
              "                       [[ 1.7711e-02, -4.0721e-03,  9.8420e-02],\n",
              "                        [-6.2057e-02, -3.1669e-02,  1.7128e-04],\n",
              "                        [ 1.0182e-02, -7.8203e-02,  4.6096e-02]],\n",
              "              \n",
              "                       [[-7.4296e-02, -3.3709e-02, -2.0678e-02],\n",
              "                        [ 3.7834e-03,  3.9349e-02,  1.8271e-02],\n",
              "                        [-9.2240e-02,  1.6216e-02,  4.5742e-02]]],\n",
              "              \n",
              "              \n",
              "                      [[[-4.0439e-02,  2.3256e-02, -1.0065e-01],\n",
              "                        [ 2.7971e-02, -6.4921e-02,  2.8647e-03],\n",
              "                        [ 1.6961e-02, -9.7875e-02,  7.4287e-02]],\n",
              "              \n",
              "                       [[-7.6045e-02,  3.4593e-02, -3.1467e-02],\n",
              "                        [-1.0470e-01, -2.5576e-02, -1.0358e-01],\n",
              "                        [ 3.8053e-02, -9.0920e-02,  9.9351e-02]],\n",
              "              \n",
              "                       [[ 7.7042e-03,  6.7706e-03, -7.4374e-02],\n",
              "                        [ 9.0117e-02, -3.3013e-02,  7.3134e-02],\n",
              "                        [-8.5030e-02,  1.0276e-01, -4.9607e-02]],\n",
              "              \n",
              "                       [[-7.0214e-02,  3.6394e-02, -9.7156e-02],\n",
              "                        [ 3.8208e-02,  8.7403e-02,  1.0009e-01],\n",
              "                        [-8.0013e-02, -9.3402e-02,  2.0997e-02]],\n",
              "              \n",
              "                       [[ 1.0227e-01,  3.7026e-02,  8.6689e-02],\n",
              "                        [ 4.8722e-02,  4.8759e-02,  3.5874e-02],\n",
              "                        [ 3.5080e-02, -3.9787e-02,  4.8666e-02]],\n",
              "              \n",
              "                       [[ 2.5757e-02, -4.9107e-02,  5.2747e-02],\n",
              "                        [ 1.4830e-02,  7.9411e-02,  4.8033e-02],\n",
              "                        [-2.5142e-02, -8.2723e-02, -6.7309e-02]],\n",
              "              \n",
              "                       [[ 3.5846e-02, -5.2758e-02, -4.3201e-02],\n",
              "                        [ 2.9516e-02,  8.4985e-02,  5.8511e-02],\n",
              "                        [-2.3724e-02,  5.7012e-02, -3.6829e-03]],\n",
              "              \n",
              "                       [[ 4.5188e-02,  9.2742e-02, -2.6022e-02],\n",
              "                        [-1.0371e-01, -5.2937e-02,  8.4800e-02],\n",
              "                        [-9.8485e-02, -3.7385e-02, -5.2769e-02]],\n",
              "              \n",
              "                       [[-5.6346e-02,  4.7029e-02, -1.9474e-02],\n",
              "                        [-3.2774e-02, -5.3159e-02, -3.6974e-02],\n",
              "                        [ 1.0329e-01,  1.4035e-02, -7.3789e-02]],\n",
              "              \n",
              "                       [[ 1.7863e-02, -4.3468e-02, -2.4248e-02],\n",
              "                        [ 3.4052e-02,  3.6156e-02,  2.0235e-02],\n",
              "                        [-9.3087e-02, -1.0151e-01, -8.8889e-02]]],\n",
              "              \n",
              "              \n",
              "                      [[[-1.1323e-02,  1.2810e-02,  5.7942e-02],\n",
              "                        [-5.8401e-02, -1.8933e-02,  9.3324e-02],\n",
              "                        [-5.8046e-02,  1.8847e-03, -1.0099e-01]],\n",
              "              \n",
              "                       [[ 4.0314e-02,  2.7194e-02, -1.6841e-02],\n",
              "                        [-8.5252e-02, -9.9116e-02,  5.0146e-02],\n",
              "                        [ 5.3727e-02, -2.9386e-02,  1.3987e-03]],\n",
              "              \n",
              "                       [[ 3.1178e-03,  3.1150e-02, -3.0442e-03],\n",
              "                        [ 2.4108e-02, -4.3565e-02,  6.1401e-02],\n",
              "                        [-4.4743e-02, -1.0525e-01, -7.4908e-02]],\n",
              "              \n",
              "                       [[-5.2246e-02, -9.8041e-02,  1.0372e-01],\n",
              "                        [-7.6964e-02, -5.3932e-02,  6.5620e-02],\n",
              "                        [ 3.6137e-02, -5.5014e-02,  5.6948e-02]],\n",
              "              \n",
              "                       [[-3.7980e-02,  9.0680e-02, -5.1319e-03],\n",
              "                        [-4.2045e-02,  9.7651e-02, -5.7942e-02],\n",
              "                        [ 6.0838e-03,  3.1121e-02, -4.5822e-02]],\n",
              "              \n",
              "                       [[-5.4043e-02, -8.2017e-02,  6.1477e-02],\n",
              "                        [ 7.6748e-02, -1.1249e-02,  8.6350e-02],\n",
              "                        [-2.6318e-02, -3.9586e-02, -6.1344e-02]],\n",
              "              \n",
              "                       [[-8.4689e-02,  4.2941e-02, -2.9227e-02],\n",
              "                        [ 8.9860e-02,  5.4277e-02, -1.2241e-02],\n",
              "                        [-9.0633e-02, -5.0947e-02, -1.1988e-02]],\n",
              "              \n",
              "                       [[ 2.1635e-02, -4.2323e-02, -3.7827e-02],\n",
              "                        [-7.2949e-02,  5.7876e-02,  3.8999e-02],\n",
              "                        [-6.5531e-02, -4.2935e-02,  2.5212e-02]],\n",
              "              \n",
              "                       [[ 5.2154e-02,  2.8621e-02,  8.4871e-02],\n",
              "                        [ 4.9425e-02, -3.8943e-02, -1.0013e-02],\n",
              "                        [ 7.6786e-02, -2.3375e-02, -5.4014e-02]],\n",
              "              \n",
              "                       [[-4.8730e-02, -6.0582e-03,  7.6158e-03],\n",
              "                        [ 8.7648e-02,  9.0818e-02,  5.0932e-04],\n",
              "                        [ 3.9997e-02,  1.0508e-01,  3.0261e-03]]],\n",
              "              \n",
              "              \n",
              "                      [[[-6.1172e-02,  2.8936e-02, -5.6377e-02],\n",
              "                        [-2.9612e-02, -8.9816e-02, -2.0942e-02],\n",
              "                        [-2.4655e-02, -1.1397e-02, -3.4404e-02]],\n",
              "              \n",
              "                       [[-5.4385e-02, -3.6352e-02, -4.1448e-02],\n",
              "                        [ 5.1766e-02,  9.8671e-02, -5.2930e-02],\n",
              "                        [ 3.3250e-02, -6.6537e-02,  1.0378e-01]],\n",
              "              \n",
              "                       [[-6.7012e-02, -8.5431e-02,  1.6131e-02],\n",
              "                        [ 4.4836e-02, -2.8365e-02,  3.2021e-02],\n",
              "                        [ 9.3846e-02,  9.2614e-02,  9.5355e-02]],\n",
              "              \n",
              "                       [[ 6.8813e-02,  3.0059e-02, -4.4149e-02],\n",
              "                        [ 5.7982e-02,  7.1074e-02, -4.0573e-02],\n",
              "                        [-7.7936e-02,  6.7871e-02, -6.9182e-02]],\n",
              "              \n",
              "                       [[ 6.1973e-02,  8.1159e-02, -2.7202e-02],\n",
              "                        [ 1.0130e-01,  1.4704e-02,  3.0517e-02],\n",
              "                        [ 1.3886e-02,  5.4695e-03, -1.0008e-01]],\n",
              "              \n",
              "                       [[-3.6284e-02,  1.0397e-01,  1.5508e-02],\n",
              "                        [ 3.7049e-02, -6.2269e-02, -9.4415e-02],\n",
              "                        [ 3.8815e-02,  2.4507e-02, -8.3337e-02]],\n",
              "              \n",
              "                       [[ 6.0089e-02,  7.6805e-02, -3.4548e-02],\n",
              "                        [ 4.0893e-02, -9.8978e-02,  1.8174e-02],\n",
              "                        [ 7.6615e-02, -2.9327e-02,  2.3515e-02]],\n",
              "              \n",
              "                       [[-9.5919e-02,  2.9718e-02, -8.2568e-02],\n",
              "                        [ 1.9914e-03, -8.7143e-02,  5.5908e-02],\n",
              "                        [ 6.3347e-03,  8.3258e-02,  7.3610e-02]],\n",
              "              \n",
              "                       [[ 3.3304e-02, -8.0098e-02,  3.4937e-02],\n",
              "                        [-7.8934e-03,  4.3817e-03,  8.3043e-02],\n",
              "                        [-7.3065e-02,  8.4564e-02,  1.0526e-01]],\n",
              "              \n",
              "                       [[ 4.7286e-02, -5.9308e-02,  7.5040e-02],\n",
              "                        [ 3.3987e-02,  8.9318e-02, -6.6344e-02],\n",
              "                        [-7.4927e-02, -2.2651e-03,  4.0514e-02]]],\n",
              "              \n",
              "              \n",
              "                      [[[ 8.7693e-03,  1.8660e-02,  5.4671e-02],\n",
              "                        [ 4.8950e-02, -3.6973e-02,  6.9916e-02],\n",
              "                        [-1.8027e-02, -8.8858e-02,  9.4522e-02]],\n",
              "              \n",
              "                       [[-1.5218e-02, -3.5263e-02,  6.1749e-02],\n",
              "                        [-6.0034e-02, -5.9497e-02, -2.4017e-02],\n",
              "                        [-5.6310e-02, -5.5686e-02,  3.1704e-02]],\n",
              "              \n",
              "                       [[-6.8466e-02, -9.3344e-02, -7.8134e-03],\n",
              "                        [-7.9780e-03, -9.4685e-02, -1.0526e-01],\n",
              "                        [-1.0429e-01, -3.6538e-02, -7.8826e-02]],\n",
              "              \n",
              "                       [[-8.4659e-02, -4.3342e-02,  6.5252e-02],\n",
              "                        [ 6.5668e-02,  6.2557e-02,  4.2524e-02],\n",
              "                        [ 5.6228e-02, -7.9089e-02,  9.7386e-02]],\n",
              "              \n",
              "                       [[-1.8541e-02, -6.6550e-02,  5.5364e-02],\n",
              "                        [ 2.5077e-02,  2.5364e-02,  7.7871e-02],\n",
              "                        [ 1.4495e-02, -5.5091e-02,  6.2820e-02]],\n",
              "              \n",
              "                       [[-6.7090e-02,  6.9882e-02,  2.0832e-02],\n",
              "                        [-1.0011e-01, -7.0920e-02, -5.8870e-02],\n",
              "                        [-9.6504e-02,  8.8728e-02, -9.4916e-02]],\n",
              "              \n",
              "                       [[-6.2680e-02,  8.8457e-02, -2.5894e-02],\n",
              "                        [-8.4090e-02, -4.2219e-02,  3.5782e-02],\n",
              "                        [-2.6404e-02,  8.6289e-02,  8.2004e-02]],\n",
              "              \n",
              "                       [[-3.2328e-02, -5.6033e-02, -6.4444e-02],\n",
              "                        [-8.6305e-02, -4.2313e-02,  5.2637e-02],\n",
              "                        [ 7.1397e-02, -4.7864e-02, -1.0476e-01]],\n",
              "              \n",
              "                       [[-8.6057e-02, -9.9628e-02,  1.0183e-01],\n",
              "                        [-4.7289e-03,  4.8691e-02, -1.8217e-02],\n",
              "                        [-3.6121e-02, -2.1953e-02, -7.7359e-02]],\n",
              "              \n",
              "                       [[-2.9620e-02, -9.9130e-02, -6.9039e-03],\n",
              "                        [ 1.0085e-01,  2.5223e-03,  3.2307e-02],\n",
              "                        [ 2.4422e-02,  5.5948e-02,  2.1978e-02]]]], device='cuda:0')),\n",
              "             ('conv_block_2.0.bias',\n",
              "              tensor([-0.0903,  0.0288, -0.0135,  0.0635,  0.0443, -0.0226, -0.0651, -0.0109,\n",
              "                       0.0693,  0.0974], device='cuda:0')),\n",
              "             ('conv_block_2.2.weight',\n",
              "              tensor([[[[-1.1650e-03, -3.9970e-03,  9.9972e-02],\n",
              "                        [-9.2072e-02,  4.3478e-02,  6.6577e-02],\n",
              "                        [ 9.5060e-05, -6.8186e-02, -2.1449e-02]],\n",
              "              \n",
              "                       [[-9.3987e-02, -1.1589e-02,  7.5872e-05],\n",
              "                        [ 4.0801e-02,  7.0228e-02, -3.6253e-02],\n",
              "                        [ 1.0330e-01,  4.8936e-02, -1.3862e-02]],\n",
              "              \n",
              "                       [[ 2.1386e-02,  3.0638e-03, -8.0893e-02],\n",
              "                        [-6.7968e-02,  5.0873e-02,  4.4415e-02],\n",
              "                        [-1.0519e-02, -7.5804e-02,  8.0626e-02]],\n",
              "              \n",
              "                       [[ 8.0731e-02,  5.2006e-02,  1.9779e-02],\n",
              "                        [ 7.8614e-02, -2.0100e-02, -4.9494e-02],\n",
              "                        [ 7.5132e-02,  5.5870e-02, -8.3572e-02]],\n",
              "              \n",
              "                       [[-8.4810e-02, -1.2650e-02,  4.7769e-03],\n",
              "                        [-7.9711e-02, -5.2570e-02,  7.8275e-02],\n",
              "                        [ 8.6760e-02, -5.8194e-02, -6.8797e-02]],\n",
              "              \n",
              "                       [[-1.0341e-01, -5.9099e-02, -9.9029e-02],\n",
              "                        [ 5.9003e-02, -1.0452e-01,  6.6869e-02],\n",
              "                        [-6.1759e-03,  3.7792e-02,  1.0521e-01]],\n",
              "              \n",
              "                       [[ 6.0743e-02,  9.1362e-02,  6.6397e-02],\n",
              "                        [-3.2028e-03, -1.0422e-01, -9.3668e-02],\n",
              "                        [-4.4639e-02, -5.5805e-02, -5.3125e-02]],\n",
              "              \n",
              "                       [[-5.3763e-02,  9.3582e-02, -1.0597e-02],\n",
              "                        [ 8.0612e-02,  1.0511e-01, -2.6363e-02],\n",
              "                        [ 6.9170e-02,  6.5460e-02, -7.2864e-02]],\n",
              "              \n",
              "                       [[ 8.5669e-02, -8.7178e-03,  9.7632e-02],\n",
              "                        [-2.3179e-02,  7.5228e-02, -2.1812e-02],\n",
              "                        [-2.0668e-02, -6.1491e-02,  6.0600e-02]],\n",
              "              \n",
              "                       [[-3.7510e-02,  8.5927e-02, -3.3839e-02],\n",
              "                        [ 3.5694e-02, -1.9364e-02,  7.5226e-03],\n",
              "                        [-3.8088e-02, -6.2702e-02, -3.1025e-02]]],\n",
              "              \n",
              "              \n",
              "                      [[[ 4.8725e-02,  1.0138e-01,  9.5340e-03],\n",
              "                        [ 9.2385e-02,  5.5556e-02,  9.0549e-02],\n",
              "                        [-7.1971e-02,  6.8994e-02,  6.4917e-02]],\n",
              "              \n",
              "                       [[-8.0870e-02,  7.4101e-02,  4.6014e-02],\n",
              "                        [-7.4241e-03, -9.2498e-02,  8.1108e-02],\n",
              "                        [-1.2748e-02, -1.3946e-02,  3.7094e-02]],\n",
              "              \n",
              "                       [[-3.9023e-02,  1.1377e-03,  5.3335e-02],\n",
              "                        [ 4.9951e-02,  8.4737e-02, -1.9013e-02],\n",
              "                        [-8.8734e-02,  5.6586e-02, -1.6678e-02]],\n",
              "              \n",
              "                       [[ 5.7678e-03, -4.0326e-02,  2.5639e-02],\n",
              "                        [-2.2469e-02,  5.1301e-03, -8.2865e-03],\n",
              "                        [-4.9589e-02, -3.7513e-02,  7.2513e-02]],\n",
              "              \n",
              "                       [[ 4.3028e-02, -1.6661e-02,  4.6861e-03],\n",
              "                        [ 6.5515e-02, -8.4581e-02, -1.0157e-01],\n",
              "                        [ 7.4228e-02,  9.1750e-02, -5.3368e-02]],\n",
              "              \n",
              "                       [[ 2.8242e-03, -6.0687e-02,  1.9445e-02],\n",
              "                        [ 5.1700e-02, -9.2031e-02, -2.4200e-02],\n",
              "                        [ 6.4416e-02,  5.0493e-02, -3.7569e-02]],\n",
              "              \n",
              "                       [[-1.2811e-04,  5.8497e-03,  9.2269e-02],\n",
              "                        [ 6.0298e-03,  3.5912e-02, -7.5014e-02],\n",
              "                        [ 6.4877e-02,  7.0453e-03,  9.1633e-02]],\n",
              "              \n",
              "                       [[-6.5704e-02,  4.2319e-02,  4.0586e-02],\n",
              "                        [-4.9405e-02,  4.9327e-02, -4.2318e-03],\n",
              "                        [-1.0148e-02,  5.0895e-03, -4.1442e-02]],\n",
              "              \n",
              "                       [[-1.0714e-02,  1.0176e-01,  7.3685e-02],\n",
              "                        [ 2.9081e-02, -7.8901e-02, -6.6320e-03],\n",
              "                        [-9.6305e-02,  2.1131e-02, -6.4014e-02]],\n",
              "              \n",
              "                       [[ 1.7606e-02,  3.3549e-02,  6.5512e-02],\n",
              "                        [ 7.6051e-02, -4.9319e-02,  1.0495e-02],\n",
              "                        [ 6.0023e-02, -7.3103e-02,  3.5378e-02]]],\n",
              "              \n",
              "              \n",
              "                      [[[ 9.9384e-02, -6.4532e-02,  9.7111e-02],\n",
              "                        [ 4.6486e-02,  9.8703e-02,  3.2912e-02],\n",
              "                        [-2.9781e-02, -7.3049e-02,  3.5566e-02]],\n",
              "              \n",
              "                       [[ 7.0361e-02,  6.1157e-02,  2.9310e-02],\n",
              "                        [ 3.0977e-02,  4.0362e-02,  5.5907e-02],\n",
              "                        [-9.5607e-02, -8.8597e-02, -2.6096e-02]],\n",
              "              \n",
              "                       [[-3.4890e-02,  9.2155e-02, -7.2248e-02],\n",
              "                        [-1.0321e-01, -3.8938e-02, -9.4906e-02],\n",
              "                        [-2.4824e-02,  6.9320e-02,  1.1571e-02]],\n",
              "              \n",
              "                       [[ 3.7220e-02,  6.1499e-02,  4.8113e-02],\n",
              "                        [ 7.0905e-02, -7.5115e-02, -9.0280e-02],\n",
              "                        [ 7.4829e-02, -1.0037e-01, -9.3970e-02]],\n",
              "              \n",
              "                       [[-8.1590e-02,  3.0333e-02, -1.5363e-02],\n",
              "                        [-3.8514e-02, -7.8353e-03,  7.3616e-02],\n",
              "                        [ 7.6751e-02,  7.9381e-02, -3.0971e-02]],\n",
              "              \n",
              "                       [[-5.6919e-02,  9.7437e-03, -9.3098e-02],\n",
              "                        [ 4.8831e-02,  7.7931e-02, -8.6874e-02],\n",
              "                        [-3.8953e-02, -4.1249e-02, -6.8621e-02]],\n",
              "              \n",
              "                       [[ 5.2856e-02,  2.8972e-02,  6.7589e-02],\n",
              "                        [ 1.1045e-02, -6.3031e-02,  6.7742e-02],\n",
              "                        [-1.4886e-02,  1.0320e-01,  4.9590e-02]],\n",
              "              \n",
              "                       [[ 2.5907e-02,  9.9859e-02, -3.9260e-02],\n",
              "                        [ 4.8802e-02, -1.0356e-01, -7.4860e-02],\n",
              "                        [-5.5986e-03, -5.1340e-02,  2.5424e-02]],\n",
              "              \n",
              "                       [[-1.4676e-02,  7.4425e-02, -6.4096e-02],\n",
              "                        [ 7.1501e-02, -1.0312e-01,  4.8997e-02],\n",
              "                        [ 1.4707e-02,  4.3754e-02, -9.6010e-02]],\n",
              "              \n",
              "                       [[ 7.2691e-02, -6.1647e-02,  9.9306e-02],\n",
              "                        [ 4.5122e-02,  3.2833e-02,  7.0404e-02],\n",
              "                        [-9.5517e-02, -9.0704e-02, -3.4996e-03]]],\n",
              "              \n",
              "              \n",
              "                      [[[ 3.2385e-02,  5.2823e-02,  7.8845e-02],\n",
              "                        [ 4.6697e-02, -9.5221e-03, -1.0229e-01],\n",
              "                        [-6.6078e-02, -3.3551e-03,  4.4856e-02]],\n",
              "              \n",
              "                       [[ 5.8955e-02,  9.5703e-03, -6.4981e-02],\n",
              "                        [ 8.2310e-02,  8.3772e-02,  8.0562e-02],\n",
              "                        [-6.9700e-02,  1.3186e-02, -2.4065e-02]],\n",
              "              \n",
              "                       [[ 5.5405e-02, -6.7617e-02, -8.0842e-02],\n",
              "                        [-7.7891e-02, -7.6833e-02, -6.8743e-02],\n",
              "                        [-8.8606e-02,  2.1300e-02,  3.0553e-03]],\n",
              "              \n",
              "                       [[ 2.2008e-02, -1.0028e-01, -2.3688e-02],\n",
              "                        [-8.4942e-02, -8.5970e-02, -2.4401e-02],\n",
              "                        [-8.6366e-02,  6.9372e-02, -2.9373e-02]],\n",
              "              \n",
              "                       [[ 2.6513e-02, -1.0473e-01,  6.9761e-02],\n",
              "                        [ 9.6907e-02,  6.9837e-02,  1.7367e-03],\n",
              "                        [ 7.1537e-03, -9.3689e-02,  7.6659e-02]],\n",
              "              \n",
              "                       [[-5.1378e-03, -1.8426e-02,  3.6642e-02],\n",
              "                        [-6.1592e-02,  8.5781e-02, -2.8051e-02],\n",
              "                        [ 6.1849e-02,  4.0245e-02, -4.6519e-02]],\n",
              "              \n",
              "                       [[-2.2488e-02,  3.8593e-02,  5.4915e-03],\n",
              "                        [ 7.3323e-02,  5.2148e-02, -1.0468e-01],\n",
              "                        [ 8.5496e-02,  2.1278e-02, -7.5288e-03]],\n",
              "              \n",
              "                       [[-6.7004e-02, -3.1406e-02, -5.9902e-02],\n",
              "                        [ 3.0578e-02, -6.8798e-02, -9.6363e-03],\n",
              "                        [-3.1257e-02, -7.7492e-02, -4.2498e-02]],\n",
              "              \n",
              "                       [[ 8.2539e-02, -1.0102e-01, -2.9742e-02],\n",
              "                        [-1.0177e-01, -5.7832e-02,  2.1696e-04],\n",
              "                        [-1.0346e-01, -4.3092e-02, -8.9059e-02]],\n",
              "              \n",
              "                       [[ 9.1628e-02,  2.4273e-02,  5.4041e-02],\n",
              "                        [ 3.3734e-02,  1.0344e-01,  5.9214e-02],\n",
              "                        [ 4.4269e-02,  1.9692e-02, -4.7750e-02]]],\n",
              "              \n",
              "              \n",
              "                      [[[ 7.0727e-02, -9.5561e-02,  6.1073e-02],\n",
              "                        [-1.7669e-02,  4.2279e-02,  5.5304e-02],\n",
              "                        [ 4.3360e-02,  9.9352e-02,  4.7121e-02]],\n",
              "              \n",
              "                       [[ 4.3333e-02,  1.0091e-01,  1.0039e-01],\n",
              "                        [-2.9143e-02, -3.8061e-02, -9.5073e-02],\n",
              "                        [-2.7250e-02, -1.0426e-01,  5.5494e-02]],\n",
              "              \n",
              "                       [[ 5.1237e-02, -9.9709e-02, -2.6147e-02],\n",
              "                        [ 4.1545e-03, -1.2572e-02, -1.4632e-02],\n",
              "                        [ 5.1402e-03, -3.8777e-02, -4.5694e-02]],\n",
              "              \n",
              "                       [[ 1.0123e-01, -5.7854e-02, -2.8488e-02],\n",
              "                        [-9.0427e-02, -3.9883e-02,  1.0082e-01],\n",
              "                        [-2.4811e-02,  1.0537e-01, -8.1201e-02]],\n",
              "              \n",
              "                       [[-8.4808e-02, -4.9849e-02,  9.2341e-02],\n",
              "                        [ 5.7430e-02,  9.6480e-03, -5.4151e-02],\n",
              "                        [-2.7291e-02, -4.0925e-02, -2.0147e-02]],\n",
              "              \n",
              "                       [[-8.8847e-02,  8.6236e-02, -9.2326e-02],\n",
              "                        [ 9.0372e-02, -2.6382e-03, -7.1246e-02],\n",
              "                        [ 7.2463e-02,  5.9304e-02, -2.8340e-02]],\n",
              "              \n",
              "                       [[-1.1466e-02,  2.0199e-03, -2.0493e-02],\n",
              "                        [-8.4501e-02,  7.7641e-02, -1.9840e-02],\n",
              "                        [ 7.9787e-02, -8.9334e-02,  5.6818e-02]],\n",
              "              \n",
              "                       [[ 4.0199e-02,  8.3864e-02, -3.3459e-02],\n",
              "                        [-2.9948e-02, -7.9348e-02, -1.7549e-02],\n",
              "                        [ 1.2795e-02,  6.7222e-02, -3.8368e-02]],\n",
              "              \n",
              "                       [[-2.3891e-02, -6.1143e-03,  7.6548e-02],\n",
              "                        [-1.3619e-03,  5.0793e-02,  7.8035e-02],\n",
              "                        [-6.0703e-02,  1.0159e-01, -8.8613e-03]],\n",
              "              \n",
              "                       [[-9.7424e-02, -3.7269e-02, -5.3037e-02],\n",
              "                        [-7.8011e-02,  4.6310e-02,  2.4791e-02],\n",
              "                        [-4.0094e-02,  7.8179e-02,  6.6482e-02]]],\n",
              "              \n",
              "              \n",
              "                      [[[-7.3089e-02,  8.4731e-02, -8.9684e-02],\n",
              "                        [-2.2367e-02, -7.8323e-02,  1.8605e-02],\n",
              "                        [-6.2999e-02, -8.2247e-02, -4.8171e-02]],\n",
              "              \n",
              "                       [[-2.7508e-02,  5.3277e-02, -8.1853e-02],\n",
              "                        [-5.4781e-02, -6.7685e-02, -9.1905e-02],\n",
              "                        [ 8.5244e-02, -1.0970e-02,  1.0248e-01]],\n",
              "              \n",
              "                       [[ 7.6344e-02, -3.4413e-02, -4.1805e-02],\n",
              "                        [ 4.1052e-02,  7.7396e-02,  9.7220e-02],\n",
              "                        [ 1.7241e-02,  2.5238e-02,  4.3590e-02]],\n",
              "              \n",
              "                       [[-2.1119e-02, -5.5514e-02, -8.5392e-02],\n",
              "                        [ 4.2880e-02, -6.2437e-02,  6.7276e-02],\n",
              "                        [ 3.4737e-02, -7.8333e-02,  4.6447e-04]],\n",
              "              \n",
              "                       [[ 3.2055e-02,  3.3400e-02,  6.5101e-02],\n",
              "                        [-2.2281e-03, -1.0241e-01, -4.8448e-02],\n",
              "                        [ 3.7670e-02, -4.9687e-03,  9.1322e-03]],\n",
              "              \n",
              "                       [[ 8.9602e-02,  3.5302e-03,  6.4360e-02],\n",
              "                        [-2.1734e-02, -4.3897e-02, -5.9125e-02],\n",
              "                        [ 9.9996e-03, -2.3351e-02, -1.4163e-03]],\n",
              "              \n",
              "                       [[ 9.3039e-02, -2.8867e-02,  2.3947e-02],\n",
              "                        [ 3.7211e-02,  6.1845e-02, -4.6846e-02],\n",
              "                        [-5.7193e-02,  1.3821e-03,  1.0496e-01]],\n",
              "              \n",
              "                       [[-7.0246e-02, -1.7805e-02, -3.0674e-02],\n",
              "                        [ 4.4916e-02, -7.0803e-02, -7.6855e-02],\n",
              "                        [-1.5286e-02,  1.2136e-02,  6.5403e-02]],\n",
              "              \n",
              "                       [[-2.4244e-02,  9.2226e-02, -4.5705e-02],\n",
              "                        [-3.5288e-02,  3.9231e-02,  3.7380e-02],\n",
              "                        [ 5.3737e-02,  7.4936e-02, -8.8036e-02]],\n",
              "              \n",
              "                       [[-1.1405e-02, -6.3774e-02,  1.6218e-02],\n",
              "                        [ 9.8443e-02, -2.6697e-02,  8.8680e-02],\n",
              "                        [-7.7120e-02, -1.7712e-02, -6.5354e-02]]],\n",
              "              \n",
              "              \n",
              "                      [[[-1.7301e-02,  6.6211e-03,  8.2044e-03],\n",
              "                        [ 1.0040e-01,  4.0987e-02,  3.8265e-02],\n",
              "                        [ 8.8076e-02,  4.5299e-02,  9.8458e-02]],\n",
              "              \n",
              "                       [[-6.9017e-02,  5.1697e-02,  4.6722e-02],\n",
              "                        [ 1.0501e-01,  4.8235e-02,  6.8274e-03],\n",
              "                        [-2.2665e-02,  3.8395e-02,  6.5070e-02]],\n",
              "              \n",
              "                       [[ 1.0165e-01,  9.3066e-03,  7.2570e-02],\n",
              "                        [-7.0732e-03, -3.7694e-02,  4.0880e-02],\n",
              "                        [ 2.3579e-03, -3.8098e-02, -1.0383e-01]],\n",
              "              \n",
              "                       [[ 7.8556e-02, -2.7677e-02, -4.8747e-02],\n",
              "                        [-7.9839e-02,  2.8361e-02,  5.3223e-02],\n",
              "                        [ 1.0304e-01, -8.4617e-02,  2.9639e-02]],\n",
              "              \n",
              "                       [[-2.9377e-02, -1.1223e-02, -6.5778e-02],\n",
              "                        [-3.6274e-02,  2.6982e-02,  8.3758e-02],\n",
              "                        [ 4.0601e-02, -5.0311e-02, -4.5540e-02]],\n",
              "              \n",
              "                       [[ 9.3660e-02,  1.6005e-02,  6.8832e-02],\n",
              "                        [ 6.7151e-02,  9.5212e-02,  2.1064e-02],\n",
              "                        [ 5.0981e-02,  4.3085e-02,  5.0987e-02]],\n",
              "              \n",
              "                       [[ 6.6065e-02,  4.7806e-02, -1.0444e-01],\n",
              "                        [-3.4364e-02, -7.0782e-02, -3.3708e-02],\n",
              "                        [-4.9278e-02, -3.6465e-02,  7.8354e-02]],\n",
              "              \n",
              "                       [[ 9.3233e-02,  9.0901e-02, -1.2533e-02],\n",
              "                        [-7.6052e-02,  6.1894e-02,  4.9317e-02],\n",
              "                        [ 7.9609e-02, -8.6669e-02, -9.8696e-02]],\n",
              "              \n",
              "                       [[ 4.2298e-03,  7.7532e-02, -1.0144e-01],\n",
              "                        [ 8.1298e-02, -5.4266e-02,  4.9194e-02],\n",
              "                        [-9.4156e-02, -2.2761e-02,  3.6168e-02]],\n",
              "              \n",
              "                       [[-6.9857e-02,  1.3900e-02, -3.7952e-02],\n",
              "                        [-2.0511e-03,  9.7836e-02, -7.6377e-02],\n",
              "                        [-8.3378e-02, -7.9524e-02,  1.9930e-02]]],\n",
              "              \n",
              "              \n",
              "                      [[[-5.7627e-02,  4.6962e-02,  1.0440e-03],\n",
              "                        [ 2.2137e-02, -1.0315e-01,  6.4098e-02],\n",
              "                        [ 5.0863e-02, -7.9256e-02, -5.3943e-02]],\n",
              "              \n",
              "                       [[-9.6997e-03,  7.7815e-02,  6.6500e-03],\n",
              "                        [ 1.4603e-02, -8.3149e-02,  7.5670e-02],\n",
              "                        [ 7.7112e-02,  1.0467e-03,  4.0228e-02]],\n",
              "              \n",
              "                       [[ 9.9437e-03,  2.6022e-02,  1.0341e-01],\n",
              "                        [-8.3730e-03, -5.7733e-02,  4.2982e-02],\n",
              "                        [-3.7440e-02, -2.9284e-02,  4.4516e-02]],\n",
              "              \n",
              "                       [[ 8.4111e-02,  5.7995e-02, -1.0284e-01],\n",
              "                        [-4.2867e-02,  1.3296e-02, -6.8348e-02],\n",
              "                        [ 9.3118e-02, -4.8275e-02,  1.3008e-02]],\n",
              "              \n",
              "                       [[ 1.0206e-01,  3.5050e-02,  8.7720e-02],\n",
              "                        [-1.1808e-02, -8.6693e-03,  4.3109e-02],\n",
              "                        [-6.6029e-02,  7.3804e-02, -8.2548e-02]],\n",
              "              \n",
              "                       [[ 8.7557e-02, -3.3336e-02, -6.7997e-02],\n",
              "                        [ 6.9641e-02, -3.1942e-02, -3.4462e-02],\n",
              "                        [-3.3789e-03,  2.0171e-02,  8.5227e-02]],\n",
              "              \n",
              "                       [[-5.2028e-02,  6.0673e-02, -6.7772e-02],\n",
              "                        [-1.3353e-02, -8.2682e-02, -7.3016e-02],\n",
              "                        [ 8.0520e-02,  9.0613e-02,  1.0527e-01]],\n",
              "              \n",
              "                       [[-1.4679e-02, -1.6131e-02,  5.9044e-02],\n",
              "                        [-9.9454e-02, -1.0024e-01, -9.7711e-02],\n",
              "                        [ 6.4481e-02,  9.9279e-02,  4.4448e-02]],\n",
              "              \n",
              "                       [[-9.1139e-02,  5.3672e-02, -9.3672e-02],\n",
              "                        [-9.1172e-02, -2.0026e-02, -1.0458e-01],\n",
              "                        [ 9.2174e-02, -9.9515e-02, -9.6875e-02]],\n",
              "              \n",
              "                       [[-2.0667e-02,  4.9275e-02, -3.2215e-02],\n",
              "                        [ 4.2302e-02, -7.9390e-03,  4.4003e-02],\n",
              "                        [ 4.2514e-02,  5.4099e-02,  8.4623e-02]]],\n",
              "              \n",
              "              \n",
              "                      [[[ 8.7442e-02, -1.5612e-02,  8.9888e-02],\n",
              "                        [ 6.6782e-02, -4.0112e-02,  5.4016e-02],\n",
              "                        [ 6.3978e-03,  5.8243e-02,  8.8044e-03]],\n",
              "              \n",
              "                       [[-8.9483e-02, -8.3255e-02,  9.3009e-03],\n",
              "                        [ 2.9909e-02,  9.0880e-02,  6.2967e-02],\n",
              "                        [-1.0024e-01, -1.8823e-02, -2.3227e-02]],\n",
              "              \n",
              "                       [[-8.6778e-02, -1.7283e-02, -1.8859e-02],\n",
              "                        [-7.9783e-02,  6.1089e-02, -3.6840e-02],\n",
              "                        [-1.8832e-02,  7.3245e-03, -3.4060e-02]],\n",
              "              \n",
              "                       [[ 3.8693e-02, -4.0407e-02, -3.9679e-02],\n",
              "                        [-1.0530e-01, -9.8926e-02, -8.6912e-02],\n",
              "                        [-9.9725e-02,  1.0223e-01, -2.3642e-02]],\n",
              "              \n",
              "                       [[ 4.3512e-02,  6.7571e-02, -4.3942e-02],\n",
              "                        [-3.0937e-02, -6.0460e-02,  6.2375e-02],\n",
              "                        [-1.4761e-02,  4.8931e-02,  6.0581e-02]],\n",
              "              \n",
              "                       [[-1.3956e-02, -7.2226e-02, -5.3736e-02],\n",
              "                        [-8.6337e-03,  2.0894e-02,  1.0325e-01],\n",
              "                        [ 4.4195e-02, -7.6143e-02, -2.1331e-02]],\n",
              "              \n",
              "                       [[ 9.1265e-02,  9.5249e-03,  1.1206e-02],\n",
              "                        [-4.1651e-02, -5.8881e-02,  7.2870e-03],\n",
              "                        [-2.0106e-02, -7.1094e-02, -8.4571e-02]],\n",
              "              \n",
              "                       [[-4.7844e-02,  7.7676e-02,  1.2376e-02],\n",
              "                        [-4.0012e-03, -5.1867e-02, -6.7632e-02],\n",
              "                        [-4.9887e-02, -7.6574e-02, -9.7342e-02]],\n",
              "              \n",
              "                       [[-7.8362e-02, -5.7099e-02, -2.5756e-02],\n",
              "                        [-2.0257e-02, -8.0542e-02,  9.6753e-02],\n",
              "                        [ 5.4586e-02, -3.5559e-02, -2.0276e-02]],\n",
              "              \n",
              "                       [[ 7.6354e-02, -3.9891e-03, -1.0032e-01],\n",
              "                        [-2.3236e-02,  5.9468e-02,  5.4394e-02],\n",
              "                        [-1.2558e-02, -7.8595e-02,  3.5989e-02]]],\n",
              "              \n",
              "              \n",
              "                      [[[ 6.2797e-02,  9.1707e-02, -4.7291e-02],\n",
              "                        [-8.8121e-02,  3.4564e-02, -6.1552e-02],\n",
              "                        [-3.0857e-02,  9.3312e-02,  5.5161e-02]],\n",
              "              \n",
              "                       [[ 1.1776e-02, -1.0138e-01,  2.9572e-02],\n",
              "                        [-6.6615e-02,  9.9377e-02, -5.0916e-03],\n",
              "                        [-2.5342e-02,  5.1967e-02, -2.6193e-03]],\n",
              "              \n",
              "                       [[-6.5558e-02,  4.5902e-02,  4.3325e-02],\n",
              "                        [ 7.4242e-02,  3.0470e-02,  3.1816e-03],\n",
              "                        [-7.8181e-02,  3.7121e-02,  7.5700e-02]],\n",
              "              \n",
              "                       [[-1.0239e-01,  1.8786e-02,  4.7752e-02],\n",
              "                        [-5.1912e-02,  2.3603e-02,  4.3513e-02],\n",
              "                        [-6.1334e-02, -1.0305e-01, -9.2309e-02]],\n",
              "              \n",
              "                       [[ 6.1183e-02, -7.9629e-02, -5.8207e-02],\n",
              "                        [-4.7200e-02,  7.1891e-02,  4.6125e-02],\n",
              "                        [ 6.3291e-02,  9.2725e-02, -7.1268e-02]],\n",
              "              \n",
              "                       [[ 6.5689e-02,  4.8455e-02, -3.6644e-02],\n",
              "                        [-6.7365e-02,  7.5591e-02,  5.5644e-02],\n",
              "                        [-9.9543e-02,  2.6257e-02,  6.0619e-02]],\n",
              "              \n",
              "                       [[ 2.9193e-03, -3.4341e-02,  8.9145e-02],\n",
              "                        [ 8.8028e-02, -9.7799e-02, -9.6882e-02],\n",
              "                        [ 6.3427e-02, -9.7930e-02,  1.3315e-02]],\n",
              "              \n",
              "                       [[ 2.5007e-02,  5.0180e-02, -9.6070e-02],\n",
              "                        [ 3.1628e-02,  7.7848e-02, -1.0349e-01],\n",
              "                        [ 1.1740e-02, -6.3236e-02,  9.5725e-02]],\n",
              "              \n",
              "                       [[ 6.7615e-02,  1.8351e-02,  4.6296e-02],\n",
              "                        [ 6.7247e-02,  7.2744e-02,  5.6730e-02],\n",
              "                        [ 8.1920e-02,  2.6593e-02, -1.5639e-02]],\n",
              "              \n",
              "                       [[ 3.3492e-03, -1.9671e-02,  4.5790e-02],\n",
              "                        [ 5.5371e-02, -3.6404e-02, -8.8590e-02],\n",
              "                        [ 7.2420e-02, -3.5902e-02, -3.3420e-02]]]], device='cuda:0')),\n",
              "             ('conv_block_2.2.bias',\n",
              "              tensor([-0.0992,  0.1049, -0.0124, -0.0910, -0.0668,  0.0865,  0.0369,  0.0868,\n",
              "                       0.0584,  0.0115], device='cuda:0')),\n",
              "             ('classifier.1.weight',\n",
              "              tensor([[ 0.0063,  0.0391,  0.0133,  ...,  0.0189,  0.0391, -0.0151],\n",
              "                      [-0.0179,  0.0148,  0.0443,  ..., -0.0104, -0.0199, -0.0019],\n",
              "                      [ 0.0306,  0.0086, -0.0411,  ...,  0.0220, -0.0183, -0.0047],\n",
              "                      ...,\n",
              "                      [-0.0358,  0.0248,  0.0151,  ..., -0.0263, -0.0076,  0.0195],\n",
              "                      [-0.0373, -0.0060,  0.0059,  ..., -0.0316,  0.0331,  0.0256],\n",
              "                      [-0.0012, -0.0089,  0.0182,  ...,  0.0414,  0.0124,  0.0069]],\n",
              "                     device='cuda:0')),\n",
              "             ('classifier.1.bias',\n",
              "              tensor([ 0.0053, -0.0304,  0.0360,  0.0230, -0.0115, -0.0417,  0.0225, -0.0264,\n",
              "                       0.0081,  0.0409], device='cuda:0'))])"
            ]
          },
          "metadata": {},
          "execution_count": 18
        }
      ]
    },
    {
      "cell_type": "code",
      "source": [
        "# Try a dummy forward pass to see what shapes our data is\n",
        "dummy_x = torch.rand(size=(1, 28, 28)).unsqueeze(dim=0).to(device)\n",
        "# dummy_x.shape\n",
        "model(dummy_x)"
      ],
      "metadata": {
        "id": "9nr8Q5ol7MKg",
        "outputId": "eb13cdc3-c4d6-413f-b2ce-6e3f924d20fc",
        "colab": {
          "base_uri": "https://localhost:8080/"
        }
      },
      "execution_count": 19,
      "outputs": [
        {
          "output_type": "execute_result",
          "data": {
            "text/plain": [
              "tensor([[ 0.0645, -0.0099,  0.0267,  0.0126, -0.0924,  0.0210,  0.0876, -0.0464,\n",
              "          0.0542,  0.1052]], device='cuda:0', grad_fn=<AddmmBackward0>)"
            ]
          },
          "metadata": {},
          "execution_count": 19
        }
      ]
    },
    {
      "cell_type": "code",
      "source": [
        "dummy_x_2 = torch.rand(size=([1, 10, 7, 7]))\n",
        "dummy_x_2.shape"
      ],
      "metadata": {
        "id": "RxSVIBbR7O2Q",
        "outputId": "fefd819b-3725-4c78-995f-86b2d42548f1",
        "colab": {
          "base_uri": "https://localhost:8080/"
        }
      },
      "execution_count": 20,
      "outputs": [
        {
          "output_type": "execute_result",
          "data": {
            "text/plain": [
              "torch.Size([1, 10, 7, 7])"
            ]
          },
          "metadata": {},
          "execution_count": 20
        }
      ]
    },
    {
      "cell_type": "code",
      "source": [
        "flatten_layer = nn.Flatten()\n",
        "flatten_layer(dummy_x_2).shape"
      ],
      "metadata": {
        "id": "EXbyDCNZ7ToD",
        "outputId": "0073d86c-8c29-4cc9-89b2-323e8274fe34",
        "colab": {
          "base_uri": "https://localhost:8080/"
        }
      },
      "execution_count": 21,
      "outputs": [
        {
          "output_type": "execute_result",
          "data": {
            "text/plain": [
              "torch.Size([1, 490])"
            ]
          },
          "metadata": {},
          "execution_count": 21
        }
      ]
    },
    {
      "cell_type": "markdown",
      "source": [
        "### **9. Train the model you built in exercise 8. for 5 epochs on CPU and GPU and see how long it takes on each.**"
      ],
      "metadata": {
        "id": "2XtOxeJb7WOp"
      }
    },
    {
      "cell_type": "code",
      "source": [
        "%%time\n",
        "from tqdm.auto import tqdm\n",
        "\n",
        "# Train on CPU\n",
        "model_cpu = MNIST_model(input_shape=1,\n",
        "                        hidden_units=10,\n",
        "                        output_shape=10).to(\"cpu\")\n",
        "\n",
        "# Create a loss function and optimizer\n",
        "loss_fn = nn.CrossEntropyLoss()\n",
        "optimizer = torch.optim.SGD(model_cpu.parameters(), lr=0.1)\n",
        "\n",
        "### Training loop\n",
        "epochs = 5\n",
        "for epoch in tqdm(range(epochs)):\n",
        "  train_loss = 0\n",
        "  for batch, (X, y) in enumerate(train_dataloader):\n",
        "    model_cpu.train()\n",
        "\n",
        "    # Put data on CPU\n",
        "    X, y = X.to(\"cpu\"), y.to(\"cpu\")\n",
        "\n",
        "    # Forward pass\n",
        "    y_pred = model_cpu(X)\n",
        "\n",
        "    # Loss calculation\n",
        "    loss = loss_fn(y_pred, y)\n",
        "    train_loss += loss\n",
        "\n",
        "    # Optimizer zero grad\n",
        "    optimizer.zero_grad()\n",
        "\n",
        "    # Loss backward\n",
        "    loss.backward()\n",
        "\n",
        "    # Step the optimizer\n",
        "    optimizer.step()\n",
        "\n",
        "  # Adjust train loss for number of batches\n",
        "  train_loss /= len(train_dataloader)\n",
        "\n",
        "  ### Testing loop\n",
        "  test_loss_total = 0\n",
        "\n",
        "  # Put model in eval mode\n",
        "  model_cpu.eval()\n",
        "\n",
        "  # Turn on inference mode\n",
        "  with torch.inference_mode():\n",
        "    for batch, (X_test, y_test) in enumerate(test_dataloader):\n",
        "      # Make sure test data on CPU\n",
        "      X_test, y_test = X_test.to(\"cpu\"), y_test.to(\"cpu\")\n",
        "      test_pred = model_cpu(X_test)\n",
        "      test_loss = loss_fn(test_pred, y_test)\n",
        "\n",
        "      test_loss_total += test_loss\n",
        "\n",
        "    test_loss_total /= len(test_dataloader)\n",
        "\n",
        "  # Print out what's happening\n",
        "  print(f\"Epoch: {epoch} | Loss: {train_loss:.3f} | Test loss: {test_loss_total:.3f}\")"
      ],
      "metadata": {
        "id": "SpsmgeSr7Ysm",
        "outputId": "9773cb75-d3bc-4b5d-e264-044aa414545b",
        "colab": {
          "base_uri": "https://localhost:8080/",
          "height": 171,
          "referenced_widgets": [
            "faaf8cdc17d2490897a07554f5c6b8de",
            "862f5dea413344d7a1393947dac51fbc",
            "b1bfd406d49f4c9e90ffb5a8828ca157",
            "c9a6d568f86d426aafcdc16c2fdf68a9",
            "d3f49fad43bf43eca1c14e2fe6c71da4",
            "9908273508e242b6a5b241bd412cdb6f",
            "4e2d1b12ef014210a5abc957229fb711",
            "e8acc47670e84745a32f060718ac63ba",
            "8b8391b1d5aa4b51b9faeb5f1251b0e5",
            "88a01a41aa4946bc96097211dc138e75",
            "a95b22767a5f428086603660fe30dd93"
          ]
        }
      },
      "execution_count": 22,
      "outputs": [
        {
          "output_type": "display_data",
          "data": {
            "text/plain": [
              "  0%|          | 0/5 [00:00<?, ?it/s]"
            ],
            "application/vnd.jupyter.widget-view+json": {
              "version_major": 2,
              "version_minor": 0,
              "model_id": "faaf8cdc17d2490897a07554f5c6b8de"
            }
          },
          "metadata": {}
        },
        {
          "output_type": "stream",
          "name": "stdout",
          "text": [
            "Epoch: 0 | Loss: 0.287 | Test loss: 0.062\n",
            "Epoch: 1 | Loss: 0.067 | Test loss: 0.058\n",
            "Epoch: 2 | Loss: 0.053 | Test loss: 0.044\n",
            "Epoch: 3 | Loss: 0.044 | Test loss: 0.035\n",
            "Epoch: 4 | Loss: 0.039 | Test loss: 0.042\n",
            "CPU times: user 2min 54s, sys: 512 ms, total: 2min 55s\n",
            "Wall time: 2min 56s\n"
          ]
        }
      ]
    },
    {
      "cell_type": "code",
      "source": [
        "%%time\n",
        "from tqdm.auto import tqdm\n",
        "\n",
        "device = \"cuda\" if torch.cuda.is_available() else \"cpu\"\n",
        "\n",
        "# Train on GPU\n",
        "model_gpu = MNIST_model(input_shape=1,\n",
        "                        hidden_units=10,\n",
        "                        output_shape=10).to(device)\n",
        "\n",
        "# Create a loss function and optimizer\n",
        "loss_fn = nn.CrossEntropyLoss()\n",
        "optimizer = torch.optim.SGD(model_gpu.parameters(), lr=0.1)\n",
        "\n",
        "# Training loop\n",
        "epochs = 5\n",
        "for epoch in tqdm(range(epochs)):\n",
        "  train_loss = 0\n",
        "  model_gpu.train()\n",
        "  for batch, (X, y) in enumerate(train_dataloader):\n",
        "    # Put data on target device\n",
        "    X, y = X.to(device), y.to(device)\n",
        "\n",
        "    # Forward pass\n",
        "    y_pred = model_gpu(X)\n",
        "\n",
        "    # Loss calculation\n",
        "    loss = loss_fn(y_pred, y)\n",
        "    train_loss += loss\n",
        "\n",
        "    # Optimizer zero grad\n",
        "    optimizer.zero_grad()\n",
        "\n",
        "    # Loss backward\n",
        "    loss.backward()\n",
        "\n",
        "    # Step the optimizer\n",
        "    optimizer.step()\n",
        "\n",
        "  # Adjust train loss to number of batches\n",
        "  train_loss /= len(train_dataloader)\n",
        "\n",
        "  ### Testing loop\n",
        "  test_loss_total = 0\n",
        "  # Put model in eval mode and turn on inference mode\n",
        "  model_gpu.eval()\n",
        "  with torch.inference_mode():\n",
        "    for batch, (X_test, y_test) in enumerate(test_dataloader):\n",
        "      # Make sure test data on target device\n",
        "      X_test, y_test = X_test.to(device), y_test.to(device)\n",
        "\n",
        "      test_pred = model_gpu(X_test)\n",
        "      test_loss = loss_fn(test_pred, y_test)\n",
        "\n",
        "      test_loss_total += test_loss\n",
        "\n",
        "    # Adjust test loss total for number of batches\n",
        "    test_loss_total /= len(test_dataloader)\n",
        "\n",
        "  # Print out what's happening\n",
        "  print(f\"Epoch: {epoch} | Loss: {train_loss:.3f} | Test loss: {test_loss_total:.3f}\")"
      ],
      "metadata": {
        "id": "qvWRbVqN7iYD",
        "outputId": "689c4c8b-afa7-4bb1-df1d-f28553f94ef3",
        "colab": {
          "base_uri": "https://localhost:8080/",
          "height": 171,
          "referenced_widgets": [
            "e91053ee248943a38e6aac3d5bc6928f",
            "8f8744e135944d7b88a7c84cad88ac08",
            "37f22a836f9f4d319c4a1eb75e03c450",
            "f8648882b5124d9f8736de6c9f7747ec",
            "58e9bbf2bf5043a983825aaed9f8dc2a",
            "aca72131342544c68fe6380d8000bef9",
            "a73655d0e4134418ac8b577c7adafbf4",
            "c2486513c6724235b75abac329fae5b8",
            "ee41675d9aaf4b1ea468b0a779e3cd21",
            "b46d10ff49864a68b1588504199a32b3",
            "2a31d8723a4f42ca8f457273095ff51c"
          ]
        }
      },
      "execution_count": 23,
      "outputs": [
        {
          "output_type": "display_data",
          "data": {
            "text/plain": [
              "  0%|          | 0/5 [00:00<?, ?it/s]"
            ],
            "application/vnd.jupyter.widget-view+json": {
              "version_major": 2,
              "version_minor": 0,
              "model_id": "e91053ee248943a38e6aac3d5bc6928f"
            }
          },
          "metadata": {}
        },
        {
          "output_type": "stream",
          "name": "stdout",
          "text": [
            "Epoch: 0 | Loss: 0.398 | Test loss: 0.064\n",
            "Epoch: 1 | Loss: 0.074 | Test loss: 0.062\n",
            "Epoch: 2 | Loss: 0.059 | Test loss: 0.043\n",
            "Epoch: 3 | Loss: 0.050 | Test loss: 0.036\n",
            "Epoch: 4 | Loss: 0.045 | Test loss: 0.036\n",
            "CPU times: user 53.3 s, sys: 390 ms, total: 53.7 s\n",
            "Wall time: 54.2 s\n"
          ]
        }
      ]
    },
    {
      "cell_type": "markdown",
      "source": [
        "### **10. Make predictions using your trained model and visualize at least 5 of them comparing the prediciton to the target label.**"
      ],
      "metadata": {
        "id": "VkyUQyLz7mY4"
      }
    },
    {
      "cell_type": "code",
      "source": [
        "# Make predictions with the trained model\n",
        "plt.imshow(test_data[0][0].squeeze(), cmap=\"gray\")"
      ],
      "metadata": {
        "id": "rXRcsfOh7jq4",
        "outputId": "9c60bc39-2394-4488-8a2a-1129f3883d1e",
        "colab": {
          "base_uri": "https://localhost:8080/",
          "height": 447
        }
      },
      "execution_count": 24,
      "outputs": [
        {
          "output_type": "execute_result",
          "data": {
            "text/plain": [
              "<matplotlib.image.AxesImage at 0x7811168f3050>"
            ]
          },
          "metadata": {},
          "execution_count": 24
        },
        {
          "output_type": "display_data",
          "data": {
            "text/plain": [
              "<Figure size 640x480 with 1 Axes>"
            ],
            "image/png": "[encoded data removed]"
          },
          "metadata": {}
        }
      ]
    },
    {
      "cell_type": "code",
      "source": [
        "# Logits -> Prediction probabilities -> Prediction labels\n",
        "model_pred_logits = model_gpu(test_data[0][0].unsqueeze(dim=0).to(device)) # make sure image is right shape + on right device\n",
        "model_pred_probs = torch.softmax(model_pred_logits, dim=1)\n",
        "model_pred_label = torch.argmax(model_pred_probs, dim=1)\n",
        "model_pred_label"
      ],
      "metadata": {
        "id": "6jznD3iL7sob",
        "outputId": "723c8e6b-ef51-41c5-ec32-52a4e1e701d2",
        "colab": {
          "base_uri": "https://localhost:8080/"
        }
      },
      "execution_count": 25,
      "outputs": [
        {
          "output_type": "execute_result",
          "data": {
            "text/plain": [
              "tensor([7], device='cuda:0')"
            ]
          },
          "metadata": {},
          "execution_count": 25
        }
      ]
    },
    {
      "cell_type": "code",
      "source": [
        "num_to_plot = 5\n",
        "for i in range(num_to_plot):\n",
        "  # Get image and labels from the test data\n",
        "  img = test_data[i][0]\n",
        "  label = test_data[i][1]\n",
        "\n",
        "  # Make prediction on image\n",
        "  model_pred_logits = model_gpu(img.unsqueeze(dim=0).to(device))\n",
        "  model_pred_probs = torch.softmax(model_pred_logits, dim=1)\n",
        "  model_pred_label = torch.argmax(model_pred_probs, dim=1)\n",
        "\n",
        "  # Plot the image and prediction\n",
        "  plt.figure()\n",
        "  plt.imshow(img.squeeze(), cmap=\"gray\")\n",
        "  plt.title(f\"Truth: {label} | Pred: {model_pred_label.cpu().item()}\")\n",
        "  plt.axis(False);"
      ],
      "metadata": {
        "id": "Ej5OcjqO7veV",
        "outputId": "9fd60994-5bca-4cd8-a94c-c79069ba0d6a",
        "colab": {
          "base_uri": "https://localhost:8080/",
          "height": 1000
        }
      },
      "execution_count": 26,
      "outputs": [
        {
          "output_type": "display_data",
          "data": {
            "text/plain": [
              "<Figure size 640x480 with 1 Axes>"
            ],
            "image/png": "[encoded data removed]"
          },
          "metadata": {}
        },
        {
          "output_type": "display_data",
          "data": {
            "text/plain": [
              "<Figure size 640x480 with 1 Axes>"
            ],
            "image/png": "[encoded data removed]"
          },
          "metadata": {}
        },
        {
          "output_type": "display_data",
          "data": {
            "text/plain": [
              "<Figure size 640x480 with 1 Axes>"
            ],
            "image/png": "[encoded data removed]"
          },
          "metadata": {}
        },
        {
          "output_type": "display_data",
          "data": {
            "text/plain": [
              "<Figure size 640x480 with 1 Axes>"
            ],
            "image/png": "[encoded data removed]"
          },
          "metadata": {}
        },
        {
          "output_type": "display_data",
          "data": {
            "text/plain": [
              "<Figure size 640x480 with 1 Axes>"
            ],
            "image/png": "[encoded data removed]"
          },
          "metadata": {}
        }
      ]
    },
    {
      "cell_type": "markdown",
      "source": [
        "### **11. Plot a confusion matrix comparing your model's predictions to the truth labels.**"
      ],
      "metadata": {
        "id": "0w9SJ5N-714K"
      }
    },
    {
      "cell_type": "code",
      "source": [
        "# See if torchmetrics exists, if not, install it\n",
        "try:\n",
        "    import torchmetrics, mlxtend\n",
        "    print(f\"mlxtend version: {mlxtend.__version__}\")\n",
        "    assert int(mlxtend.__version__.split(\".\")[1]) >= 19, \"mlxtend verison should be 0.19.0 or higher\"\n",
        "except:\n",
        "    !pip install -q torchmetrics -U mlxtend # <- Note: If you're using Google Colab, this may require restarting the runtime\n",
        "    import torchmetrics, mlxtend\n",
        "    print(f\"mlxtend version: {mlxtend.__version__}\")"
      ],
      "metadata": {
        "id": "Oh7ivlhO74Bh",
        "outputId": "09aae263-8b45-405f-9082-bab2fcc782a1",
        "colab": {
          "base_uri": "https://localhost:8080/"
        }
      },
      "execution_count": 27,
      "outputs": [
        {
          "output_type": "stream",
          "name": "stdout",
          "text": [
            "\u001b[2K   \u001b[90m━━━━━━━━━━━━━━━━━━━━━━━━━━━━━━━━━━━━━━━━\u001b[0m \u001b[32m927.3/927.3 kB\u001b[0m \u001b[31m53.4 MB/s\u001b[0m eta \u001b[36m0:00:00\u001b[0m\n",
            "\u001b[2K   \u001b[90m━━━━━━━━━━━━━━━━━━━━━━━━━━━━━━━━━━━━━━━━\u001b[0m \u001b[32m363.4/363.4 MB\u001b[0m \u001b[31m4.0 MB/s\u001b[0m eta \u001b[36m0:00:00\u001b[0m\n",
            "\u001b[2K   \u001b[90m━━━━━━━━━━━━━━━━━━━━━━━━━━━━━━━━━━━━━━━━\u001b[0m \u001b[32m13.8/13.8 MB\u001b[0m \u001b[31m79.8 MB/s\u001b[0m eta \u001b[36m0:00:00\u001b[0m\n",
            "\u001b[2K   \u001b[90m━━━━━━━━━━━━━━━━━━━━━━━━━━━━━━━━━━━━━━━━\u001b[0m \u001b[32m24.6/24.6 MB\u001b[0m \u001b[31m60.1 MB/s\u001b[0m eta \u001b[36m0:00:00\u001b[0m\n",
            "\u001b[2K   \u001b[90m━━━━━━━━━━━━━━━━━━━━━━━━━━━━━━━━━━━━━━━━\u001b[0m \u001b[32m883.7/883.7 kB\u001b[0m \u001b[31m40.2 MB/s\u001b[0m eta \u001b[36m0:00:00\u001b[0m\n",
            "\u001b[2K   \u001b[90m━━━━━━━━━━━━━━━━━━━━━━━━━━━━━━━━━━━━━━━━\u001b[0m \u001b[32m664.8/664.8 MB\u001b[0m \u001b[31m2.2 MB/s\u001b[0m eta \u001b[36m0:00:00\u001b[0m\n",
            "\u001b[2K   \u001b[90m━━━━━━━━━━━━━━━━━━━━━━━━━━━━━━━━━━━━━━━━\u001b[0m \u001b[32m211.5/211.5 MB\u001b[0m \u001b[31m6.8 MB/s\u001b[0m eta \u001b[36m0:00:00\u001b[0m\n",
            "\u001b[2K   \u001b[90m━━━━━━━━━━━━━━━━━━━━━━━━━━━━━━━━━━━━━━━━\u001b[0m \u001b[32m56.3/56.3 MB\u001b[0m \u001b[31m13.9 MB/s\u001b[0m eta \u001b[36m0:00:00\u001b[0m\n",
            "\u001b[2K   \u001b[90m━━━━━━━━━━━━━━━━━━━━━━━━━━━━━━━━━━━━━━━━\u001b[0m \u001b[32m127.9/127.9 MB\u001b[0m \u001b[31m7.9 MB/s\u001b[0m eta \u001b[36m0:00:00\u001b[0m\n",
            "\u001b[2K   \u001b[90m━━━━━━━━━━━━━━━━━━━━━━━━━━━━━━━━━━━━━━━━\u001b[0m \u001b[32m207.5/207.5 MB\u001b[0m \u001b[31m5.8 MB/s\u001b[0m eta \u001b[36m0:00:00\u001b[0m\n",
            "\u001b[2K   \u001b[90m━━━━━━━━━━━━━━━━━━━━━━━━━━━━━━━━━━━━━━━━\u001b[0m \u001b[32m21.1/21.1 MB\u001b[0m \u001b[31m73.4 MB/s\u001b[0m eta \u001b[36m0:00:00\u001b[0m\n",
            "\u001b[?25hmlxtend version: 0.23.4\n"
          ]
        }
      ]
    },
    {
      "cell_type": "code",
      "source": [
        "# Import mlxtend upgraded version\n",
        "import mlxtend\n",
        "print(mlxtend.__version__)\n",
        "assert int(mlxtend.__version__.split(\".\")[1]) >= 19 # should be version 0.19.0 or higher"
      ],
      "metadata": {
        "id": "dVOY-2Gv763v",
        "outputId": "47a17f40-71df-4a7f-97ab-2e35e1fa8d7c",
        "colab": {
          "base_uri": "https://localhost:8080/"
        }
      },
      "execution_count": 28,
      "outputs": [
        {
          "output_type": "stream",
          "name": "stdout",
          "text": [
            "0.23.4\n"
          ]
        }
      ]
    },
    {
      "cell_type": "code",
      "source": [
        "# Make predictions across all test data\n",
        "from tqdm.auto import tqdm\n",
        "model_gpu.eval()\n",
        "y_preds = []\n",
        "with torch.inference_mode():\n",
        "  for batch, (X, y) in tqdm(enumerate(test_dataloader)):\n",
        "    # Make sure data on right device\n",
        "    X, y = X.to(device), y.to(device)\n",
        "    # Forward pass\n",
        "    y_pred_logits = model_gpu(X)\n",
        "    # Logits -> Pred probs -> Pred label\n",
        "    y_pred_labels = torch.argmax(torch.softmax(y_pred_logits, dim=1), dim=1)\n",
        "    # Append the labels to the preds list\n",
        "    y_preds.append(y_pred_labels)\n",
        "  y_preds=torch.cat(y_preds).cpu()\n",
        "len(y_preds)"
      ],
      "metadata": {
        "id": "GL6PtSxS79Vq",
        "outputId": "901ddacf-a149-4544-d57a-ef771579c39e",
        "colab": {
          "base_uri": "https://localhost:8080/",
          "height": 66,
          "referenced_widgets": [
            "c589fbd92d4142cd8c1cba35cb3babd8",
            "9cedd1d91c464be9957fa4bcb713b543",
            "82de5366ab0b4f2ea63832788b6b83cc",
            "010387c92b8c418dbe80d6da90890db8",
            "be52e280f75a4c05a063b20093f53396",
            "13d4337a96a341c4b288e6c87bfe5702",
            "014e76016f9945f8be1abb41226cb41a",
            "7f62963f608e4aef80c5e65a2c50f6af",
            "50278ea6df314bda85feeddeda651cfe",
            "65e7129a10a5426286756b7d3484dd00",
            "a77a1e651e72480d993e444b7684a12f"
          ]
        }
      },
      "execution_count": 29,
      "outputs": [
        {
          "output_type": "display_data",
          "data": {
            "text/plain": [
              "0it [00:00, ?it/s]"
            ],
            "application/vnd.jupyter.widget-view+json": {
              "version_major": 2,
              "version_minor": 0,
              "model_id": "c589fbd92d4142cd8c1cba35cb3babd8"
            }
          },
          "metadata": {}
        },
        {
          "output_type": "execute_result",
          "data": {
            "text/plain": [
              "10000"
            ]
          },
          "metadata": {},
          "execution_count": 29
        }
      ]
    },
    {
      "cell_type": "code",
      "source": [
        "test_data.targets[:10], y_preds[:10]"
      ],
      "metadata": {
        "id": "E5o5gsB48BE0",
        "outputId": "a3322309-6691-473b-eafb-d5bf53634f73",
        "colab": {
          "base_uri": "https://localhost:8080/"
        }
      },
      "execution_count": 30,
      "outputs": [
        {
          "output_type": "execute_result",
          "data": {
            "text/plain": [
              "(tensor([7, 2, 1, 0, 4, 1, 4, 9, 5, 9]),\n",
              " tensor([7, 2, 1, 0, 4, 1, 4, 9, 5, 9]))"
            ]
          },
          "metadata": {},
          "execution_count": 30
        }
      ]
    },
    {
      "cell_type": "code",
      "source": [
        "from torchmetrics import ConfusionMatrix\n",
        "from mlxtend.plotting import plot_confusion_matrix\n",
        "\n",
        "# Setup confusion matrix\n",
        "confmat = ConfusionMatrix(task=\"multiclass\", num_classes=len(class_names))\n",
        "confmat_tensor = confmat(preds=y_preds,\n",
        "                         target=test_data.targets)\n",
        "\n",
        "# Plot the confusion matrix\n",
        "fix, ax = plot_confusion_matrix(\n",
        "    conf_mat=confmat_tensor.numpy(),\n",
        "    class_names=class_names,\n",
        "    figsize=(10, 7)\n",
        ")"
      ],
      "metadata": {
        "id": "IgzCr-mG8CRW",
        "outputId": "114dc978-bf47-4b8d-e46a-0098cb3f156b",
        "colab": {
          "base_uri": "https://localhost:8080/",
          "height": 660
        }
      },
      "execution_count": 31,
      "outputs": [
        {
          "output_type": "display_data",
          "data": {
            "text/plain": [
              "<Figure size 1000x700 with 1 Axes>"
            ],
            "image/png": "[encoded data removed]"
          },
          "metadata": {}
        }
      ]
    },
    {
      "cell_type": "markdown",
      "source": [
        "### **12. Create a random tensor of shape [1, 3, 64, 64] and pass it through a nn.Conv2d() layer with various hyperparameter settings (these can be any settings you choose), what do you notice if the kernel_size parameter goes up and down?**"
      ],
      "metadata": {
        "id": "xJyVKqaG8GZE"
      }
    },
    {
      "cell_type": "code",
      "source": [
        "random_tensor = torch.rand([1, 3, 64, 64])\n",
        "random_tensor.shape"
      ],
      "metadata": {
        "id": "cR46ENe98Ipr",
        "outputId": "c8af7871-b6cb-4a15-d7fd-fb87e7b53a9e",
        "colab": {
          "base_uri": "https://localhost:8080/"
        }
      },
      "execution_count": 32,
      "outputs": [
        {
          "output_type": "execute_result",
          "data": {
            "text/plain": [
              "torch.Size([1, 3, 64, 64])"
            ]
          },
          "metadata": {},
          "execution_count": 32
        }
      ]
    },
    {
      "cell_type": "code",
      "source": [
        "conv_layer = nn.Conv2d(in_channels=3,\n",
        "                       out_channels=64,\n",
        "                       kernel_size=3,\n",
        "                       stride=2,\n",
        "                       padding=1)\n",
        "\n",
        "print(f\"Random tensor original shape: {random_tensor.shape}\")\n",
        "random_tensor_through_conv_layer = conv_layer(random_tensor)\n",
        "print(f\"Random tensor through conv layer shape: {random_tensor_through_conv_layer.shape}\")"
      ],
      "metadata": {
        "id": "pLRVM1SL8LDN",
        "outputId": "d3ec75e9-80de-4a49-f060-49d2f2ba5387",
        "colab": {
          "base_uri": "https://localhost:8080/"
        }
      },
      "execution_count": 33,
      "outputs": [
        {
          "output_type": "stream",
          "name": "stdout",
          "text": [
            "Random tensor original shape: torch.Size([1, 3, 64, 64])\n",
            "Random tensor through conv layer shape: torch.Size([1, 64, 32, 32])\n"
          ]
        }
      ]
    },
    {
      "cell_type": "markdown",
      "source": [
        "### **13. Use a model similar to the trained model_2 from notebook 03 to make predictions on the test torchvision.datasets.FashionMNIST dataset.**"
      ],
      "metadata": {
        "id": "z7x8Nt4g8PxK"
      }
    },
    {
      "cell_type": "code",
      "source": [
        "# Download FashionMNIST train & test\n",
        "from torchvision import datasets\n",
        "from torchvision import transforms\n",
        "\n",
        "fashion_mnist_train = datasets.FashionMNIST(root=\".\",\n",
        "                                            download=True,\n",
        "                                            train=True,\n",
        "                                            transform=transforms.ToTensor())\n",
        "\n",
        "fashion_mnist_test = datasets.FashionMNIST(root=\".\",\n",
        "                                           train=False,\n",
        "                                           download=True,\n",
        "                                           transform=transforms.ToTensor())\n",
        "\n",
        "len(fashion_mnist_train), len(fashion_mnist_test)"
      ],
      "metadata": {
        "id": "2YpKBM5k8Nqh",
        "outputId": "4d6e268b-3db6-4dae-889f-e8769e127d9f",
        "colab": {
          "base_uri": "https://localhost:8080/"
        }
      },
      "execution_count": 34,
      "outputs": [
        {
          "output_type": "stream",
          "name": "stdout",
          "text": [
            "Downloading http://fashion-mnist.s3-website.eu-central-1.amazonaws.com/train-images-idx3-ubyte.gz\n",
            "Downloading http://fashion-mnist.s3-website.eu-central-1.amazonaws.com/train-images-idx3-ubyte.gz to ./FashionMNIST/raw/train-images-idx3-ubyte.gz\n"
          ]
        },
        {
          "output_type": "stream",
          "name": "stderr",
          "text": [
            "100%|██████████| 26.4M/26.4M [00:02<00:00, 9.20MB/s]\n"
          ]
        },
        {
          "output_type": "stream",
          "name": "stdout",
          "text": [
            "Extracting ./FashionMNIST/raw/train-images-idx3-ubyte.gz to ./FashionMNIST/raw\n",
            "\n",
            "Downloading http://fashion-mnist.s3-website.eu-central-1.amazonaws.com/train-labels-idx1-ubyte.gz\n",
            "Downloading http://fashion-mnist.s3-website.eu-central-1.amazonaws.com/train-labels-idx1-ubyte.gz to ./FashionMNIST/raw/train-labels-idx1-ubyte.gz\n"
          ]
        },
        {
          "output_type": "stream",
          "name": "stderr",
          "text": [
            "100%|██████████| 29.5k/29.5k [00:00<00:00, 147kB/s]\n"
          ]
        },
        {
          "output_type": "stream",
          "name": "stdout",
          "text": [
            "Extracting ./FashionMNIST/raw/train-labels-idx1-ubyte.gz to ./FashionMNIST/raw\n",
            "\n",
            "Downloading http://fashion-mnist.s3-website.eu-central-1.amazonaws.com/t10k-images-idx3-ubyte.gz\n",
            "Downloading http://fashion-mnist.s3-website.eu-central-1.amazonaws.com/t10k-images-idx3-ubyte.gz to ./FashionMNIST/raw/t10k-images-idx3-ubyte.gz\n"
          ]
        },
        {
          "output_type": "stream",
          "name": "stderr",
          "text": [
            "100%|██████████| 4.42M/4.42M [00:01<00:00, 2.62MB/s]\n"
          ]
        },
        {
          "output_type": "stream",
          "name": "stdout",
          "text": [
            "Extracting ./FashionMNIST/raw/t10k-images-idx3-ubyte.gz to ./FashionMNIST/raw\n",
            "\n",
            "Downloading http://fashion-mnist.s3-website.eu-central-1.amazonaws.com/t10k-labels-idx1-ubyte.gz\n",
            "Downloading http://fashion-mnist.s3-website.eu-central-1.amazonaws.com/t10k-labels-idx1-ubyte.gz to ./FashionMNIST/raw/t10k-labels-idx1-ubyte.gz\n"
          ]
        },
        {
          "output_type": "stream",
          "name": "stderr",
          "text": [
            "100%|██████████| 5.15k/5.15k [00:00<00:00, 25.4MB/s]"
          ]
        },
        {
          "output_type": "stream",
          "name": "stdout",
          "text": [
            "Extracting ./FashionMNIST/raw/t10k-labels-idx1-ubyte.gz to ./FashionMNIST/raw\n",
            "\n"
          ]
        },
        {
          "output_type": "stream",
          "name": "stderr",
          "text": [
            "\n"
          ]
        },
        {
          "output_type": "execute_result",
          "data": {
            "text/plain": [
              "(60000, 10000)"
            ]
          },
          "metadata": {},
          "execution_count": 34
        }
      ]
    },
    {
      "cell_type": "code",
      "source": [
        "# Get the class names of the Fashion MNIST dataset\n",
        "fashion_mnist_class_names = fashion_mnist_train.classes\n",
        "fashion_mnist_class_names"
      ],
      "metadata": {
        "id": "EjDzLS478UDU",
        "outputId": "4ed2420c-def6-4b7c-e2c9-2468f233c7e5",
        "colab": {
          "base_uri": "https://localhost:8080/"
        }
      },
      "execution_count": 35,
      "outputs": [
        {
          "output_type": "execute_result",
          "data": {
            "text/plain": [
              "['T-shirt/top',\n",
              " 'Trouser',\n",
              " 'Pullover',\n",
              " 'Dress',\n",
              " 'Coat',\n",
              " 'Sandal',\n",
              " 'Shirt',\n",
              " 'Sneaker',\n",
              " 'Bag',\n",
              " 'Ankle boot']"
            ]
          },
          "metadata": {},
          "execution_count": 35
        }
      ]
    },
    {
      "cell_type": "code",
      "source": [
        "# Turn FashionMNIST datasets into dataloaders\n",
        "from torch.utils.data import DataLoader\n",
        "\n",
        "fashion_mnist_train_dataloader = DataLoader(fashion_mnist_train,\n",
        "                                            batch_size=32,\n",
        "                                            shuffle=True)\n",
        "\n",
        "fashion_mnist_test_dataloader = DataLoader(fashion_mnist_test,\n",
        "                                           batch_size=32,\n",
        "                                           shuffle=False)\n",
        "\n",
        "len(fashion_mnist_train_dataloader), len(fashion_mnist_test_dataloader)"
      ],
      "metadata": {
        "id": "xb7ukbVC8WTP",
        "outputId": "fdb4ec47-8a31-4c91-d8fb-bf03bac1d3ba",
        "colab": {
          "base_uri": "https://localhost:8080/"
        }
      },
      "execution_count": 36,
      "outputs": [
        {
          "output_type": "execute_result",
          "data": {
            "text/plain": [
              "(1875, 313)"
            ]
          },
          "metadata": {},
          "execution_count": 36
        }
      ]
    },
    {
      "cell_type": "code",
      "source": [
        "# model_2 is the same architecture as MNIST_model\n",
        "model_2 = MNIST_model(input_shape=1,\n",
        "                      hidden_units=10,\n",
        "                      output_shape=10).to(device)\n",
        "model_2"
      ],
      "metadata": {
        "id": "fbrqOy9g8Z60",
        "outputId": "15c6df0c-d2af-496d-c0ad-d3fcc1b16d09",
        "colab": {
          "base_uri": "https://localhost:8080/"
        }
      },
      "execution_count": 37,
      "outputs": [
        {
          "output_type": "execute_result",
          "data": {
            "text/plain": [
              "MNIST_model(\n",
              "  (conv_block_1): Sequential(\n",
              "    (0): Conv2d(1, 10, kernel_size=(3, 3), stride=(1, 1), padding=(1, 1))\n",
              "    (1): ReLU()\n",
              "    (2): Conv2d(10, 10, kernel_size=(3, 3), stride=(1, 1), padding=(1, 1))\n",
              "    (3): ReLU()\n",
              "    (4): MaxPool2d(kernel_size=2, stride=2, padding=0, dilation=1, ceil_mode=False)\n",
              "  )\n",
              "  (conv_block_2): Sequential(\n",
              "    (0): Conv2d(10, 10, kernel_size=(3, 3), stride=(1, 1), padding=(1, 1))\n",
              "    (1): ReLU()\n",
              "    (2): Conv2d(10, 10, kernel_size=(3, 3), stride=(1, 1), padding=(1, 1))\n",
              "    (3): ReLU()\n",
              "    (4): MaxPool2d(kernel_size=2, stride=2, padding=0, dilation=1, ceil_mode=False)\n",
              "  )\n",
              "  (classifier): Sequential(\n",
              "    (0): Flatten(start_dim=1, end_dim=-1)\n",
              "    (1): Linear(in_features=490, out_features=10, bias=True)\n",
              "  )\n",
              ")"
            ]
          },
          "metadata": {},
          "execution_count": 37
        }
      ]
    },
    {
      "cell_type": "code",
      "source": [
        "# Setup loss and optimizer\n",
        "from torch import nn\n",
        "loss_fn = nn.CrossEntropyLoss()\n",
        "optimizer = torch.optim.SGD(model_2.parameters(), lr=0.01)"
      ],
      "metadata": {
        "id": "7xQ7diBL8cJZ"
      },
      "execution_count": 38,
      "outputs": []
    },
    {
      "cell_type": "code",
      "source": [
        "# Setup metrics\n",
        "from tqdm.auto import tqdm\n",
        "from torchmetrics import Accuracy\n",
        "\n",
        "acc_fn = Accuracy(task = 'multiclass', num_classes=len(fashion_mnist_class_names)).to(device)\n",
        "\n",
        "# Setup training/testing loop\n",
        "epochs = 5\n",
        "for epoch in tqdm(range(epochs)):\n",
        "  train_loss, test_loss_total = 0, 0\n",
        "  train_acc, test_acc = 0, 0\n",
        "\n",
        "  ### Training\n",
        "  model_2.train()\n",
        "  for batch, (X_train, y_train) in enumerate(fashion_mnist_train_dataloader):\n",
        "    X_train, y_train = X_train.to(device), y_train.to(device)\n",
        "\n",
        "    # Forward pass and loss\n",
        "    y_pred = model_2(X_train)\n",
        "    loss = loss_fn(y_pred, y_train)\n",
        "    train_loss += loss\n",
        "    train_acc += acc_fn(y_pred, y_train)\n",
        "\n",
        "    # Backprop and gradient descent\n",
        "    optimizer.zero_grad()\n",
        "    loss.backward()\n",
        "    optimizer.step()\n",
        "\n",
        "  # Adjust the loss/acc (find the loss/acc per epoch)\n",
        "  train_loss /= len(fashion_mnist_train_dataloader)\n",
        "  train_acc /= len(fashion_mnist_train_dataloader)\n",
        "\n",
        "  ### Testing\n",
        "  model_2.eval()\n",
        "  with torch.inference_mode():\n",
        "    for batch, (X_test, y_test) in enumerate(fashion_mnist_test_dataloader):\n",
        "      X_test, y_test = X_test.to(device), y_test.to(device)\n",
        "\n",
        "      # Forward pass and loss\n",
        "      y_pred_test = model_2(X_test)\n",
        "      test_loss = loss_fn(y_pred_test, y_test)\n",
        "      test_loss_total += test_loss\n",
        "\n",
        "      test_acc += acc_fn(y_pred_test, y_test)\n",
        "\n",
        "    # Adjust the loss/acc (find the loss/acc per epoch)\n",
        "    test_loss /= len(fashion_mnist_test_dataloader)\n",
        "    test_acc /= len(fashion_mnist_test_dataloader)\n",
        "\n",
        "  # Print out what's happening\n",
        "  print(f\"Epoch: {epoch} | Train loss: {train_loss:.3f} | Train acc: {train_acc:.2f} | Test loss: {test_loss_total:.3f} | Test acc: {test_acc:.2f}\")"
      ],
      "metadata": {
        "id": "6SzfPfXs8en9",
        "outputId": "97f269a9-7176-4d32-f641-668ba4079654",
        "colab": {
          "base_uri": "https://localhost:8080/",
          "height": 136,
          "referenced_widgets": [
            "db9bd6b14c9a4a65b5aa4c8a89ff3e06",
            "02702dd45a2d4791b50eb6f2f4cb593c",
            "5fd993be2e324c92b75a9c5be4d1a94d",
            "2d9cd492a75744ce9b6b67cbff51118e",
            "7d68340b4e2a409bb0da52e7f4575677",
            "2439fa4a86fe4fcea48cb556b9d42536",
            "dab95ade862c491cbae2ca4fdac745ab",
            "8f82eaf8cbde4aaba6bcd5f224eb655d",
            "7284a874f9dd47e898546c2db648cb53",
            "caefd007ed2a454e8179f38a8451aac8",
            "9986922baa374713b973e73e9692651e"
          ]
        }
      },
      "execution_count": 40,
      "outputs": [
        {
          "output_type": "display_data",
          "data": {
            "text/plain": [
              "  0%|          | 0/5 [00:00<?, ?it/s]"
            ],
            "application/vnd.jupyter.widget-view+json": {
              "version_major": 2,
              "version_minor": 0,
              "model_id": "db9bd6b14c9a4a65b5aa4c8a89ff3e06"
            }
          },
          "metadata": {}
        },
        {
          "output_type": "stream",
          "name": "stdout",
          "text": [
            "Epoch: 0 | Train loss: 1.225 | Train acc: 0.56 | Test loss: 186.323 | Test acc: 0.78\n",
            "Epoch: 1 | Train loss: 0.521 | Train acc: 0.81 | Test loss: 151.009 | Test acc: 0.83\n",
            "Epoch: 2 | Train loss: 0.441 | Train acc: 0.84 | Test loss: 137.586 | Test acc: 0.84\n",
            "Epoch: 3 | Train loss: 0.406 | Train acc: 0.85 | Test loss: 129.031 | Test acc: 0.85\n",
            "Epoch: 4 | Train loss: 0.384 | Train acc: 0.86 | Test loss: 124.784 | Test acc: 0.86\n"
          ]
        }
      ]
    },
    {
      "cell_type": "code",
      "source": [
        "# Make predictions with trained model_2\n",
        "test_preds = []\n",
        "model_2.eval()\n",
        "with torch.inference_mode():\n",
        "  for X_test, y_test in tqdm(fashion_mnist_test_dataloader):\n",
        "    y_logits = model_2(X_test.to(device))\n",
        "    y_pred_probs = torch.softmax(y_logits, dim=1)\n",
        "    y_pred_labels = torch.argmax(y_pred_probs, dim=1)\n",
        "    test_preds.append(y_pred_labels)\n",
        "test_preds = torch.cat(test_preds).cpu() # matplotlib likes CPU\n",
        "test_preds[:10], len(test_preds)"
      ],
      "metadata": {
        "id": "1EFfKq2H8iDt",
        "outputId": "c1c91b74-8fe2-469a-d761-93611dd81402",
        "colab": {
          "base_uri": "https://localhost:8080/",
          "height": 66,
          "referenced_widgets": [
            "a5f2dca98cab4725a90cff296a89f6ae",
            "57319a76351c4c6ebbb4005f12a7dbdf",
            "cb3afa48f2d948eca333a9031746435f",
            "53e774419f044cbbba0abfc739dbb270",
            "1afd2b1f1989439aa345b66a52c27335",
            "af1c0def71bf46fab60d5622e5e99662",
            "4d03df464ad048a5ae7319a7ad9efb97",
            "07c909510e5a49a3b668a6debf04995d",
            "e77a06a3183840f5bad98bd753466ea4",
            "564bc3b407314a9b8f71239d23d6b88b",
            "16427b4f61c641be81813bef4c8f072f"
          ]
        }
      },
      "execution_count": 41,
      "outputs": [
        {
          "output_type": "display_data",
          "data": {
            "text/plain": [
              "  0%|          | 0/313 [00:00<?, ?it/s]"
            ],
            "application/vnd.jupyter.widget-view+json": {
              "version_major": 2,
              "version_minor": 0,
              "model_id": "a5f2dca98cab4725a90cff296a89f6ae"
            }
          },
          "metadata": {}
        },
        {
          "output_type": "execute_result",
          "data": {
            "text/plain": [
              "(tensor([9, 2, 1, 1, 6, 1, 4, 6, 5, 7]), 10000)"
            ]
          },
          "metadata": {},
          "execution_count": 41
        }
      ]
    },
    {
      "cell_type": "code",
      "source": [
        "# Get wrong prediction indexes\n",
        "import numpy as np\n",
        "wrong_pred_indexes = np.where(test_preds != fashion_mnist_test.targets)[0]\n",
        "len(wrong_pred_indexes)"
      ],
      "metadata": {
        "id": "67X6hmC28kR7",
        "outputId": "000f380c-2bcb-470b-99b8-69488a879aba",
        "colab": {
          "base_uri": "https://localhost:8080/"
        }
      },
      "execution_count": 42,
      "outputs": [
        {
          "output_type": "execute_result",
          "data": {
            "text/plain": [
              "1430"
            ]
          },
          "metadata": {},
          "execution_count": 42
        }
      ]
    },
    {
      "cell_type": "code",
      "source": [
        "# Select random 9 wrong predictions and plot them\n",
        "import random\n",
        "random_selection = random.sample(list(wrong_pred_indexes), k=9)\n",
        "\n",
        "plt.figure(figsize=(10, 10))\n",
        "for i, idx in enumerate(random_selection):\n",
        "  # Get true and pred labels\n",
        "  true_label = fashion_mnist_class_names[fashion_mnist_test[idx][1]]\n",
        "  pred_label = fashion_mnist_class_names[test_preds[idx]]\n",
        "\n",
        "  # Plot the wrong prediction with its original label\n",
        "  plt.subplot(3, 3, i+1)\n",
        "  plt.imshow(fashion_mnist_test[idx][0].squeeze(), cmap=\"gray\")\n",
        "  plt.title(f\"True: {true_label} | Pred: {pred_label}\", c=\"r\")\n",
        "  plt.axis(False);"
      ],
      "metadata": {
        "id": "Ov5rL1Bf8mqi",
        "outputId": "a1777331-0330-4de2-cfe8-0603d36101bd",
        "colab": {
          "base_uri": "https://localhost:8080/",
          "height": 829
        }
      },
      "execution_count": 43,
      "outputs": [
        {
          "output_type": "display_data",
          "data": {
            "text/plain": [
              "<Figure size 1000x1000 with 9 Axes>"
            ],
            "image/png": "[encoded data removed]"
          },
          "metadata": {}
        }
      ]
    },
    {
      "cell_type": "markdown",
      "metadata": {
        "id": "xG6Ig9T-43Me"
      },
      "source": [
        "SUBMIT ASSIGNMENT HERE: [CLICK ME ▶️](https://forms.gle/876vi4aNoFf4A2mU7)"
      ]
    }
  ],
  "metadata": {
    "language_info": {
      "name": "python"
    },
    "colab": {
      "provenance": [],
      "gpuType": "T4"
    },
    "kernelspec": {
      "name": "python3",
      "display_name": "Python 3"
    },
    "accelerator": "GPU",
    "widgets": {
      "application/vnd.jupyter.widget-state+json": {
        "faaf8cdc17d2490897a07554f5c6b8de": {
          "model_module": "@jupyter-widgets/controls",
          "model_name": "HBoxModel",
          "model_module_version": "1.5.0",
          "state": {
            "_dom_classes": [],
            "_model_module": "@jupyter-widgets/controls",
            "_model_module_version": "1.5.0",
            "_model_name": "HBoxModel",
            "_view_count": null,
            "_view_module": "@jupyter-widgets/controls",
            "_view_module_version": "1.5.0",
            "_view_name": "HBoxView",
            "box_style": "",
            "children": [
              "IPY_MODEL_862f5dea413344d7a1393947dac51fbc",
              "IPY_MODEL_b1bfd406d49f4c9e90ffb5a8828ca157",
              "IPY_MODEL_c9a6d568f86d426aafcdc16c2fdf68a9"
            ],
            "layout": "IPY_MODEL_d3f49fad43bf43eca1c14e2fe6c71da4"
          }
        },
        "862f5dea413344d7a1393947dac51fbc": {
          "model_module": "@jupyter-widgets/controls",
          "model_name": "HTMLModel",
          "model_module_version": "1.5.0",
          "state": {
            "_dom_classes": [],
            "_model_module": "@jupyter-widgets/controls",
            "_model_module_version": "1.5.0",
            "_model_name": "HTMLModel",
            "_view_count": null,
            "_view_module": "@jupyter-widgets/controls",
            "_view_module_version": "1.5.0",
            "_view_name": "HTMLView",
            "description": "",
            "description_tooltip": null,
            "layout": "IPY_MODEL_9908273508e242b6a5b241bd412cdb6f",
            "placeholder": "​",
            "style": "IPY_MODEL_4e2d1b12ef014210a5abc957229fb711",
            "value": "100%"
          }
        },
        "b1bfd406d49f4c9e90ffb5a8828ca157": {
          "model_module": "@jupyter-widgets/controls",
          "model_name": "FloatProgressModel",
          "model_module_version": "1.5.0",
          "state": {
            "_dom_classes": [],
            "_model_module": "@jupyter-widgets/controls",
            "_model_module_version": "1.5.0",
            "_model_name": "FloatProgressModel",
            "_view_count": null,
            "_view_module": "@jupyter-widgets/controls",
            "_view_module_version": "1.5.0",
            "_view_name": "ProgressView",
            "bar_style": "success",
            "description": "",
            "description_tooltip": null,
            "layout": "IPY_MODEL_e8acc47670e84745a32f060718ac63ba",
            "max": 5,
            "min": 0,
            "orientation": "horizontal",
            "style": "IPY_MODEL_8b8391b1d5aa4b51b9faeb5f1251b0e5",
            "value": 5
          }
        },
        "c9a6d568f86d426aafcdc16c2fdf68a9": {
          "model_module": "@jupyter-widgets/controls",
          "model_name": "HTMLModel",
          "model_module_version": "1.5.0",
          "state": {
            "_dom_classes": [],
            "_model_module": "@jupyter-widgets/controls",
            "_model_module_version": "1.5.0",
            "_model_name": "HTMLModel",
            "_view_count": null,
            "_view_module": "@jupyter-widgets/controls",
            "_view_module_version": "1.5.0",
            "_view_name": "HTMLView",
            "description": "",
            "description_tooltip": null,
            "layout": "IPY_MODEL_88a01a41aa4946bc96097211dc138e75",
            "placeholder": "​",
            "style": "IPY_MODEL_a95b22767a5f428086603660fe30dd93",
            "value": " 5/5 [02:56&lt;00:00, 34.74s/it]"
          }
        },
        "d3f49fad43bf43eca1c14e2fe6c71da4": {
          "model_module": "@jupyter-widgets/base",
          "model_name": "LayoutModel",
          "model_module_version": "1.2.0",
          "state": {
            "_model_module": "@jupyter-widgets/base",
            "_model_module_version": "1.2.0",
            "_model_name": "LayoutModel",
            "_view_count": null,
            "_view_module": "@jupyter-widgets/base",
            "_view_module_version": "1.2.0",
            "_view_name": "LayoutView",
            "align_content": null,
            "align_items": null,
            "align_self": null,
            "border": null,
            "bottom": null,
            "display": null,
            "flex": null,
            "flex_flow": null,
            "grid_area": null,
            "grid_auto_columns": null,
            "grid_auto_flow": null,
            "grid_auto_rows": null,
            "grid_column": null,
            "grid_gap": null,
            "grid_row": null,
            "grid_template_areas": null,
            "grid_template_columns": null,
            "grid_template_rows": null,
            "height": null,
            "justify_content": null,
            "justify_items": null,
            "left": null,
            "margin": null,
            "max_height": null,
            "max_width": null,
            "min_height": null,
            "min_width": null,
            "object_fit": null,
            "object_position": null,
            "order": null,
            "overflow": null,
            "overflow_x": null,
            "overflow_y": null,
            "padding": null,
            "right": null,
            "top": null,
            "visibility": null,
            "width": null
          }
        },
        "9908273508e242b6a5b241bd412cdb6f": {
          "model_module": "@jupyter-widgets/base",
          "model_name": "LayoutModel",
          "model_module_version": "1.2.0",
          "state": {
            "_model_module": "@jupyter-widgets/base",
            "_model_module_version": "1.2.0",
            "_model_name": "LayoutModel",
            "_view_count": null,
            "_view_module": "@jupyter-widgets/base",
            "_view_module_version": "1.2.0",
            "_view_name": "LayoutView",
            "align_content": null,
            "align_items": null,
            "align_self": null,
            "border": null,
            "bottom": null,
            "display": null,
            "flex": null,
            "flex_flow": null,
            "grid_area": null,
            "grid_auto_columns": null,
            "grid_auto_flow": null,
            "grid_auto_rows": null,
            "grid_column": null,
            "grid_gap": null,
            "grid_row": null,
            "grid_template_areas": null,
            "grid_template_columns": null,
            "grid_template_rows": null,
            "height": null,
            "justify_content": null,
            "justify_items": null,
            "left": null,
            "margin": null,
            "max_height": null,
            "max_width": null,
            "min_height": null,
            "min_width": null,
            "object_fit": null,
            "object_position": null,
            "order": null,
            "overflow": null,
            "overflow_x": null,
            "overflow_y": null,
            "padding": null,
            "right": null,
            "top": null,
            "visibility": null,
            "width": null
          }
        },
        "4e2d1b12ef014210a5abc957229fb711": {
          "model_module": "@jupyter-widgets/controls",
          "model_name": "DescriptionStyleModel",
          "model_module_version": "1.5.0",
          "state": {
            "_model_module": "@jupyter-widgets/controls",
            "_model_module_version": "1.5.0",
            "_model_name": "DescriptionStyleModel",
            "_view_count": null,
            "_view_module": "@jupyter-widgets/base",
            "_view_module_version": "1.2.0",
            "_view_name": "StyleView",
            "description_width": ""
          }
        },
        "e8acc47670e84745a32f060718ac63ba": {
          "model_module": "@jupyter-widgets/base",
          "model_name": "LayoutModel",
          "model_module_version": "1.2.0",
          "state": {
            "_model_module": "@jupyter-widgets/base",
            "_model_module_version": "1.2.0",
            "_model_name": "LayoutModel",
            "_view_count": null,
            "_view_module": "@jupyter-widgets/base",
            "_view_module_version": "1.2.0",
            "_view_name": "LayoutView",
            "align_content": null,
            "align_items": null,
            "align_self": null,
            "border": null,
            "bottom": null,
            "display": null,
            "flex": null,
            "flex_flow": null,
            "grid_area": null,
            "grid_auto_columns": null,
            "grid_auto_flow": null,
            "grid_auto_rows": null,
            "grid_column": null,
            "grid_gap": null,
            "grid_row": null,
            "grid_template_areas": null,
            "grid_template_columns": null,
            "grid_template_rows": null,
            "height": null,
            "justify_content": null,
            "justify_items": null,
            "left": null,
            "margin": null,
            "max_height": null,
            "max_width": null,
            "min_height": null,
            "min_width": null,
            "object_fit": null,
            "object_position": null,
            "order": null,
            "overflow": null,
            "overflow_x": null,
            "overflow_y": null,
            "padding": null,
            "right": null,
            "top": null,
            "visibility": null,
            "width": null
          }
        },
        "8b8391b1d5aa4b51b9faeb5f1251b0e5": {
          "model_module": "@jupyter-widgets/controls",
          "model_name": "ProgressStyleModel",
          "model_module_version": "1.5.0",
          "state": {
            "_model_module": "@jupyter-widgets/controls",
            "_model_module_version": "1.5.0",
            "_model_name": "ProgressStyleModel",
            "_view_count": null,
            "_view_module": "@jupyter-widgets/base",
            "_view_module_version": "1.2.0",
            "_view_name": "StyleView",
            "bar_color": null,
            "description_width": ""
          }
        },
        "88a01a41aa4946bc96097211dc138e75": {
          "model_module": "@jupyter-widgets/base",
          "model_name": "LayoutModel",
          "model_module_version": "1.2.0",
          "state": {
            "_model_module": "@jupyter-widgets/base",
            "_model_module_version": "1.2.0",
            "_model_name": "LayoutModel",
            "_view_count": null,
            "_view_module": "@jupyter-widgets/base",
            "_view_module_version": "1.2.0",
            "_view_name": "LayoutView",
            "align_content": null,
            "align_items": null,
            "align_self": null,
            "border": null,
            "bottom": null,
            "display": null,
            "flex": null,
            "flex_flow": null,
            "grid_area": null,
            "grid_auto_columns": null,
            "grid_auto_flow": null,
            "grid_auto_rows": null,
            "grid_column": null,
            "grid_gap": null,
            "grid_row": null,
            "grid_template_areas": null,
            "grid_template_columns": null,
            "grid_template_rows": null,
            "height": null,
            "justify_content": null,
            "justify_items": null,
            "left": null,
            "margin": null,
            "max_height": null,
            "max_width": null,
            "min_height": null,
            "min_width": null,
            "object_fit": null,
            "object_position": null,
            "order": null,
            "overflow": null,
            "overflow_x": null,
            "overflow_y": null,
            "padding": null,
            "right": null,
            "top": null,
            "visibility": null,
            "width": null
          }
        },
        "a95b22767a5f428086603660fe30dd93": {
          "model_module": "@jupyter-widgets/controls",
          "model_name": "DescriptionStyleModel",
          "model_module_version": "1.5.0",
          "state": {
            "_model_module": "@jupyter-widgets/controls",
            "_model_module_version": "1.5.0",
            "_model_name": "DescriptionStyleModel",
            "_view_count": null,
            "_view_module": "@jupyter-widgets/base",
            "_view_module_version": "1.2.0",
            "_view_name": "StyleView",
            "description_width": ""
          }
        },
        "e91053ee248943a38e6aac3d5bc6928f": {
          "model_module": "@jupyter-widgets/controls",
          "model_name": "HBoxModel",
          "model_module_version": "1.5.0",
          "state": {
            "_dom_classes": [],
            "_model_module": "@jupyter-widgets/controls",
            "_model_module_version": "1.5.0",
            "_model_name": "HBoxModel",
            "_view_count": null,
            "_view_module": "@jupyter-widgets/controls",
            "_view_module_version": "1.5.0",
            "_view_name": "HBoxView",
            "box_style": "",
            "children": [
              "IPY_MODEL_8f8744e135944d7b88a7c84cad88ac08",
              "IPY_MODEL_37f22a836f9f4d319c4a1eb75e03c450",
              "IPY_MODEL_f8648882b5124d9f8736de6c9f7747ec"
            ],
            "layout": "IPY_MODEL_58e9bbf2bf5043a983825aaed9f8dc2a"
          }
        },
        "8f8744e135944d7b88a7c84cad88ac08": {
          "model_module": "@jupyter-widgets/controls",
          "model_name": "HTMLModel",
          "model_module_version": "1.5.0",
          "state": {
            "_dom_classes": [],
            "_model_module": "@jupyter-widgets/controls",
            "_model_module_version": "1.5.0",
            "_model_name": "HTMLModel",
            "_view_count": null,
            "_view_module": "@jupyter-widgets/controls",
            "_view_module_version": "1.5.0",
            "_view_name": "HTMLView",
            "description": "",
            "description_tooltip": null,
            "layout": "IPY_MODEL_aca72131342544c68fe6380d8000bef9",
            "placeholder": "​",
            "style": "IPY_MODEL_a73655d0e4134418ac8b577c7adafbf4",
            "value": "100%"
          }
        },
        "37f22a836f9f4d319c4a1eb75e03c450": {
          "model_module": "@jupyter-widgets/controls",
          "model_name": "FloatProgressModel",
          "model_module_version": "1.5.0",
          "state": {
            "_dom_classes": [],
            "_model_module": "@jupyter-widgets/controls",
            "_model_module_version": "1.5.0",
            "_model_name": "FloatProgressModel",
            "_view_count": null,
            "_view_module": "@jupyter-widgets/controls",
            "_view_module_version": "1.5.0",
            "_view_name": "ProgressView",
            "bar_style": "success",
            "description": "",
            "description_tooltip": null,
            "layout": "IPY_MODEL_c2486513c6724235b75abac329fae5b8",
            "max": 5,
            "min": 0,
            "orientation": "horizontal",
            "style": "IPY_MODEL_ee41675d9aaf4b1ea468b0a779e3cd21",
            "value": 5
          }
        },
        "f8648882b5124d9f8736de6c9f7747ec": {
          "model_module": "@jupyter-widgets/controls",
          "model_name": "HTMLModel",
          "model_module_version": "1.5.0",
          "state": {
            "_dom_classes": [],
            "_model_module": "@jupyter-widgets/controls",
            "_model_module_version": "1.5.0",
            "_model_name": "HTMLModel",
            "_view_count": null,
            "_view_module": "@jupyter-widgets/controls",
            "_view_module_version": "1.5.0",
            "_view_name": "HTMLView",
            "description": "",
            "description_tooltip": null,
            "layout": "IPY_MODEL_b46d10ff49864a68b1588504199a32b3",
            "placeholder": "​",
            "style": "IPY_MODEL_2a31d8723a4f42ca8f457273095ff51c",
            "value": " 5/5 [00:54&lt;00:00, 10.81s/it]"
          }
        },
        "58e9bbf2bf5043a983825aaed9f8dc2a": {
          "model_module": "@jupyter-widgets/base",
          "model_name": "LayoutModel",
          "model_module_version": "1.2.0",
          "state": {
            "_model_module": "@jupyter-widgets/base",
            "_model_module_version": "1.2.0",
            "_model_name": "LayoutModel",
            "_view_count": null,
            "_view_module": "@jupyter-widgets/base",
            "_view_module_version": "1.2.0",
            "_view_name": "LayoutView",
            "align_content": null,
            "align_items": null,
            "align_self": null,
            "border": null,
            "bottom": null,
            "display": null,
            "flex": null,
            "flex_flow": null,
            "grid_area": null,
            "grid_auto_columns": null,
            "grid_auto_flow": null,
            "grid_auto_rows": null,
            "grid_column": null,
            "grid_gap": null,
            "grid_row": null,
            "grid_template_areas": null,
            "grid_template_columns": null,
            "grid_template_rows": null,
            "height": null,
            "justify_content": null,
            "justify_items": null,
            "left": null,
            "margin": null,
            "max_height": null,
            "max_width": null,
            "min_height": null,
            "min_width": null,
            "object_fit": null,
            "object_position": null,
            "order": null,
            "overflow": null,
            "overflow_x": null,
            "overflow_y": null,
            "padding": null,
            "right": null,
            "top": null,
            "visibility": null,
            "width": null
          }
        },
        "aca72131342544c68fe6380d8000bef9": {
          "model_module": "@jupyter-widgets/base",
          "model_name": "LayoutModel",
          "model_module_version": "1.2.0",
          "state": {
            "_model_module": "@jupyter-widgets/base",
            "_model_module_version": "1.2.0",
            "_model_name": "LayoutModel",
            "_view_count": null,
            "_view_module": "@jupyter-widgets/base",
            "_view_module_version": "1.2.0",
            "_view_name": "LayoutView",
            "align_content": null,
            "align_items": null,
            "align_self": null,
            "border": null,
            "bottom": null,
            "display": null,
            "flex": null,
            "flex_flow": null,
            "grid_area": null,
            "grid_auto_columns": null,
            "grid_auto_flow": null,
            "grid_auto_rows": null,
            "grid_column": null,
            "grid_gap": null,
            "grid_row": null,
            "grid_template_areas": null,
            "grid_template_columns": null,
            "grid_template_rows": null,
            "height": null,
            "justify_content": null,
            "justify_items": null,
            "left": null,
            "margin": null,
            "max_height": null,
            "max_width": null,
            "min_height": null,
            "min_width": null,
            "object_fit": null,
            "object_position": null,
            "order": null,
            "overflow": null,
            "overflow_x": null,
            "overflow_y": null,
            "padding": null,
            "right": null,
            "top": null,
            "visibility": null,
            "width": null
          }
        },
        "a73655d0e4134418ac8b577c7adafbf4": {
          "model_module": "@jupyter-widgets/controls",
          "model_name": "DescriptionStyleModel",
          "model_module_version": "1.5.0",
          "state": {
            "_model_module": "@jupyter-widgets/controls",
            "_model_module_version": "1.5.0",
            "_model_name": "DescriptionStyleModel",
            "_view_count": null,
            "_view_module": "@jupyter-widgets/base",
            "_view_module_version": "1.2.0",
            "_view_name": "StyleView",
            "description_width": ""
          }
        },
        "c2486513c6724235b75abac329fae5b8": {
          "model_module": "@jupyter-widgets/base",
          "model_name": "LayoutModel",
          "model_module_version": "1.2.0",
          "state": {
            "_model_module": "@jupyter-widgets/base",
            "_model_module_version": "1.2.0",
            "_model_name": "LayoutModel",
            "_view_count": null,
            "_view_module": "@jupyter-widgets/base",
            "_view_module_version": "1.2.0",
            "_view_name": "LayoutView",
            "align_content": null,
            "align_items": null,
            "align_self": null,
            "border": null,
            "bottom": null,
            "display": null,
            "flex": null,
            "flex_flow": null,
            "grid_area": null,
            "grid_auto_columns": null,
            "grid_auto_flow": null,
            "grid_auto_rows": null,
            "grid_column": null,
            "grid_gap": null,
            "grid_row": null,
            "grid_template_areas": null,
            "grid_template_columns": null,
            "grid_template_rows": null,
            "height": null,
            "justify_content": null,
            "justify_items": null,
            "left": null,
            "margin": null,
            "max_height": null,
            "max_width": null,
            "min_height": null,
            "min_width": null,
            "object_fit": null,
            "object_position": null,
            "order": null,
            "overflow": null,
            "overflow_x": null,
            "overflow_y": null,
            "padding": null,
            "right": null,
            "top": null,
            "visibility": null,
            "width": null
          }
        },
        "ee41675d9aaf4b1ea468b0a779e3cd21": {
          "model_module": "@jupyter-widgets/controls",
          "model_name": "ProgressStyleModel",
          "model_module_version": "1.5.0",
          "state": {
            "_model_module": "@jupyter-widgets/controls",
            "_model_module_version": "1.5.0",
            "_model_name": "ProgressStyleModel",
            "_view_count": null,
            "_view_module": "@jupyter-widgets/base",
            "_view_module_version": "1.2.0",
            "_view_name": "StyleView",
            "bar_color": null,
            "description_width": ""
          }
        },
        "b46d10ff49864a68b1588504199a32b3": {
          "model_module": "@jupyter-widgets/base",
          "model_name": "LayoutModel",
          "model_module_version": "1.2.0",
          "state": {
            "_model_module": "@jupyter-widgets/base",
            "_model_module_version": "1.2.0",
            "_model_name": "LayoutModel",
            "_view_count": null,
            "_view_module": "@jupyter-widgets/base",
            "_view_module_version": "1.2.0",
            "_view_name": "LayoutView",
            "align_content": null,
            "align_items": null,
            "align_self": null,
            "border": null,
            "bottom": null,
            "display": null,
            "flex": null,
            "flex_flow": null,
            "grid_area": null,
            "grid_auto_columns": null,
            "grid_auto_flow": null,
            "grid_auto_rows": null,
            "grid_column": null,
            "grid_gap": null,
            "grid_row": null,
            "grid_template_areas": null,
            "grid_template_columns": null,
            "grid_template_rows": null,
            "height": null,
            "justify_content": null,
            "justify_items": null,
            "left": null,
            "margin": null,
            "max_height": null,
            "max_width": null,
            "min_height": null,
            "min_width": null,
            "object_fit": null,
            "object_position": null,
            "order": null,
            "overflow": null,
            "overflow_x": null,
            "overflow_y": null,
            "padding": null,
            "right": null,
            "top": null,
            "visibility": null,
            "width": null
          }
        },
        "2a31d8723a4f42ca8f457273095ff51c": {
          "model_module": "@jupyter-widgets/controls",
          "model_name": "DescriptionStyleModel",
          "model_module_version": "1.5.0",
          "state": {
            "_model_module": "@jupyter-widgets/controls",
            "_model_module_version": "1.5.0",
            "_model_name": "DescriptionStyleModel",
            "_view_count": null,
            "_view_module": "@jupyter-widgets/base",
            "_view_module_version": "1.2.0",
            "_view_name": "StyleView",
            "description_width": ""
          }
        },
        "c589fbd92d4142cd8c1cba35cb3babd8": {
          "model_module": "@jupyter-widgets/controls",
          "model_name": "HBoxModel",
          "model_module_version": "1.5.0",
          "state": {
            "_dom_classes": [],
            "_model_module": "@jupyter-widgets/controls",
            "_model_module_version": "1.5.0",
            "_model_name": "HBoxModel",
            "_view_count": null,
            "_view_module": "@jupyter-widgets/controls",
            "_view_module_version": "1.5.0",
            "_view_name": "HBoxView",
            "box_style": "",
            "children": [
              "IPY_MODEL_9cedd1d91c464be9957fa4bcb713b543",
              "IPY_MODEL_82de5366ab0b4f2ea63832788b6b83cc",
              "IPY_MODEL_010387c92b8c418dbe80d6da90890db8"
            ],
            "layout": "IPY_MODEL_be52e280f75a4c05a063b20093f53396"
          }
        },
        "9cedd1d91c464be9957fa4bcb713b543": {
          "model_module": "@jupyter-widgets/controls",
          "model_name": "HTMLModel",
          "model_module_version": "1.5.0",
          "state": {
            "_dom_classes": [],
            "_model_module": "@jupyter-widgets/controls",
            "_model_module_version": "1.5.0",
            "_model_name": "HTMLModel",
            "_view_count": null,
            "_view_module": "@jupyter-widgets/controls",
            "_view_module_version": "1.5.0",
            "_view_name": "HTMLView",
            "description": "",
            "description_tooltip": null,
            "layout": "IPY_MODEL_13d4337a96a341c4b288e6c87bfe5702",
            "placeholder": "​",
            "style": "IPY_MODEL_014e76016f9945f8be1abb41226cb41a",
            "value": ""
          }
        },
        "82de5366ab0b4f2ea63832788b6b83cc": {
          "model_module": "@jupyter-widgets/controls",
          "model_name": "FloatProgressModel",
          "model_module_version": "1.5.0",
          "state": {
            "_dom_classes": [],
            "_model_module": "@jupyter-widgets/controls",
            "_model_module_version": "1.5.0",
            "_model_name": "FloatProgressModel",
            "_view_count": null,
            "_view_module": "@jupyter-widgets/controls",
            "_view_module_version": "1.5.0",
            "_view_name": "ProgressView",
            "bar_style": "success",
            "description": "",
            "description_tooltip": null,
            "layout": "IPY_MODEL_7f62963f608e4aef80c5e65a2c50f6af",
            "max": 1,
            "min": 0,
            "orientation": "horizontal",
            "style": "IPY_MODEL_50278ea6df314bda85feeddeda651cfe",
            "value": 1
          }
        },
        "010387c92b8c418dbe80d6da90890db8": {
          "model_module": "@jupyter-widgets/controls",
          "model_name": "HTMLModel",
          "model_module_version": "1.5.0",
          "state": {
            "_dom_classes": [],
            "_model_module": "@jupyter-widgets/controls",
            "_model_module_version": "1.5.0",
            "_model_name": "HTMLModel",
            "_view_count": null,
            "_view_module": "@jupyter-widgets/controls",
            "_view_module_version": "1.5.0",
            "_view_name": "HTMLView",
            "description": "",
            "description_tooltip": null,
            "layout": "IPY_MODEL_65e7129a10a5426286756b7d3484dd00",
            "placeholder": "​",
            "style": "IPY_MODEL_a77a1e651e72480d993e444b7684a12f",
            "value": " 313/? [00:01&lt;00:00, 253.06it/s]"
          }
        },
        "be52e280f75a4c05a063b20093f53396": {
          "model_module": "@jupyter-widgets/base",
          "model_name": "LayoutModel",
          "model_module_version": "1.2.0",
          "state": {
            "_model_module": "@jupyter-widgets/base",
            "_model_module_version": "1.2.0",
            "_model_name": "LayoutModel",
            "_view_count": null,
            "_view_module": "@jupyter-widgets/base",
            "_view_module_version": "1.2.0",
            "_view_name": "LayoutView",
            "align_content": null,
            "align_items": null,
            "align_self": null,
            "border": null,
            "bottom": null,
            "display": null,
            "flex": null,
            "flex_flow": null,
            "grid_area": null,
            "grid_auto_columns": null,
            "grid_auto_flow": null,
            "grid_auto_rows": null,
            "grid_column": null,
            "grid_gap": null,
            "grid_row": null,
            "grid_template_areas": null,
            "grid_template_columns": null,
            "grid_template_rows": null,
            "height": null,
            "justify_content": null,
            "justify_items": null,
            "left": null,
            "margin": null,
            "max_height": null,
            "max_width": null,
            "min_height": null,
            "min_width": null,
            "object_fit": null,
            "object_position": null,
            "order": null,
            "overflow": null,
            "overflow_x": null,
            "overflow_y": null,
            "padding": null,
            "right": null,
            "top": null,
            "visibility": null,
            "width": null
          }
        },
        "13d4337a96a341c4b288e6c87bfe5702": {
          "model_module": "@jupyter-widgets/base",
          "model_name": "LayoutModel",
          "model_module_version": "1.2.0",
          "state": {
            "_model_module": "@jupyter-widgets/base",
            "_model_module_version": "1.2.0",
            "_model_name": "LayoutModel",
            "_view_count": null,
            "_view_module": "@jupyter-widgets/base",
            "_view_module_version": "1.2.0",
            "_view_name": "LayoutView",
            "align_content": null,
            "align_items": null,
            "align_self": null,
            "border": null,
            "bottom": null,
            "display": null,
            "flex": null,
            "flex_flow": null,
            "grid_area": null,
            "grid_auto_columns": null,
            "grid_auto_flow": null,
            "grid_auto_rows": null,
            "grid_column": null,
            "grid_gap": null,
            "grid_row": null,
            "grid_template_areas": null,
            "grid_template_columns": null,
            "grid_template_rows": null,
            "height": null,
            "justify_content": null,
            "justify_items": null,
            "left": null,
            "margin": null,
            "max_height": null,
            "max_width": null,
            "min_height": null,
            "min_width": null,
            "object_fit": null,
            "object_position": null,
            "order": null,
            "overflow": null,
            "overflow_x": null,
            "overflow_y": null,
            "padding": null,
            "right": null,
            "top": null,
            "visibility": null,
            "width": null
          }
        },
        "014e76016f9945f8be1abb41226cb41a": {
          "model_module": "@jupyter-widgets/controls",
          "model_name": "DescriptionStyleModel",
          "model_module_version": "1.5.0",
          "state": {
            "_model_module": "@jupyter-widgets/controls",
            "_model_module_version": "1.5.0",
            "_model_name": "DescriptionStyleModel",
            "_view_count": null,
            "_view_module": "@jupyter-widgets/base",
            "_view_module_version": "1.2.0",
            "_view_name": "StyleView",
            "description_width": ""
          }
        },
        "7f62963f608e4aef80c5e65a2c50f6af": {
          "model_module": "@jupyter-widgets/base",
          "model_name": "LayoutModel",
          "model_module_version": "1.2.0",
          "state": {
            "_model_module": "@jupyter-widgets/base",
            "_model_module_version": "1.2.0",
            "_model_name": "LayoutModel",
            "_view_count": null,
            "_view_module": "@jupyter-widgets/base",
            "_view_module_version": "1.2.0",
            "_view_name": "LayoutView",
            "align_content": null,
            "align_items": null,
            "align_self": null,
            "border": null,
            "bottom": null,
            "display": null,
            "flex": null,
            "flex_flow": null,
            "grid_area": null,
            "grid_auto_columns": null,
            "grid_auto_flow": null,
            "grid_auto_rows": null,
            "grid_column": null,
            "grid_gap": null,
            "grid_row": null,
            "grid_template_areas": null,
            "grid_template_columns": null,
            "grid_template_rows": null,
            "height": null,
            "justify_content": null,
            "justify_items": null,
            "left": null,
            "margin": null,
            "max_height": null,
            "max_width": null,
            "min_height": null,
            "min_width": null,
            "object_fit": null,
            "object_position": null,
            "order": null,
            "overflow": null,
            "overflow_x": null,
            "overflow_y": null,
            "padding": null,
            "right": null,
            "top": null,
            "visibility": null,
            "width": "20px"
          }
        },
        "50278ea6df314bda85feeddeda651cfe": {
          "model_module": "@jupyter-widgets/controls",
          "model_name": "ProgressStyleModel",
          "model_module_version": "1.5.0",
          "state": {
            "_model_module": "@jupyter-widgets/controls",
            "_model_module_version": "1.5.0",
            "_model_name": "ProgressStyleModel",
            "_view_count": null,
            "_view_module": "@jupyter-widgets/base",
            "_view_module_version": "1.2.0",
            "_view_name": "StyleView",
            "bar_color": null,
            "description_width": ""
          }
        },
        "65e7129a10a5426286756b7d3484dd00": {
          "model_module": "@jupyter-widgets/base",
          "model_name": "LayoutModel",
          "model_module_version": "1.2.0",
          "state": {
            "_model_module": "@jupyter-widgets/base",
            "_model_module_version": "1.2.0",
            "_model_name": "LayoutModel",
            "_view_count": null,
            "_view_module": "@jupyter-widgets/base",
            "_view_module_version": "1.2.0",
            "_view_name": "LayoutView",
            "align_content": null,
            "align_items": null,
            "align_self": null,
            "border": null,
            "bottom": null,
            "display": null,
            "flex": null,
            "flex_flow": null,
            "grid_area": null,
            "grid_auto_columns": null,
            "grid_auto_flow": null,
            "grid_auto_rows": null,
            "grid_column": null,
            "grid_gap": null,
            "grid_row": null,
            "grid_template_areas": null,
            "grid_template_columns": null,
            "grid_template_rows": null,
            "height": null,
            "justify_content": null,
            "justify_items": null,
            "left": null,
            "margin": null,
            "max_height": null,
            "max_width": null,
            "min_height": null,
            "min_width": null,
            "object_fit": null,
            "object_position": null,
            "order": null,
            "overflow": null,
            "overflow_x": null,
            "overflow_y": null,
            "padding": null,
            "right": null,
            "top": null,
            "visibility": null,
            "width": null
          }
        },
        "a77a1e651e72480d993e444b7684a12f": {
          "model_module": "@jupyter-widgets/controls",
          "model_name": "DescriptionStyleModel",
          "model_module_version": "1.5.0",
          "state": {
            "_model_module": "@jupyter-widgets/controls",
            "_model_module_version": "1.5.0",
            "_model_name": "DescriptionStyleModel",
            "_view_count": null,
            "_view_module": "@jupyter-widgets/base",
            "_view_module_version": "1.2.0",
            "_view_name": "StyleView",
            "description_width": ""
          }
        },
        "db9bd6b14c9a4a65b5aa4c8a89ff3e06": {
          "model_module": "@jupyter-widgets/controls",
          "model_name": "HBoxModel",
          "model_module_version": "1.5.0",
          "state": {
            "_dom_classes": [],
            "_model_module": "@jupyter-widgets/controls",
            "_model_module_version": "1.5.0",
            "_model_name": "HBoxModel",
            "_view_count": null,
            "_view_module": "@jupyter-widgets/controls",
            "_view_module_version": "1.5.0",
            "_view_name": "HBoxView",
            "box_style": "",
            "children": [
              "IPY_MODEL_02702dd45a2d4791b50eb6f2f4cb593c",
              "IPY_MODEL_5fd993be2e324c92b75a9c5be4d1a94d",
              "IPY_MODEL_2d9cd492a75744ce9b6b67cbff51118e"
            ],
            "layout": "IPY_MODEL_7d68340b4e2a409bb0da52e7f4575677"
          }
        },
        "02702dd45a2d4791b50eb6f2f4cb593c": {
          "model_module": "@jupyter-widgets/controls",
          "model_name": "HTMLModel",
          "model_module_version": "1.5.0",
          "state": {
            "_dom_classes": [],
            "_model_module": "@jupyter-widgets/controls",
            "_model_module_version": "1.5.0",
            "_model_name": "HTMLModel",
            "_view_count": null,
            "_view_module": "@jupyter-widgets/controls",
            "_view_module_version": "1.5.0",
            "_view_name": "HTMLView",
            "description": "",
            "description_tooltip": null,
            "layout": "IPY_MODEL_2439fa4a86fe4fcea48cb556b9d42536",
            "placeholder": "​",
            "style": "IPY_MODEL_dab95ade862c491cbae2ca4fdac745ab",
            "value": "100%"
          }
        },
        "5fd993be2e324c92b75a9c5be4d1a94d": {
          "model_module": "@jupyter-widgets/controls",
          "model_name": "FloatProgressModel",
          "model_module_version": "1.5.0",
          "state": {
            "_dom_classes": [],
            "_model_module": "@jupyter-widgets/controls",
            "_model_module_version": "1.5.0",
            "_model_name": "FloatProgressModel",
            "_view_count": null,
            "_view_module": "@jupyter-widgets/controls",
            "_view_module_version": "1.5.0",
            "_view_name": "ProgressView",
            "bar_style": "success",
            "description": "",
            "description_tooltip": null,
            "layout": "IPY_MODEL_8f82eaf8cbde4aaba6bcd5f224eb655d",
            "max": 5,
            "min": 0,
            "orientation": "horizontal",
            "style": "IPY_MODEL_7284a874f9dd47e898546c2db648cb53",
            "value": 5
          }
        },
        "2d9cd492a75744ce9b6b67cbff51118e": {
          "model_module": "@jupyter-widgets/controls",
          "model_name": "HTMLModel",
          "model_module_version": "1.5.0",
          "state": {
            "_dom_classes": [],
            "_model_module": "@jupyter-widgets/controls",
            "_model_module_version": "1.5.0",
            "_model_name": "HTMLModel",
            "_view_count": null,
            "_view_module": "@jupyter-widgets/controls",
            "_view_module_version": "1.5.0",
            "_view_name": "HTMLView",
            "description": "",
            "description_tooltip": null,
            "layout": "IPY_MODEL_caefd007ed2a454e8179f38a8451aac8",
            "placeholder": "​",
            "style": "IPY_MODEL_9986922baa374713b973e73e9692651e",
            "value": " 5/5 [01:03&lt;00:00, 12.69s/it]"
          }
        },
        "7d68340b4e2a409bb0da52e7f4575677": {
          "model_module": "@jupyter-widgets/base",
          "model_name": "LayoutModel",
          "model_module_version": "1.2.0",
          "state": {
            "_model_module": "@jupyter-widgets/base",
            "_model_module_version": "1.2.0",
            "_model_name": "LayoutModel",
            "_view_count": null,
            "_view_module": "@jupyter-widgets/base",
            "_view_module_version": "1.2.0",
            "_view_name": "LayoutView",
            "align_content": null,
            "align_items": null,
            "align_self": null,
            "border": null,
            "bottom": null,
            "display": null,
            "flex": null,
            "flex_flow": null,
            "grid_area": null,
            "grid_auto_columns": null,
            "grid_auto_flow": null,
            "grid_auto_rows": null,
            "grid_column": null,
            "grid_gap": null,
            "grid_row": null,
            "grid_template_areas": null,
            "grid_template_columns": null,
            "grid_template_rows": null,
            "height": null,
            "justify_content": null,
            "justify_items": null,
            "left": null,
            "margin": null,
            "max_height": null,
            "max_width": null,
            "min_height": null,
            "min_width": null,
            "object_fit": null,
            "object_position": null,
            "order": null,
            "overflow": null,
            "overflow_x": null,
            "overflow_y": null,
            "padding": null,
            "right": null,
            "top": null,
            "visibility": null,
            "width": null
          }
        },
        "2439fa4a86fe4fcea48cb556b9d42536": {
          "model_module": "@jupyter-widgets/base",
          "model_name": "LayoutModel",
          "model_module_version": "1.2.0",
          "state": {
            "_model_module": "@jupyter-widgets/base",
            "_model_module_version": "1.2.0",
            "_model_name": "LayoutModel",
            "_view_count": null,
            "_view_module": "@jupyter-widgets/base",
            "_view_module_version": "1.2.0",
            "_view_name": "LayoutView",
            "align_content": null,
            "align_items": null,
            "align_self": null,
            "border": null,
            "bottom": null,
            "display": null,
            "flex": null,
            "flex_flow": null,
            "grid_area": null,
            "grid_auto_columns": null,
            "grid_auto_flow": null,
            "grid_auto_rows": null,
            "grid_column": null,
            "grid_gap": null,
            "grid_row": null,
            "grid_template_areas": null,
            "grid_template_columns": null,
            "grid_template_rows": null,
            "height": null,
            "justify_content": null,
            "justify_items": null,
            "left": null,
            "margin": null,
            "max_height": null,
            "max_width": null,
            "min_height": null,
            "min_width": null,
            "object_fit": null,
            "object_position": null,
            "order": null,
            "overflow": null,
            "overflow_x": null,
            "overflow_y": null,
            "padding": null,
            "right": null,
            "top": null,
            "visibility": null,
            "width": null
          }
        },
        "dab95ade862c491cbae2ca4fdac745ab": {
          "model_module": "@jupyter-widgets/controls",
          "model_name": "DescriptionStyleModel",
          "model_module_version": "1.5.0",
          "state": {
            "_model_module": "@jupyter-widgets/controls",
            "_model_module_version": "1.5.0",
            "_model_name": "DescriptionStyleModel",
            "_view_count": null,
            "_view_module": "@jupyter-widgets/base",
            "_view_module_version": "1.2.0",
            "_view_name": "StyleView",
            "description_width": ""
          }
        },
        "8f82eaf8cbde4aaba6bcd5f224eb655d": {
          "model_module": "@jupyter-widgets/base",
          "model_name": "LayoutModel",
          "model_module_version": "1.2.0",
          "state": {
            "_model_module": "@jupyter-widgets/base",
            "_model_module_version": "1.2.0",
            "_model_name": "LayoutModel",
            "_view_count": null,
            "_view_module": "@jupyter-widgets/base",
            "_view_module_version": "1.2.0",
            "_view_name": "LayoutView",
            "align_content": null,
            "align_items": null,
            "align_self": null,
            "border": null,
            "bottom": null,
            "display": null,
            "flex": null,
            "flex_flow": null,
            "grid_area": null,
            "grid_auto_columns": null,
            "grid_auto_flow": null,
            "grid_auto_rows": null,
            "grid_column": null,
            "grid_gap": null,
            "grid_row": null,
            "grid_template_areas": null,
            "grid_template_columns": null,
            "grid_template_rows": null,
            "height": null,
            "justify_content": null,
            "justify_items": null,
            "left": null,
            "margin": null,
            "max_height": null,
            "max_width": null,
            "min_height": null,
            "min_width": null,
            "object_fit": null,
            "object_position": null,
            "order": null,
            "overflow": null,
            "overflow_x": null,
            "overflow_y": null,
            "padding": null,
            "right": null,
            "top": null,
            "visibility": null,
            "width": null
          }
        },
        "7284a874f9dd47e898546c2db648cb53": {
          "model_module": "@jupyter-widgets/controls",
          "model_name": "ProgressStyleModel",
          "model_module_version": "1.5.0",
          "state": {
            "_model_module": "@jupyter-widgets/controls",
            "_model_module_version": "1.5.0",
            "_model_name": "ProgressStyleModel",
            "_view_count": null,
            "_view_module": "@jupyter-widgets/base",
            "_view_module_version": "1.2.0",
            "_view_name": "StyleView",
            "bar_color": null,
            "description_width": ""
          }
        },
        "caefd007ed2a454e8179f38a8451aac8": {
          "model_module": "@jupyter-widgets/base",
          "model_name": "LayoutModel",
          "model_module_version": "1.2.0",
          "state": {
            "_model_module": "@jupyter-widgets/base",
            "_model_module_version": "1.2.0",
            "_model_name": "LayoutModel",
            "_view_count": null,
            "_view_module": "@jupyter-widgets/base",
            "_view_module_version": "1.2.0",
            "_view_name": "LayoutView",
            "align_content": null,
            "align_items": null,
            "align_self": null,
            "border": null,
            "bottom": null,
            "display": null,
            "flex": null,
            "flex_flow": null,
            "grid_area": null,
            "grid_auto_columns": null,
            "grid_auto_flow": null,
            "grid_auto_rows": null,
            "grid_column": null,
            "grid_gap": null,
            "grid_row": null,
            "grid_template_areas": null,
            "grid_template_columns": null,
            "grid_template_rows": null,
            "height": null,
            "justify_content": null,
            "justify_items": null,
            "left": null,
            "margin": null,
            "max_height": null,
            "max_width": null,
            "min_height": null,
            "min_width": null,
            "object_fit": null,
            "object_position": null,
            "order": null,
            "overflow": null,
            "overflow_x": null,
            "overflow_y": null,
            "padding": null,
            "right": null,
            "top": null,
            "visibility": null,
            "width": null
          }
        },
        "9986922baa374713b973e73e9692651e": {
          "model_module": "@jupyter-widgets/controls",
          "model_name": "DescriptionStyleModel",
          "model_module_version": "1.5.0",
          "state": {
            "_model_module": "@jupyter-widgets/controls",
            "_model_module_version": "1.5.0",
            "_model_name": "DescriptionStyleModel",
            "_view_count": null,
            "_view_module": "@jupyter-widgets/base",
            "_view_module_version": "1.2.0",
            "_view_name": "StyleView",
            "description_width": ""
          }
        },
        "a5f2dca98cab4725a90cff296a89f6ae": {
          "model_module": "@jupyter-widgets/controls",
          "model_name": "HBoxModel",
          "model_module_version": "1.5.0",
          "state": {
            "_dom_classes": [],
            "_model_module": "@jupyter-widgets/controls",
            "_model_module_version": "1.5.0",
            "_model_name": "HBoxModel",
            "_view_count": null,
            "_view_module": "@jupyter-widgets/controls",
            "_view_module_version": "1.5.0",
            "_view_name": "HBoxView",
            "box_style": "",
            "children": [
              "IPY_MODEL_57319a76351c4c6ebbb4005f12a7dbdf",
              "IPY_MODEL_cb3afa48f2d948eca333a9031746435f",
              "IPY_MODEL_53e774419f044cbbba0abfc739dbb270"
            ],
            "layout": "IPY_MODEL_1afd2b1f1989439aa345b66a52c27335"
          }
        },
        "57319a76351c4c6ebbb4005f12a7dbdf": {
          "model_module": "@jupyter-widgets/controls",
          "model_name": "HTMLModel",
          "model_module_version": "1.5.0",
          "state": {
            "_dom_classes": [],
            "_model_module": "@jupyter-widgets/controls",
            "_model_module_version": "1.5.0",
            "_model_name": "HTMLModel",
            "_view_count": null,
            "_view_module": "@jupyter-widgets/controls",
            "_view_module_version": "1.5.0",
            "_view_name": "HTMLView",
            "description": "",
            "description_tooltip": null,
            "layout": "IPY_MODEL_af1c0def71bf46fab60d5622e5e99662",
            "placeholder": "​",
            "style": "IPY_MODEL_4d03df464ad048a5ae7319a7ad9efb97",
            "value": "100%"
          }
        },
        "cb3afa48f2d948eca333a9031746435f": {
          "model_module": "@jupyter-widgets/controls",
          "model_name": "FloatProgressModel",
          "model_module_version": "1.5.0",
          "state": {
            "_dom_classes": [],
            "_model_module": "@jupyter-widgets/controls",
            "_model_module_version": "1.5.0",
            "_model_name": "FloatProgressModel",
            "_view_count": null,
            "_view_module": "@jupyter-widgets/controls",
            "_view_module_version": "1.5.0",
            "_view_name": "ProgressView",
            "bar_style": "success",
            "description": "",
            "description_tooltip": null,
            "layout": "IPY_MODEL_07c909510e5a49a3b668a6debf04995d",
            "max": 313,
            "min": 0,
            "orientation": "horizontal",
            "style": "IPY_MODEL_e77a06a3183840f5bad98bd753466ea4",
            "value": 313
          }
        },
        "53e774419f044cbbba0abfc739dbb270": {
          "model_module": "@jupyter-widgets/controls",
          "model_name": "HTMLModel",
          "model_module_version": "1.5.0",
          "state": {
            "_dom_classes": [],
            "_model_module": "@jupyter-widgets/controls",
            "_model_module_version": "1.5.0",
            "_model_name": "HTMLModel",
            "_view_count": null,
            "_view_module": "@jupyter-widgets/controls",
            "_view_module_version": "1.5.0",
            "_view_name": "HTMLView",
            "description": "",
            "description_tooltip": null,
            "layout": "IPY_MODEL_564bc3b407314a9b8f71239d23d6b88b",
            "placeholder": "​",
            "style": "IPY_MODEL_16427b4f61c641be81813bef4c8f072f",
            "value": " 313/313 [00:01&lt;00:00, 268.14it/s]"
          }
        },
        "1afd2b1f1989439aa345b66a52c27335": {
          "model_module": "@jupyter-widgets/base",
          "model_name": "LayoutModel",
          "model_module_version": "1.2.0",
          "state": {
            "_model_module": "@jupyter-widgets/base",
            "_model_module_version": "1.2.0",
            "_model_name": "LayoutModel",
            "_view_count": null,
            "_view_module": "@jupyter-widgets/base",
            "_view_module_version": "1.2.0",
            "_view_name": "LayoutView",
            "align_content": null,
            "align_items": null,
            "align_self": null,
            "border": null,
            "bottom": null,
            "display": null,
            "flex": null,
            "flex_flow": null,
            "grid_area": null,
            "grid_auto_columns": null,
            "grid_auto_flow": null,
            "grid_auto_rows": null,
            "grid_column": null,
            "grid_gap": null,
            "grid_row": null,
            "grid_template_areas": null,
            "grid_template_columns": null,
            "grid_template_rows": null,
            "height": null,
            "justify_content": null,
            "justify_items": null,
            "left": null,
            "margin": null,
            "max_height": null,
            "max_width": null,
            "min_height": null,
            "min_width": null,
            "object_fit": null,
            "object_position": null,
            "order": null,
            "overflow": null,
            "overflow_x": null,
            "overflow_y": null,
            "padding": null,
            "right": null,
            "top": null,
            "visibility": null,
            "width": null
          }
        },
        "af1c0def71bf46fab60d5622e5e99662": {
          "model_module": "@jupyter-widgets/base",
          "model_name": "LayoutModel",
          "model_module_version": "1.2.0",
          "state": {
            "_model_module": "@jupyter-widgets/base",
            "_model_module_version": "1.2.0",
            "_model_name": "LayoutModel",
            "_view_count": null,
            "_view_module": "@jupyter-widgets/base",
            "_view_module_version": "1.2.0",
            "_view_name": "LayoutView",
            "align_content": null,
            "align_items": null,
            "align_self": null,
            "border": null,
            "bottom": null,
            "display": null,
            "flex": null,
            "flex_flow": null,
            "grid_area": null,
            "grid_auto_columns": null,
            "grid_auto_flow": null,
            "grid_auto_rows": null,
            "grid_column": null,
            "grid_gap": null,
            "grid_row": null,
            "grid_template_areas": null,
            "grid_template_columns": null,
            "grid_template_rows": null,
            "height": null,
            "justify_content": null,
            "justify_items": null,
            "left": null,
            "margin": null,
            "max_height": null,
            "max_width": null,
            "min_height": null,
            "min_width": null,
            "object_fit": null,
            "object_position": null,
            "order": null,
            "overflow": null,
            "overflow_x": null,
            "overflow_y": null,
            "padding": null,
            "right": null,
            "top": null,
            "visibility": null,
            "width": null
          }
        },
        "4d03df464ad048a5ae7319a7ad9efb97": {
          "model_module": "@jupyter-widgets/controls",
          "model_name": "DescriptionStyleModel",
          "model_module_version": "1.5.0",
          "state": {
            "_model_module": "@jupyter-widgets/controls",
            "_model_module_version": "1.5.0",
            "_model_name": "DescriptionStyleModel",
            "_view_count": null,
            "_view_module": "@jupyter-widgets/base",
            "_view_module_version": "1.2.0",
            "_view_name": "StyleView",
            "description_width": ""
          }
        },
        "07c909510e5a49a3b668a6debf04995d": {
          "model_module": "@jupyter-widgets/base",
          "model_name": "LayoutModel",
          "model_module_version": "1.2.0",
          "state": {
            "_model_module": "@jupyter-widgets/base",
            "_model_module_version": "1.2.0",
            "_model_name": "LayoutModel",
            "_view_count": null,
            "_view_module": "@jupyter-widgets/base",
            "_view_module_version": "1.2.0",
            "_view_name": "LayoutView",
            "align_content": null,
            "align_items": null,
            "align_self": null,
            "border": null,
            "bottom": null,
            "display": null,
            "flex": null,
            "flex_flow": null,
            "grid_area": null,
            "grid_auto_columns": null,
            "grid_auto_flow": null,
            "grid_auto_rows": null,
            "grid_column": null,
            "grid_gap": null,
            "grid_row": null,
            "grid_template_areas": null,
            "grid_template_columns": null,
            "grid_template_rows": null,
            "height": null,
            "justify_content": null,
            "justify_items": null,
            "left": null,
            "margin": null,
            "max_height": null,
            "max_width": null,
            "min_height": null,
            "min_width": null,
            "object_fit": null,
            "object_position": null,
            "order": null,
            "overflow": null,
            "overflow_x": null,
            "overflow_y": null,
            "padding": null,
            "right": null,
            "top": null,
            "visibility": null,
            "width": null
          }
        },
        "e77a06a3183840f5bad98bd753466ea4": {
          "model_module": "@jupyter-widgets/controls",
          "model_name": "ProgressStyleModel",
          "model_module_version": "1.5.0",
          "state": {
            "_model_module": "@jupyter-widgets/controls",
            "_model_module_version": "1.5.0",
            "_model_name": "ProgressStyleModel",
            "_view_count": null,
            "_view_module": "@jupyter-widgets/base",
            "_view_module_version": "1.2.0",
            "_view_name": "StyleView",
            "bar_color": null,
            "description_width": ""
          }
        },
        "564bc3b407314a9b8f71239d23d6b88b": {
          "model_module": "@jupyter-widgets/base",
          "model_name": "LayoutModel",
          "model_module_version": "1.2.0",
          "state": {
            "_model_module": "@jupyter-widgets/base",
            "_model_module_version": "1.2.0",
            "_model_name": "LayoutModel",
            "_view_count": null,
            "_view_module": "@jupyter-widgets/base",
            "_view_module_version": "1.2.0",
            "_view_name": "LayoutView",
            "align_content": null,
            "align_items": null,
            "align_self": null,
            "border": null,
            "bottom": null,
            "display": null,
            "flex": null,
            "flex_flow": null,
            "grid_area": null,
            "grid_auto_columns": null,
            "grid_auto_flow": null,
            "grid_auto_rows": null,
            "grid_column": null,
            "grid_gap": null,
            "grid_row": null,
            "grid_template_areas": null,
            "grid_template_columns": null,
            "grid_template_rows": null,
            "height": null,
            "justify_content": null,
            "justify_items": null,
            "left": null,
            "margin": null,
            "max_height": null,
            "max_width": null,
            "min_height": null,
            "min_width": null,
            "object_fit": null,
            "object_position": null,
            "order": null,
            "overflow": null,
            "overflow_x": null,
            "overflow_y": null,
            "padding": null,
            "right": null,
            "top": null,
            "visibility": null,
            "width": null
          }
        },
        "16427b4f61c641be81813bef4c8f072f": {
          "model_module": "@jupyter-widgets/controls",
          "model_name": "DescriptionStyleModel",
          "model_module_version": "1.5.0",
          "state": {
            "_model_module": "@jupyter-widgets/controls",
            "_model_module_version": "1.5.0",
            "_model_name": "DescriptionStyleModel",
            "_view_count": null,
            "_view_module": "@jupyter-widgets/base",
            "_view_module_version": "1.2.0",
            "_view_name": "StyleView",
            "description_width": ""
          }
        }
      }
    }
  },
  "nbformat": 4,
  "nbformat_minor": 0
}
{
 "cells": [
  {
   "cell_type": "markdown",
   "metadata": {},
   "source": [
    "<a href=\"https://colab.research.google.com/github/arewadataScience/ArewaDS-Deep-Learning/blob/main/Part_1_Deep_Learning_with_Pytorch/week1/week_1_exercises.ipynb\" target=\"_parent\"><img src=\"https://colab.research.google.com/assets/colab-badge.svg\" alt=\"Open In Colab\"/></a> "
   ]
  },
  {
   "cell_type": "markdown",
   "metadata": {
    "tags": []
   },
   "source": [
    "### **Arewa Data Science Academy**\n",
    "\n",
    "#### **Deep Learning Cohort2.0**\n",
    "\n",
    "##### Name: Yahya Abdurrazaq\n",
    "\n",
    "##### Email: yahyarimi01@.com\n",
    "\n",
    "##### Title: Week 1 Solution"
   ]
  },
  {
   "cell_type": "markdown",
   "metadata": {
    "tags": []
   },
   "source": [
    "### **Exercises Solution**"
   ]
  },
  {
   "cell_type": "markdown",
   "metadata": {
    "vscode": {
     "languageId": "plaintext"
    }
   },
   "source": [
    "2. Create a random tensor with shape(7, 7)."
   ]
  },
  {
   "cell_type": "code",
   "execution_count": 4,
   "metadata": {
    "tags": []
   },
   "outputs": [
    {
     "data": {
      "text/plain": [
       "tensor([[0.3205, 0.0299, 0.0416, 0.3861, 0.3843, 0.5918, 0.4749],\n",
       "        [0.2777, 0.4252, 0.5363, 0.3184, 0.5247, 0.1867, 0.3835],\n",
       "        [0.6627, 0.2282, 0.0371, 0.2491, 0.7597, 0.0250, 0.2968],\n",
       "        [0.0266, 0.9683, 0.0716, 0.3822, 0.6271, 0.9164, 0.1989],\n",
       "        [0.0606, 0.9696, 0.9433, 0.5076, 0.3526, 0.6725, 0.4309],\n",
       "        [0.6936, 0.4018, 0.7487, 0.7740, 0.4409, 0.1899, 0.6568],\n",
       "        [0.2208, 0.4101, 0.0415, 0.7846, 0.3151, 0.2563, 0.2151]])"
      ]
     },
     "execution_count": 4,
     "metadata": {},
     "output_type": "execute_result"
    }
   ],
   "source": [
    "import torch\n",
    "import random\n",
    "\n",
    "random_tensor = torch.rand(7, 7)\n",
    "random_tensor"
   ]
  },
  {
   "cell_type": "markdown",
   "metadata": {},
   "source": [
    "3.  Perform a matrix multiplication on the tensor from 2 with another random tensor with shape (1, 7) (hint: you may have to transpose the second tensor)."
   ]
  },
  {
   "cell_type": "code",
   "execution_count": 12,
   "metadata": {
    "tags": []
   },
   "outputs": [
    {
     "data": {
      "text/plain": [
       "tensor([[1.2446],\n",
       "        [1.2706],\n",
       "        [1.0188],\n",
       "        [2.2646],\n",
       "        [2.1633],\n",
       "        [1.6977],\n",
       "        [1.4601]])"
      ]
     },
     "execution_count": 12,
     "metadata": {},
     "output_type": "execute_result"
    }
   ],
   "source": [
    "random_tensor_2 = torch.rand(1, 7)\n",
    "random_tensor_2_trans = random_tensor_2.T\n",
    "\n",
    "result = torch.matmul(random_tensor, random_tensor_2_trans)\n",
    "result"
   ]
  },
  {
   "cell_type": "markdown",
   "metadata": {},
   "source": [
    "4. Set the random seed to 0 and do 2 & 3 over again."
   ]
  },
  {
   "cell_type": "code",
   "execution_count": 24,
   "metadata": {
    "tags": []
   },
   "outputs": [
    {
     "data": {
      "text/plain": [
       "(tensor([[1.5985],\n",
       "         [1.1173],\n",
       "         [1.2741],\n",
       "         [1.6838],\n",
       "         [0.8279],\n",
       "         [1.0347],\n",
       "         [1.2498]]),\n",
       " torch.Size([7, 1]))"
      ]
     },
     "execution_count": 24,
     "metadata": {},
     "output_type": "execute_result"
    }
   ],
   "source": [
    "RANDOM_SEED=0\n",
    "\n",
    "torch.manual_seed(seed=RANDOM_SEED)\n",
    "random_tensor_A = torch.rand(7, 7)\n",
    "\n",
    "torch.random.manual_seed(seed=RANDOM_SEED)\n",
    "random_tensor_B = torch.rand(1, 7)\n",
    "random_tensor_B = random_tensor_B.T\n",
    "\n",
    "result_2 = random_tensor_A @ random_tensor_B\n",
    "result_2, result_2.shape"
   ]
  },
  {
   "cell_type": "markdown",
   "metadata": {},
   "source": [
    "5. Speaking of random seeds, we saw how to set it with torch.manual_seed() but is there a GPU equivalent? (hint: you'll need to look into the documentation for torch.cuda for this one)"
   ]
  },
  {
   "cell_type": "code",
   "execution_count": 25,
   "metadata": {
    "tags": []
   },
   "outputs": [],
   "source": [
    "torch.cuda.manual_seed(0)"
   ]
  },
  {
   "cell_type": "markdown",
   "metadata": {},
   "source": [
    "6. Create two random tensors of shape (2, 3) and send them both to the GPU (you'll need access to a GPU for this). Set torch.manual_seed(1234) when creating the tensors (this doesn't have to be the GPU random seed). The output should be something like:"
   ]
  },
  {
   "cell_type": "code",
   "execution_count": 39,
   "metadata": {
    "tags": []
   },
   "outputs": [
    {
     "name": "stderr",
     "output_type": "stream",
     "text": [
      "'nvidia-smi' is not recognized as an internal or external command,\n",
      "operable program or batch file.\n"
     ]
    },
    {
     "data": {
      "text/plain": [
       "(tensor([[0.7749, 0.8208, 0.2793],\n",
       "         [0.6817, 0.2837, 0.6567]]),\n",
       " tensor([[0.0290, 0.4019, 0.2598],\n",
       "         [0.3666, 0.0583, 0.7006]]))"
      ]
     },
     "execution_count": 39,
     "metadata": {},
     "output_type": "execute_result"
    }
   ],
   "source": [
    "RANDOM_SEED = 1234\n",
    "\n",
    "!nvidia-smi\n",
    "torch.cuda.is_available()\n",
    "\n",
    "torch.cuda.manual_seed(RANDOM_SEED)\n",
    "random_tensor_C = torch.rand(2, 3, device='cpu')\n",
    "\n",
    "torch.random.manual_seed(RANDOM_SEED)\n",
    "random_tensor_D = torch.rand(2, 3, device='cpu')\n",
    "\n",
    "random_tensor_C, random_tensor_D"
   ]
  },
  {
   "cell_type": "markdown",
   "metadata": {},
   "source": [
    "7. Perform a matrix multiplication on the tensors you created in 6 (again, you may have to adjust the shapes of one of the tensors)."
   ]
  },
  {
   "cell_type": "code",
   "execution_count": 42,
   "metadata": {
    "tags": []
   },
   "outputs": [
    {
     "data": {
      "text/plain": [
       "(tensor([[0.4249, 0.5276],\n",
       "         [0.3044, 0.7266]]),\n",
       " device(type='cpu'),\n",
       " torch.Size([2, 2]))"
      ]
     },
     "execution_count": 42,
     "metadata": {},
     "output_type": "execute_result"
    }
   ],
   "source": [
    "result_3 = torch.matmul(random_tensor_C, random_tensor_D.T)\n",
    "result_3, result_3.device, result_3.shape"
   ]
  },
  {
   "cell_type": "markdown",
   "metadata": {},
   "source": [
    "8. Find the maximum and minimum values of the output of 7"
   ]
  },
  {
   "cell_type": "code",
   "execution_count": 43,
   "metadata": {
    "tags": []
   },
   "outputs": [
    {
     "data": {
      "text/plain": [
       "(tensor(3), tensor(2))"
      ]
     },
     "execution_count": 43,
     "metadata": {},
     "output_type": "execute_result"
    }
   ],
   "source": [
    "maximum = torch.argmax(result_3)\n",
    "minimum = torch.argmin(result_3)\n",
    "\n",
    "maximum, minimum"
   ]
  },
  {
   "cell_type": "markdown",
   "metadata": {},
   "source": [
    "10. Make a random tensor with shape (1, 1, 1, 10) and then create a new tensor with all the 1 dimensions removed to be left with a tensor of shape (10). Set the seed to 7 when you create it and print out the first tensor and it's shape as well as the second tensor and it's shape.\n"
   ]
  },
  {
   "cell_type": "code",
   "execution_count": 48,
   "metadata": {
    "tags": []
   },
   "outputs": [
    {
     "data": {
      "text/plain": [
       "(tensor([[[[0.5349, 0.1988, 0.6592, 0.6569, 0.2328, 0.4251, 0.2071, 0.6297,\n",
       "            0.3653, 0.8513]]]]),\n",
       " torch.Size([1, 1, 1, 10]),\n",
       " tensor([0.5349, 0.1988, 0.6592, 0.6569, 0.2328, 0.4251, 0.2071, 0.6297, 0.3653,\n",
       "         0.8513]),\n",
       " torch.Size([10]))"
      ]
     },
     "execution_count": 48,
     "metadata": {},
     "output_type": "execute_result"
    }
   ],
   "source": [
    "RANDOM_SEED=7\n",
    "\n",
    "torch.manual_seed(RANDOM_SEED)\n",
    "random_tensor_E = torch.rand(1,1,1,10)\n",
    "\n",
    "torch.random.manual_seed(RANDOM_SEED)\n",
    "random_tensor_F = torch.rand(10)\n",
    "\n",
    "random_tensor_E, random_tensor_E.shape, random_tensor_F, random_tensor_F.shape"
   ]
  },
  {
   "cell_type": "code",
   "execution_count": null,
   "metadata": {},
   "outputs": [],
   "source": []
  }
 ],
 "metadata": {
  "kernelspec": {
   "display_name": "Python 3 (ipykernel)",
   "language": "python",
   "name": "python3"
  },
  "language_info": {
   "codemirror_mode": {
    "name": "ipython",
    "version": 3
   },
   "file_extension": ".py",
   "mimetype": "text/x-python",
   "name": "python",
   "nbconvert_exporter": "python",
   "pygments_lexer": "ipython3",
   "version": "3.7.0"
  }
 },
 "nbformat": 4,
 "nbformat_minor": 4
}
